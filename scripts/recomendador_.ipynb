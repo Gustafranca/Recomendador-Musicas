{
 "cells": [
  {
   "cell_type": "code",
   "execution_count": 9,
   "metadata": {},
   "outputs": [],
   "source": [
    "import pandas as pd\n",
    "import numpy as np\n",
    "#importando data\n",
    "dados = pd.read_csv(\"../data/Dados_totais.csv\")\n",
    "dados_generos =  pd.read_csv(\"../data/data_by_genres.csv\")\n",
    "dados_anos = pd.read_csv(\"../data/data_by_year.csv\")\n",
    "\n",
    "#Removendo colunas que não influenciaram \n",
    "dados.drop(['explicit','key','mode'],axis=1)\n",
    "\n",
    "dados_generos.drop(['key','mode'],axis=1)\n",
    "\n",
    "#Recomendando musicas pós anos 2000\n",
    "dados_anos = dados_anos[dados_anos[\"year\"]>=2000]\n",
    "dados_anos.drop(['mode','key'],axis=1)\n",
    "\n",
    "dados_generos = dados_generos.drop([\"mode\"], axis=1)\n",
    "dados_generos1 = dados_generos.drop(['genres'],axis=1)\n",
    "\n"
   ]
  },
  {
   "cell_type": "code",
   "execution_count": 10,
   "metadata": {},
   "outputs": [
    {
     "data": {
      "text/html": [
       "<div>\n",
       "<style scoped>\n",
       "    .dataframe tbody tr th:only-of-type {\n",
       "        vertical-align: middle;\n",
       "    }\n",
       "\n",
       "    .dataframe tbody tr th {\n",
       "        vertical-align: top;\n",
       "    }\n",
       "\n",
       "    .dataframe thead th {\n",
       "        text-align: right;\n",
       "    }\n",
       "</style>\n",
       "<table border=\"1\" class=\"dataframe\">\n",
       "  <thead>\n",
       "    <tr style=\"text-align: right;\">\n",
       "      <th></th>\n",
       "      <th>valence</th>\n",
       "      <th>year</th>\n",
       "      <th>acousticness</th>\n",
       "      <th>artists</th>\n",
       "      <th>danceability</th>\n",
       "      <th>duration_ms</th>\n",
       "      <th>energy</th>\n",
       "      <th>explicit</th>\n",
       "      <th>id</th>\n",
       "      <th>instrumentalness</th>\n",
       "      <th>key</th>\n",
       "      <th>liveness</th>\n",
       "      <th>loudness</th>\n",
       "      <th>mode</th>\n",
       "      <th>name</th>\n",
       "      <th>popularity</th>\n",
       "      <th>speechiness</th>\n",
       "      <th>tempo</th>\n",
       "      <th>artists_song</th>\n",
       "    </tr>\n",
       "  </thead>\n",
       "  <tbody>\n",
       "    <tr>\n",
       "      <th>20306</th>\n",
       "      <td>0.187</td>\n",
       "      <td>2020</td>\n",
       "      <td>0.57400</td>\n",
       "      <td>Bazzi</td>\n",
       "      <td>0.445</td>\n",
       "      <td>176250</td>\n",
       "      <td>0.330</td>\n",
       "      <td>0</td>\n",
       "      <td>0PUkanqCGTb6qseXPKOw1F</td>\n",
       "      <td>0.000000</td>\n",
       "      <td>9</td>\n",
       "      <td>0.102</td>\n",
       "      <td>-8.121</td>\n",
       "      <td>1</td>\n",
       "      <td>I Don't Think I'm Okay</td>\n",
       "      <td>69</td>\n",
       "      <td>0.0429</td>\n",
       "      <td>128.025</td>\n",
       "      <td>Bazzi - I Don't Think I'm Okay</td>\n",
       "    </tr>\n",
       "    <tr>\n",
       "      <th>20307</th>\n",
       "      <td>0.240</td>\n",
       "      <td>2020</td>\n",
       "      <td>0.81500</td>\n",
       "      <td>Bryson Tiller</td>\n",
       "      <td>0.467</td>\n",
       "      <td>179188</td>\n",
       "      <td>0.429</td>\n",
       "      <td>0</td>\n",
       "      <td>6Iw6fQVKZi0fWtEQBrTFcP</td>\n",
       "      <td>0.000052</td>\n",
       "      <td>6</td>\n",
       "      <td>0.177</td>\n",
       "      <td>-8.689</td>\n",
       "      <td>0</td>\n",
       "      <td>Timeless Interlude</td>\n",
       "      <td>65</td>\n",
       "      <td>0.0964</td>\n",
       "      <td>148.530</td>\n",
       "      <td>Bryson Tiller - Timeless Interlude</td>\n",
       "    </tr>\n",
       "    <tr>\n",
       "      <th>20308</th>\n",
       "      <td>0.466</td>\n",
       "      <td>2020</td>\n",
       "      <td>0.31000</td>\n",
       "      <td>Fleet Foxes</td>\n",
       "      <td>0.562</td>\n",
       "      <td>253613</td>\n",
       "      <td>0.686</td>\n",
       "      <td>0</td>\n",
       "      <td>308prODCCD0O660tIktbUi</td>\n",
       "      <td>0.022500</td>\n",
       "      <td>7</td>\n",
       "      <td>0.125</td>\n",
       "      <td>-8.480</td>\n",
       "      <td>1</td>\n",
       "      <td>Sunblind</td>\n",
       "      <td>66</td>\n",
       "      <td>0.0249</td>\n",
       "      <td>103.054</td>\n",
       "      <td>Fleet Foxes - Sunblind</td>\n",
       "    </tr>\n",
       "    <tr>\n",
       "      <th>20309</th>\n",
       "      <td>0.522</td>\n",
       "      <td>2020</td>\n",
       "      <td>0.20400</td>\n",
       "      <td>Gunna</td>\n",
       "      <td>0.598</td>\n",
       "      <td>230600</td>\n",
       "      <td>0.472</td>\n",
       "      <td>1</td>\n",
       "      <td>2f8y4CuG57UJEmkG3ujd0D</td>\n",
       "      <td>0.000015</td>\n",
       "      <td>0</td>\n",
       "      <td>0.108</td>\n",
       "      <td>-10.991</td>\n",
       "      <td>1</td>\n",
       "      <td>NASTY GIRL / ON CAMERA</td>\n",
       "      <td>66</td>\n",
       "      <td>0.2580</td>\n",
       "      <td>120.080</td>\n",
       "      <td>Gunna - NASTY GIRL / ON CAMERA</td>\n",
       "    </tr>\n",
       "    <tr>\n",
       "      <th>20310</th>\n",
       "      <td>0.195</td>\n",
       "      <td>2020</td>\n",
       "      <td>0.00998</td>\n",
       "      <td>Eminem</td>\n",
       "      <td>0.671</td>\n",
       "      <td>337147</td>\n",
       "      <td>0.623</td>\n",
       "      <td>1</td>\n",
       "      <td>5SiZJoLXp3WOl3J4C8IK0d</td>\n",
       "      <td>0.000008</td>\n",
       "      <td>2</td>\n",
       "      <td>0.643</td>\n",
       "      <td>-7.161</td>\n",
       "      <td>1</td>\n",
       "      <td>Darkness</td>\n",
       "      <td>70</td>\n",
       "      <td>0.3080</td>\n",
       "      <td>75.055</td>\n",
       "      <td>Eminem - Darkness</td>\n",
       "    </tr>\n",
       "  </tbody>\n",
       "</table>\n",
       "</div>"
      ],
      "text/plain": [
       "       valence  year  acousticness        artists  danceability  duration_ms  \\\n",
       "20306    0.187  2020       0.57400          Bazzi         0.445       176250   \n",
       "20307    0.240  2020       0.81500  Bryson Tiller         0.467       179188   \n",
       "20308    0.466  2020       0.31000    Fleet Foxes         0.562       253613   \n",
       "20309    0.522  2020       0.20400          Gunna         0.598       230600   \n",
       "20310    0.195  2020       0.00998         Eminem         0.671       337147   \n",
       "\n",
       "       energy  explicit                      id  instrumentalness  key  \\\n",
       "20306   0.330         0  0PUkanqCGTb6qseXPKOw1F          0.000000    9   \n",
       "20307   0.429         0  6Iw6fQVKZi0fWtEQBrTFcP          0.000052    6   \n",
       "20308   0.686         0  308prODCCD0O660tIktbUi          0.022500    7   \n",
       "20309   0.472         1  2f8y4CuG57UJEmkG3ujd0D          0.000015    0   \n",
       "20310   0.623         1  5SiZJoLXp3WOl3J4C8IK0d          0.000008    2   \n",
       "\n",
       "       liveness  loudness  mode                    name  popularity  \\\n",
       "20306     0.102    -8.121     1  I Don't Think I'm Okay          69   \n",
       "20307     0.177    -8.689     0      Timeless Interlude          65   \n",
       "20308     0.125    -8.480     1                Sunblind          66   \n",
       "20309     0.108   -10.991     1  NASTY GIRL / ON CAMERA          66   \n",
       "20310     0.643    -7.161     1                Darkness          70   \n",
       "\n",
       "       speechiness    tempo                        artists_song  \n",
       "20306       0.0429  128.025      Bazzi - I Don't Think I'm Okay  \n",
       "20307       0.0964  148.530  Bryson Tiller - Timeless Interlude  \n",
       "20308       0.0249  103.054              Fleet Foxes - Sunblind  \n",
       "20309       0.2580  120.080      Gunna - NASTY GIRL / ON CAMERA  \n",
       "20310       0.3080   75.055                   Eminem - Darkness  "
      ]
     },
     "execution_count": 10,
     "metadata": {},
     "output_type": "execute_result"
    }
   ],
   "source": [
    "dados.tail()"
   ]
  },
  {
   "cell_type": "code",
   "execution_count": 36,
   "metadata": {},
   "outputs": [
    {
     "data": {
      "text/html": [
       "<div>\n",
       "<style scoped>\n",
       "    .dataframe tbody tr th:only-of-type {\n",
       "        vertical-align: middle;\n",
       "    }\n",
       "\n",
       "    .dataframe tbody tr th {\n",
       "        vertical-align: top;\n",
       "    }\n",
       "\n",
       "    .dataframe thead th {\n",
       "        text-align: right;\n",
       "    }\n",
       "</style>\n",
       "<table border=\"1\" class=\"dataframe\">\n",
       "  <thead>\n",
       "    <tr style=\"text-align: right;\">\n",
       "      <th></th>\n",
       "      <th>genres</th>\n",
       "      <th>acousticness</th>\n",
       "      <th>danceability</th>\n",
       "      <th>duration_ms</th>\n",
       "      <th>energy</th>\n",
       "      <th>instrumentalness</th>\n",
       "      <th>liveness</th>\n",
       "      <th>loudness</th>\n",
       "      <th>speechiness</th>\n",
       "      <th>tempo</th>\n",
       "      <th>valence</th>\n",
       "      <th>popularity</th>\n",
       "      <th>key</th>\n",
       "    </tr>\n",
       "  </thead>\n",
       "  <tbody>\n",
       "    <tr>\n",
       "      <th>0</th>\n",
       "      <td>21st century classical</td>\n",
       "      <td>0.979333</td>\n",
       "      <td>0.162883</td>\n",
       "      <td>1.602977e+05</td>\n",
       "      <td>0.071317</td>\n",
       "      <td>0.606834</td>\n",
       "      <td>0.361600</td>\n",
       "      <td>-31.514333</td>\n",
       "      <td>0.040567</td>\n",
       "      <td>75.336500</td>\n",
       "      <td>0.103783</td>\n",
       "      <td>27.833333</td>\n",
       "      <td>6</td>\n",
       "    </tr>\n",
       "    <tr>\n",
       "      <th>1</th>\n",
       "      <td>432hz</td>\n",
       "      <td>0.494780</td>\n",
       "      <td>0.299333</td>\n",
       "      <td>1.048887e+06</td>\n",
       "      <td>0.450678</td>\n",
       "      <td>0.477762</td>\n",
       "      <td>0.131000</td>\n",
       "      <td>-16.854000</td>\n",
       "      <td>0.076817</td>\n",
       "      <td>120.285667</td>\n",
       "      <td>0.221750</td>\n",
       "      <td>52.500000</td>\n",
       "      <td>5</td>\n",
       "    </tr>\n",
       "    <tr>\n",
       "      <th>2</th>\n",
       "      <td>8-bit</td>\n",
       "      <td>0.762000</td>\n",
       "      <td>0.712000</td>\n",
       "      <td>1.151770e+05</td>\n",
       "      <td>0.818000</td>\n",
       "      <td>0.876000</td>\n",
       "      <td>0.126000</td>\n",
       "      <td>-9.180000</td>\n",
       "      <td>0.047000</td>\n",
       "      <td>133.444000</td>\n",
       "      <td>0.975000</td>\n",
       "      <td>48.000000</td>\n",
       "      <td>7</td>\n",
       "    </tr>\n",
       "    <tr>\n",
       "      <th>3</th>\n",
       "      <td>[]</td>\n",
       "      <td>0.651417</td>\n",
       "      <td>0.529093</td>\n",
       "      <td>2.328809e+05</td>\n",
       "      <td>0.419146</td>\n",
       "      <td>0.205309</td>\n",
       "      <td>0.218696</td>\n",
       "      <td>-12.288965</td>\n",
       "      <td>0.107872</td>\n",
       "      <td>112.857352</td>\n",
       "      <td>0.513604</td>\n",
       "      <td>20.859882</td>\n",
       "      <td>7</td>\n",
       "    </tr>\n",
       "    <tr>\n",
       "      <th>4</th>\n",
       "      <td>a cappella</td>\n",
       "      <td>0.676557</td>\n",
       "      <td>0.538961</td>\n",
       "      <td>1.906285e+05</td>\n",
       "      <td>0.316434</td>\n",
       "      <td>0.003003</td>\n",
       "      <td>0.172254</td>\n",
       "      <td>-12.479387</td>\n",
       "      <td>0.082851</td>\n",
       "      <td>112.110362</td>\n",
       "      <td>0.448249</td>\n",
       "      <td>45.820071</td>\n",
       "      <td>7</td>\n",
       "    </tr>\n",
       "  </tbody>\n",
       "</table>\n",
       "</div>"
      ],
      "text/plain": [
       "                   genres  acousticness  danceability   duration_ms    energy  \\\n",
       "0  21st century classical      0.979333      0.162883  1.602977e+05  0.071317   \n",
       "1                   432hz      0.494780      0.299333  1.048887e+06  0.450678   \n",
       "2                   8-bit      0.762000      0.712000  1.151770e+05  0.818000   \n",
       "3                      []      0.651417      0.529093  2.328809e+05  0.419146   \n",
       "4              a cappella      0.676557      0.538961  1.906285e+05  0.316434   \n",
       "\n",
       "   instrumentalness  liveness   loudness  speechiness       tempo   valence  \\\n",
       "0          0.606834  0.361600 -31.514333     0.040567   75.336500  0.103783   \n",
       "1          0.477762  0.131000 -16.854000     0.076817  120.285667  0.221750   \n",
       "2          0.876000  0.126000  -9.180000     0.047000  133.444000  0.975000   \n",
       "3          0.205309  0.218696 -12.288965     0.107872  112.857352  0.513604   \n",
       "4          0.003003  0.172254 -12.479387     0.082851  112.110362  0.448249   \n",
       "\n",
       "   popularity  key  \n",
       "0   27.833333    6  \n",
       "1   52.500000    5  \n",
       "2   48.000000    7  \n",
       "3   20.859882    7  \n",
       "4   45.820071    7  "
      ]
     },
     "execution_count": 36,
     "metadata": {},
     "output_type": "execute_result"
    }
   ],
   "source": [
    "dados_generos.head(5)"
   ]
  },
  {
   "cell_type": "code",
   "execution_count": 37,
   "metadata": {},
   "outputs": [
    {
     "data": {
      "text/html": [
       "<div>\n",
       "<style scoped>\n",
       "    .dataframe tbody tr th:only-of-type {\n",
       "        vertical-align: middle;\n",
       "    }\n",
       "\n",
       "    .dataframe tbody tr th {\n",
       "        vertical-align: top;\n",
       "    }\n",
       "\n",
       "    .dataframe thead th {\n",
       "        text-align: right;\n",
       "    }\n",
       "</style>\n",
       "<table border=\"1\" class=\"dataframe\">\n",
       "  <thead>\n",
       "    <tr style=\"text-align: right;\">\n",
       "      <th></th>\n",
       "      <th>valence</th>\n",
       "      <th>year</th>\n",
       "      <th>acousticness</th>\n",
       "      <th>artists</th>\n",
       "      <th>danceability</th>\n",
       "      <th>duration_ms</th>\n",
       "      <th>energy</th>\n",
       "      <th>explicit</th>\n",
       "      <th>id</th>\n",
       "      <th>instrumentalness</th>\n",
       "      <th>key</th>\n",
       "      <th>liveness</th>\n",
       "      <th>loudness</th>\n",
       "      <th>mode</th>\n",
       "      <th>name</th>\n",
       "      <th>popularity</th>\n",
       "      <th>speechiness</th>\n",
       "      <th>tempo</th>\n",
       "      <th>artists_song</th>\n",
       "    </tr>\n",
       "  </thead>\n",
       "  <tbody>\n",
       "    <tr>\n",
       "      <th>0</th>\n",
       "      <td>0.285</td>\n",
       "      <td>2000</td>\n",
       "      <td>0.00239</td>\n",
       "      <td>Coldplay</td>\n",
       "      <td>0.429</td>\n",
       "      <td>266773</td>\n",
       "      <td>0.661</td>\n",
       "      <td>0</td>\n",
       "      <td>3AJwUDP919kvQ9QcozQPxg</td>\n",
       "      <td>0.000121</td>\n",
       "      <td>11</td>\n",
       "      <td>0.2340</td>\n",
       "      <td>-7.227</td>\n",
       "      <td>1</td>\n",
       "      <td>Yellow</td>\n",
       "      <td>84</td>\n",
       "      <td>0.0281</td>\n",
       "      <td>173.372</td>\n",
       "      <td>Coldplay - Yellow</td>\n",
       "    </tr>\n",
       "    <tr>\n",
       "      <th>1</th>\n",
       "      <td>0.613</td>\n",
       "      <td>2000</td>\n",
       "      <td>0.14300</td>\n",
       "      <td>OutKast</td>\n",
       "      <td>0.843</td>\n",
       "      <td>270507</td>\n",
       "      <td>0.806</td>\n",
       "      <td>1</td>\n",
       "      <td>0I3q5fE6wg7LIfHGngUTnV</td>\n",
       "      <td>0.000000</td>\n",
       "      <td>4</td>\n",
       "      <td>0.0771</td>\n",
       "      <td>-5.946</td>\n",
       "      <td>0</td>\n",
       "      <td>Ms. Jackson</td>\n",
       "      <td>80</td>\n",
       "      <td>0.2690</td>\n",
       "      <td>94.948</td>\n",
       "      <td>OutKast - Ms. Jackson</td>\n",
       "    </tr>\n",
       "    <tr>\n",
       "      <th>2</th>\n",
       "      <td>0.400</td>\n",
       "      <td>2000</td>\n",
       "      <td>0.00958</td>\n",
       "      <td>Linkin Park</td>\n",
       "      <td>0.556</td>\n",
       "      <td>216880</td>\n",
       "      <td>0.864</td>\n",
       "      <td>0</td>\n",
       "      <td>60a0Rd6pjrkxjPbaKzXjfq</td>\n",
       "      <td>0.000000</td>\n",
       "      <td>3</td>\n",
       "      <td>0.2090</td>\n",
       "      <td>-5.870</td>\n",
       "      <td>0</td>\n",
       "      <td>In the End</td>\n",
       "      <td>84</td>\n",
       "      <td>0.0584</td>\n",
       "      <td>105.143</td>\n",
       "      <td>Linkin Park - In the End</td>\n",
       "    </tr>\n",
       "    <tr>\n",
       "      <th>3</th>\n",
       "      <td>0.543</td>\n",
       "      <td>2000</td>\n",
       "      <td>0.00664</td>\n",
       "      <td>3 Doors Down</td>\n",
       "      <td>0.545</td>\n",
       "      <td>233933</td>\n",
       "      <td>0.865</td>\n",
       "      <td>0</td>\n",
       "      <td>6ZOBP3NvffbU4SZcrnt1k6</td>\n",
       "      <td>0.000011</td>\n",
       "      <td>11</td>\n",
       "      <td>0.1680</td>\n",
       "      <td>-5.708</td>\n",
       "      <td>0</td>\n",
       "      <td>Kryptonite</td>\n",
       "      <td>78</td>\n",
       "      <td>0.0286</td>\n",
       "      <td>99.009</td>\n",
       "      <td>3 Doors Down - Kryptonite</td>\n",
       "    </tr>\n",
       "    <tr>\n",
       "      <th>4</th>\n",
       "      <td>0.760</td>\n",
       "      <td>2000</td>\n",
       "      <td>0.03020</td>\n",
       "      <td>Eminem</td>\n",
       "      <td>0.949</td>\n",
       "      <td>284200</td>\n",
       "      <td>0.661</td>\n",
       "      <td>1</td>\n",
       "      <td>3yfqSUWxFvZELEM4PmlwIR</td>\n",
       "      <td>0.000000</td>\n",
       "      <td>5</td>\n",
       "      <td>0.0454</td>\n",
       "      <td>-4.244</td>\n",
       "      <td>0</td>\n",
       "      <td>The Real Slim Shady</td>\n",
       "      <td>80</td>\n",
       "      <td>0.0572</td>\n",
       "      <td>104.504</td>\n",
       "      <td>Eminem - The Real Slim Shady</td>\n",
       "    </tr>\n",
       "  </tbody>\n",
       "</table>\n",
       "</div>"
      ],
      "text/plain": [
       "   valence  year  acousticness       artists  danceability  duration_ms  \\\n",
       "0    0.285  2000       0.00239      Coldplay         0.429       266773   \n",
       "1    0.613  2000       0.14300       OutKast         0.843       270507   \n",
       "2    0.400  2000       0.00958   Linkin Park         0.556       216880   \n",
       "3    0.543  2000       0.00664  3 Doors Down         0.545       233933   \n",
       "4    0.760  2000       0.03020        Eminem         0.949       284200   \n",
       "\n",
       "   energy  explicit                      id  instrumentalness  key  liveness  \\\n",
       "0   0.661         0  3AJwUDP919kvQ9QcozQPxg          0.000121   11    0.2340   \n",
       "1   0.806         1  0I3q5fE6wg7LIfHGngUTnV          0.000000    4    0.0771   \n",
       "2   0.864         0  60a0Rd6pjrkxjPbaKzXjfq          0.000000    3    0.2090   \n",
       "3   0.865         0  6ZOBP3NvffbU4SZcrnt1k6          0.000011   11    0.1680   \n",
       "4   0.661         1  3yfqSUWxFvZELEM4PmlwIR          0.000000    5    0.0454   \n",
       "\n",
       "   loudness  mode                 name  popularity  speechiness    tempo  \\\n",
       "0    -7.227     1               Yellow          84       0.0281  173.372   \n",
       "1    -5.946     0          Ms. Jackson          80       0.2690   94.948   \n",
       "2    -5.870     0           In the End          84       0.0584  105.143   \n",
       "3    -5.708     0           Kryptonite          78       0.0286   99.009   \n",
       "4    -4.244     0  The Real Slim Shady          80       0.0572  104.504   \n",
       "\n",
       "                   artists_song  \n",
       "0             Coldplay - Yellow  \n",
       "1         OutKast - Ms. Jackson  \n",
       "2      Linkin Park - In the End  \n",
       "3     3 Doors Down - Kryptonite  \n",
       "4  Eminem - The Real Slim Shady  "
      ]
     },
     "execution_count": 37,
     "metadata": {},
     "output_type": "execute_result"
    }
   ],
   "source": [
    "dados.head(5)"
   ]
  },
  {
   "cell_type": "code",
   "execution_count": 38,
   "metadata": {},
   "outputs": [],
   "source": [
    "#importando biblioteca e metods do sklearning\n",
    "from sklearn.pipeline import Pipeline\n",
    "from sklearn.preprocessing import StandardScaler \n",
    "from sklearn.decomposition import PCA\n",
    "\n",
    "SEED = 1224\n",
    "np.random.seed(1224)\n",
    "#(Pipeline) Arranjo de dados ///(StandardScaler) Padronizando os dados /// (PCA) reduz a dimensionalidade do cluster\n",
    "pca_pipeline = Pipeline([('scaler', StandardScaler()), ('PCA', PCA(n_components=2, random_state=SEED))])\n",
    "\n",
    "genre_embedding_pca = pca_pipeline.fit_transform(dados_generos1)\n",
    "projection = pd.DataFrame(columns=['x', 'y'], data=genre_embedding_pca)\n",
    "\n"
   ]
  },
  {
   "cell_type": "code",
   "execution_count": 39,
   "metadata": {},
   "outputs": [
    {
     "name": "stdout",
     "output_type": "stream",
     "text": [
      "Initialization complete\n",
      "Iteration 0, inertia 4925.510210854366.\n",
      "Iteration 1, inertia 3917.6207813509.\n",
      "Iteration 2, inertia 3727.719609936476.\n",
      "Iteration 3, inertia 3633.499679879923.\n",
      "Iteration 4, inertia 3591.6607182564367.\n",
      "Iteration 5, inertia 3567.988210155443.\n",
      "Iteration 6, inertia 3554.9358211191193.\n",
      "Iteration 7, inertia 3548.8135424299353.\n",
      "Iteration 8, inertia 3544.013714298003.\n",
      "Iteration 9, inertia 3540.362188249841.\n",
      "Iteration 10, inertia 3536.7065026406913.\n",
      "Iteration 11, inertia 3531.3913274842494.\n",
      "Iteration 12, inertia 3527.6872332830358.\n",
      "Iteration 13, inertia 3525.2601315402417.\n",
      "Iteration 14, inertia 3522.672621959629.\n",
      "Iteration 15, inertia 3520.2711867475027.\n",
      "Iteration 16, inertia 3518.5517352097822.\n",
      "Iteration 17, inertia 3516.5565021363873.\n",
      "Iteration 18, inertia 3514.848608154107.\n",
      "Iteration 19, inertia 3514.363347212923.\n",
      "Converged at iteration 19: center shift 0.00019431865443278337 within tolerance 0.0002716279904382959.\n"
     ]
    }
   ],
   "source": [
    "from sklearn.cluster import KMeans\n",
    "# calculo das disntancias entre elementos\n",
    "kmeans_pca = KMeans(n_clusters=5, verbose=True, random_state=SEED)\n",
    "\n",
    "kmeans_pca.fit(projection)\n",
    "\n",
    "dados_generos['cluster_pca'] = kmeans_pca.predict(projection)\n",
    "projection['cluster_pca'] = kmeans_pca.predict(projection)\n",
    "\n",
    "projection['generos'] = dados_generos['genres']"
   ]
  },
  {
   "cell_type": "code",
   "execution_count": 40,
   "metadata": {},
   "outputs": [
    {
     "data": {
      "text/html": [
       "<div>\n",
       "<style scoped>\n",
       "    .dataframe tbody tr th:only-of-type {\n",
       "        vertical-align: middle;\n",
       "    }\n",
       "\n",
       "    .dataframe tbody tr th {\n",
       "        vertical-align: top;\n",
       "    }\n",
       "\n",
       "    .dataframe thead th {\n",
       "        text-align: right;\n",
       "    }\n",
       "</style>\n",
       "<table border=\"1\" class=\"dataframe\">\n",
       "  <thead>\n",
       "    <tr style=\"text-align: right;\">\n",
       "      <th></th>\n",
       "      <th>x</th>\n",
       "      <th>y</th>\n",
       "      <th>cluster_pca</th>\n",
       "      <th>generos</th>\n",
       "    </tr>\n",
       "  </thead>\n",
       "  <tbody>\n",
       "    <tr>\n",
       "      <th>0</th>\n",
       "      <td>5.896406</td>\n",
       "      <td>-0.006806</td>\n",
       "      <td>2</td>\n",
       "      <td>21st century classical</td>\n",
       "    </tr>\n",
       "    <tr>\n",
       "      <th>1</th>\n",
       "      <td>2.801172</td>\n",
       "      <td>4.496443</td>\n",
       "      <td>1</td>\n",
       "      <td>432hz</td>\n",
       "    </tr>\n",
       "    <tr>\n",
       "      <th>2</th>\n",
       "      <td>-0.776968</td>\n",
       "      <td>-1.256120</td>\n",
       "      <td>0</td>\n",
       "      <td>8-bit</td>\n",
       "    </tr>\n",
       "    <tr>\n",
       "      <th>3</th>\n",
       "      <td>0.996612</td>\n",
       "      <td>-0.927628</td>\n",
       "      <td>3</td>\n",
       "      <td>[]</td>\n",
       "    </tr>\n",
       "    <tr>\n",
       "      <th>4</th>\n",
       "      <td>0.731901</td>\n",
       "      <td>-0.996864</td>\n",
       "      <td>3</td>\n",
       "      <td>a cappella</td>\n",
       "    </tr>\n",
       "  </tbody>\n",
       "</table>\n",
       "</div>"
      ],
      "text/plain": [
       "          x         y  cluster_pca                 generos\n",
       "0  5.896406 -0.006806            2  21st century classical\n",
       "1  2.801172  4.496443            1                   432hz\n",
       "2 -0.776968 -1.256120            0                   8-bit\n",
       "3  0.996612 -0.927628            3                      []\n",
       "4  0.731901 -0.996864            3              a cappella"
      ]
     },
     "execution_count": 40,
     "metadata": {},
     "output_type": "execute_result"
    }
   ],
   "source": [
    "from sklearn.preprocessing import OneHotEncoder\n",
    "#Usando dummies \n",
    "ohe = OneHotEncoder(dtype=int)\n",
    "colunas_ohe = ohe.fit_transform(dados[['artists']]).toarray()\n",
    "dados2 = dados.drop('artists', axis=1)\n",
    "\n",
    "dados_musicas_dummies = pd.concat([dados2, pd.DataFrame(colunas_ohe, columns=ohe.get_feature_names_out(['artists']))], axis=1)\n",
    "dados_musicas_dummies\n",
    "\n",
    "pca_pipeline = Pipeline([('scaler', StandardScaler()), ('PCA', PCA(n_components=0.7, random_state=SEED))])\n",
    "\n",
    "\n",
    "music_embedding_pca = pca_pipeline.fit_transform(dados_musicas_dummies.drop(['id','name','artists_song'], axis=1))\n",
    "projection_m = pd.DataFrame(data=music_embedding_pca)\n",
    "\n",
    "kmeans_pca_pipeline = KMeans(n_clusters=50, verbose=False, random_state=SEED)\n",
    "\n",
    "kmeans_pca_pipeline.fit(projection_m)\n",
    "\n",
    "dados['cluster_pca'] = kmeans_pca_pipeline.predict(projection_m)\n",
    "projection_m['cluster_pca'] = kmeans_pca_pipeline.predict(projection_m)\n",
    "\n",
    "\n",
    "projection_m['artist'] = dados['artists']\n",
    "projection_m['song'] = dados['artists_song']\n",
    "\n",
    "projection.head()"
   ]
  },
  {
   "cell_type": "code",
   "execution_count": 41,
   "metadata": {},
   "outputs": [
    {
     "data": {
      "application/vnd.plotly.v1+json": {
       "config": {
        "plotlyServerURL": "https://plot.ly"
       },
       "data": [
        {
         "customdata": [
          [
           "21st century classical"
          ],
          [
           "432hz"
          ],
          [
           "8-bit"
          ],
          [
           "[]"
          ],
          [
           "a cappella"
          ],
          [
           "abstract"
          ],
          [
           "abstract beats"
          ],
          [
           "abstract hip hop"
          ],
          [
           "accordeon"
          ],
          [
           "accordion"
          ],
          [
           "acid house"
          ],
          [
           "acid rock"
          ],
          [
           "acid trance"
          ],
          [
           "acousmatic"
          ],
          [
           "acoustic blues"
          ],
          [
           "acoustic pop"
          ],
          [
           "acoustic punk"
          ],
          [
           "acoustic rock"
          ],
          [
           "action rock"
          ],
          [
           "adoracion"
          ],
          [
           "adult standards"
          ],
          [
           "adventista"
          ],
          [
           "afghan pop"
          ],
          [
           "afghan traditional"
          ],
          [
           "african percussion"
          ],
          [
           "african reggae"
          ],
          [
           "african rock"
          ],
          [
           "african-american classical"
          ],
          [
           "afro dancehall"
          ],
          [
           "afro house"
          ],
          [
           "afro psych"
          ],
          [
           "afro soul"
          ],
          [
           "afro-funk"
          ],
          [
           "afrobeat"
          ],
          [
           "afrofuturism"
          ],
          [
           "afrofuturismo brasileiro"
          ],
          [
           "afropop"
          ],
          [
           "afroswing"
          ],
          [
           "aggrotech"
          ],
          [
           "alabama indie"
          ],
          [
           "alabama metal"
          ],
          [
           "alabama rap"
          ],
          [
           "alaska indie"
          ],
          [
           "albanian pop"
          ],
          [
           "albany ny indie"
          ],
          [
           "alberta country"
          ],
          [
           "alberta hip hop"
          ],
          [
           "album rock"
          ],
          [
           "albuquerque indie"
          ],
          [
           "alt-idol"
          ],
          [
           "alte"
          ],
          [
           "alternative americana"
          ],
          [
           "alternative country"
          ],
          [
           "alternative dance"
          ],
          [
           "alternative emo"
          ],
          [
           "alternative hip hop"
          ],
          [
           "alternative metal"
          ],
          [
           "alternative pop"
          ],
          [
           "alternative pop rock"
          ],
          [
           "alternative r&b"
          ],
          [
           "alternative rock"
          ],
          [
           "alternative roots rock"
          ],
          [
           "ambeat"
          ],
          [
           "ambient"
          ],
          [
           "ambient black metal"
          ],
          [
           "ambient folk"
          ],
          [
           "ambient house"
          ],
          [
           "ambient idm"
          ],
          [
           "ambient industrial"
          ],
          [
           "ambient pop"
          ],
          [
           "ambient techno"
          ],
          [
           "ambient worship"
          ],
          [
           "american 21st century classical"
          ],
          [
           "american choir"
          ],
          [
           "american classical piano"
          ],
          [
           "american contemporary classical"
          ],
          [
           "american early music"
          ],
          [
           "american folk revival"
          ],
          [
           "american metalcore"
          ],
          [
           "american modern classical"
          ],
          [
           "american oi"
          ],
          [
           "american orchestra"
          ],
          [
           "american post-rock"
          ],
          [
           "american primitive"
          ],
          [
           "american romanticism"
          ],
          [
           "american shoegaze"
          ],
          [
           "anadolu rock"
          ],
          [
           "anarcho-punk"
          ],
          [
           "anglican liturgy"
          ],
          [
           "animal singing"
          ],
          [
           "anime"
          ],
          [
           "anime latino"
          ],
          [
           "anime rock"
          ],
          [
           "anime score"
          ],
          [
           "ann arbor indie"
          ],
          [
           "anthem emo"
          ],
          [
           "anthem worship"
          ],
          [
           "anti-folk"
          ],
          [
           "antilliaanse folklore"
          ],
          [
           "antiviral pop"
          ],
          [
           "appalachian folk"
          ],
          [
           "arab folk"
          ],
          [
           "arab groove"
          ],
          [
           "arab pop"
          ],
          [
           "arabesk"
          ],
          [
           "arabic hip hop"
          ],
          [
           "arabic jazz"
          ],
          [
           "argentine ambient"
          ],
          [
           "argentine hardcore"
          ],
          [
           "argentine heavy metal"
          ],
          [
           "argentine hip hop"
          ],
          [
           "argentine indie"
          ],
          [
           "argentine metal"
          ],
          [
           "argentine punk"
          ],
          [
           "argentine reggae"
          ],
          [
           "argentine rock"
          ],
          [
           "argentine telepop"
          ],
          [
           "arizona punk"
          ],
          [
           "arkansas country"
          ],
          [
           "arkansas hip hop"
          ],
          [
           "arkansas indie"
          ],
          [
           "armenian folk"
          ],
          [
           "art pop"
          ],
          [
           "art punk"
          ],
          [
           "art rock"
          ],
          [
           "art song"
          ],
          [
           "asbury park indie"
          ],
          [
           "asheville indie"
          ],
          [
           "asian american hip hop"
          ],
          [
           "asmr"
          ],
          [
           "athens indie"
          ],
          [
           "atl hip hop"
          ],
          [
           "atl trap"
          ],
          [
           "atlanta indie"
          ],
          [
           "atlanta metal"
          ],
          [
           "atlanta punk"
          ],
          [
           "atmosphere"
          ],
          [
           "atmospheric black metal"
          ],
          [
           "atmospheric dnb"
          ],
          [
           "atmospheric post-metal"
          ],
          [
           "atmospheric post-rock"
          ],
          [
           "atmospheric sludge"
          ],
          [
           "auckland indie"
          ],
          [
           "audiophile vocal"
          ],
          [
           "aussietronica"
          ],
          [
           "austin americana"
          ],
          [
           "austin singer-songwriter"
          ],
          [
           "austindie"
          ],
          [
           "australian alternative pop"
          ],
          [
           "australian alternative rock"
          ],
          [
           "australian ambient"
          ],
          [
           "australian children's music"
          ],
          [
           "australian choir"
          ],
          [
           "australian classical"
          ],
          [
           "australian classical piano"
          ],
          [
           "australian country"
          ],
          [
           "australian dance"
          ],
          [
           "australian electropop"
          ],
          [
           "australian garage punk"
          ],
          [
           "australian hip hop"
          ],
          [
           "australian house"
          ],
          [
           "australian indie"
          ],
          [
           "australian indie folk"
          ],
          [
           "australian indie rock"
          ],
          [
           "australian indigenous"
          ],
          [
           "australian metal"
          ],
          [
           "australian metalcore"
          ],
          [
           "australian pop"
          ],
          [
           "australian post-hardcore"
          ],
          [
           "australian post-punk"
          ],
          [
           "australian psych"
          ],
          [
           "australian r&b"
          ],
          [
           "australian reggae fusion"
          ],
          [
           "australian rock"
          ],
          [
           "australian singer-songwriter"
          ],
          [
           "australian ska"
          ],
          [
           "australian talent show"
          ],
          [
           "australian trap"
          ],
          [
           "australian underground hip hop"
          ],
          [
           "austrian choir"
          ],
          [
           "austrian classical piano"
          ],
          [
           "austrian orchestra"
          ],
          [
           "austrian pop"
          ],
          [
           "austro-german modernism"
          ],
          [
           "austropop"
          ],
          [
           "autoharp"
          ],
          [
           "autonomous black metal"
          ],
          [
           "avant-garde"
          ],
          [
           "avant-garde jazz"
          ],
          [
           "avant-garde metal"
          ],
          [
           "axe"
          ],
          [
           "azeri traditional"
          ],
          [
           "azonto"
          ],
          [
           "azontobeats"
          ],
          [
           "bachata"
          ],
          [
           "bachata dominicana"
          ],
          [
           "background music"
          ],
          [
           "background piano"
          ],
          [
           "baglama"
          ],
          [
           "bahai"
          ],
          [
           "bahamian folk"
          ],
          [
           "bahamian pop"
          ],
          [
           "baiao"
          ],
          [
           "bajki"
          ],
          [
           "bakersfield sound"
          ],
          [
           "balearic"
          ],
          [
           "balkan brass"
          ],
          [
           "balkan classical piano"
          ],
          [
           "ballet class"
          ],
          [
           "ballroom"
          ],
          [
           "baltic classical"
          ],
          [
           "baltimore hip hop"
          ],
          [
           "baltimore indie"
          ],
          [
           "banda"
          ],
          [
           "banda caliente"
          ],
          [
           "banda carnavalera"
          ],
          [
           "bandinhas"
          ],
          [
           "bandolim"
          ],
          [
           "bandoneon"
          ],
          [
           "bangla"
          ],
          [
           "banjo"
          ],
          [
           "bansuri"
          ],
          [
           "barbadian pop"
          ],
          [
           "barbershop"
          ],
          [
           "bard"
          ],
          [
           "barnmusik"
          ],
          [
           "barockinterpreten"
          ],
          [
           "baroque"
          ],
          [
           "baroque brass"
          ],
          [
           "baroque ensemble"
          ],
          [
           "baroque pop"
          ],
          [
           "baroque singing"
          ],
          [
           "baroque violin"
          ],
          [
           "baroque woodwind"
          ],
          [
           "bass house"
          ],
          [
           "bass music"
          ],
          [
           "bass trap"
          ],
          [
           "basshall"
          ],
          [
           "bassline"
          ],
          [
           "bath indie"
          ],
          [
           "baton rouge indie"
          ],
          [
           "baton rouge rap"
          ],
          [
           "battle rap"
          ],
          [
           "bay area hip hop"
          ],
          [
           "bay area indie"
          ],
          [
           "bboy"
          ],
          [
           "bc underground hip hop"
          ],
          [
           "beach music"
          ],
          [
           "beat italiano"
          ],
          [
           "beat poetry"
          ],
          [
           "beatboxing"
          ],
          [
           "beatlesque"
          ],
          [
           "bebop"
          ],
          [
           "bedroom pop"
          ],
          [
           "bedroom soul"
          ],
          [
           "belarusian indie"
          ],
          [
           "belarusian pop"
          ],
          [
           "belarusian rock"
          ],
          [
           "belgian classical piano"
          ],
          [
           "belgian contemporary classical"
          ],
          [
           "belgian dance"
          ],
          [
           "belgian edm"
          ],
          [
           "belgian hardcore"
          ],
          [
           "belgian indie"
          ],
          [
           "belgian indie rock"
          ],
          [
           "belgian jazz"
          ],
          [
           "belgian new wave"
          ],
          [
           "belgian pop"
          ],
          [
           "belgian rock"
          ],
          [
           "belgian singer-songwriter"
          ],
          [
           "belgian techno"
          ],
          [
           "belly dance"
          ],
          [
           "bengali folk"
          ],
          [
           "beninese pop"
          ],
          [
           "bergen indie"
          ],
          [
           "berlin minimal techno"
          ],
          [
           "berlin school"
          ],
          [
           "bhajan"
          ],
          [
           "bhangra"
          ],
          [
           "bible"
          ],
          [
           "big band"
          ],
          [
           "big beat"
          ],
          [
           "big room"
          ],
          [
           "binaural"
          ],
          [
           "birdsong"
          ],
          [
           "birmingham grime"
          ],
          [
           "birmingham hip hop"
          ],
          [
           "birmingham metal"
          ],
          [
           "bitpop"
          ],
          [
           "black 'n' roll"
          ],
          [
           "black comedy"
          ],
          [
           "black metal"
          ],
          [
           "black punk"
          ],
          [
           "black thrash"
          ],
          [
           "blackened crust"
          ],
          [
           "blackgaze"
          ],
          [
           "bleep techno"
          ],
          [
           "bluegrass"
          ],
          [
           "bluegrass fiddle"
          ],
          [
           "bluegrass gospel"
          ],
          [
           "blues"
          ],
          [
           "blues latinoamericano"
          ],
          [
           "blues mexicano"
          ],
          [
           "blues rock"
          ],
          [
           "bmore"
          ],
          [
           "bolero"
          ],
          [
           "bolero cubano"
          ],
          [
           "boogaloo"
          ],
          [
           "boogie"
          ],
          [
           "boogie-woogie"
          ],
          [
           "boom bap"
          ],
          [
           "boom bap brasileiro"
          ],
          [
           "bossa nova"
          ],
          [
           "bossa nova jazz"
          ],
          [
           "boston folk"
          ],
          [
           "boston hardcore"
          ],
          [
           "boston hip hop"
          ],
          [
           "boston indie"
          ],
          [
           "boston metal"
          ],
          [
           "boston punk"
          ],
          [
           "boston rock"
          ],
          [
           "bounce"
          ],
          [
           "bouncy house"
          ],
          [
           "bouzouki"
          ],
          [
           "bow pop"
          ],
          [
           "boy band"
          ],
          [
           "boy pop"
          ],
          [
           "boy soprano"
          ],
          [
           "brain waves"
          ],
          [
           "braindance"
          ],
          [
           "brass band"
          ],
          [
           "brass ensemble"
          ],
          [
           "brass quintet"
          ],
          [
           "brazilian boogie"
          ],
          [
           "brazilian classical"
          ],
          [
           "brazilian classical piano"
          ],
          [
           "brazilian contemporary classical"
          ],
          [
           "brazilian edm"
          ],
          [
           "brazilian groove metal"
          ],
          [
           "brazilian hip hop"
          ],
          [
           "brazilian indie"
          ],
          [
           "brazilian jazz"
          ],
          [
           "brazilian metal"
          ],
          [
           "brazilian modern jazz"
          ],
          [
           "brazilian percussion"
          ],
          [
           "brazilian punk"
          ],
          [
           "brazilian reggae"
          ],
          [
           "brazilian rock"
          ],
          [
           "brazilian ska"
          ],
          [
           "brazilian soul"
          ],
          [
           "brazilian thrash metal"
          ],
          [
           "breakbeat"
          ],
          [
           "breakcore"
          ],
          [
           "brega"
          ],
          [
           "breton folk"
          ],
          [
           "brighton indie"
          ],
          [
           "brill building pop"
          ],
          [
           "brisbane indie"
          ],
          [
           "bristol electronic"
          ],
          [
           "bristol indie"
          ],
          [
           "brit funk"
          ],
          [
           "british alternative rock"
          ],
          [
           "british black metal"
          ],
          [
           "british blues"
          ],
          [
           "british children's music"
          ],
          [
           "british choir"
          ],
          [
           "british classical piano"
          ],
          [
           "british comedy"
          ],
          [
           "british contemporary classical"
          ],
          [
           "british dance band"
          ],
          [
           "british death metal"
          ],
          [
           "british experimental"
          ],
          [
           "british folk"
          ],
          [
           "british grindcore"
          ],
          [
           "british indie rock"
          ],
          [
           "british industrial"
          ],
          [
           "british invasion"
          ],
          [
           "british jazz"
          ],
          [
           "british modern classical"
          ],
          [
           "british orchestra"
          ],
          [
           "british post-rock"
          ],
          [
           "british power metal"
          ],
          [
           "british singer-songwriter"
          ],
          [
           "british soul"
          ],
          [
           "british soundtrack"
          ],
          [
           "britpop"
          ],
          [
           "broadway"
          ],
          [
           "broken beat"
          ],
          [
           "bronx hip hop"
          ],
          [
           "brooklyn drill"
          ],
          [
           "brooklyn indie"
          ],
          [
           "brostep"
          ],
          [
           "brutal death metal"
          ],
          [
           "brutal deathcore"
          ],
          [
           "bubble trance"
          ],
          [
           "bubblegrunge"
          ],
          [
           "bubblegum dance"
          ],
          [
           "bubblegum pop"
          ],
          [
           "buffalo hip hop"
          ],
          [
           "buffalo ny indie"
          ],
          [
           "buffalo ny metal"
          ],
          [
           "bulgarian experimental"
          ],
          [
           "burmese traditional"
          ],
          [
           "bush ballad"
          ],
          [
           "c-pop"
          ],
          [
           "c86"
          ],
          [
           "cabaret"
          ],
          [
           "cajun"
          ],
          [
           "calgary indie"
          ],
          [
           "cali rap"
          ],
          [
           "calming instrumental"
          ],
          [
           "calypso"
          ],
          [
           "cambodian rock"
          ],
          [
           "cambridge choir"
          ],
          [
           "cambridgeshire indie"
          ],
          [
           "cameroonian pop"
          ],
          [
           "canadian americana"
          ],
          [
           "canadian blues"
          ],
          [
           "canadian ccm"
          ],
          [
           "canadian celtic"
          ],
          [
           "canadian children's music"
          ],
          [
           "canadian choir"
          ],
          [
           "canadian classical"
          ],
          [
           "canadian classical piano"
          ],
          [
           "canadian comedy"
          ],
          [
           "canadian contemporary country"
          ],
          [
           "canadian contemporary r&b"
          ],
          [
           "canadian country"
          ],
          [
           "canadian electronic"
          ],
          [
           "canadian electropop"
          ],
          [
           "canadian experimental"
          ],
          [
           "canadian folk"
          ],
          [
           "canadian hardcore"
          ],
          [
           "canadian hip hop"
          ],
          [
           "canadian house"
          ],
          [
           "canadian indie"
          ],
          [
           "canadian indie folk"
          ],
          [
           "canadian indigenous"
          ],
          [
           "canadian indigenous hip hop"
          ],
          [
           "canadian latin"
          ],
          [
           "canadian metal"
          ],
          [
           "canadian metalcore"
          ],
          [
           "canadian modern jazz"
          ],
          [
           "canadian pop"
          ],
          [
           "canadian pop punk"
          ],
          [
           "canadian post-hardcore"
          ],
          [
           "canadian post-rock"
          ],
          [
           "canadian psychedelic"
          ],
          [
           "canadian punk"
          ],
          [
           "canadian rock"
          ],
          [
           "canadian rockabilly"
          ],
          [
           "canadian singer-songwriter"
          ],
          [
           "canadian soundtrack"
          ],
          [
           "cancion melodica"
          ],
          [
           "candy pop"
          ],
          [
           "cantautor"
          ],
          [
           "cante flamenco"
          ],
          [
           "canterbury scene"
          ],
          [
           "canto popular uruguayo"
          ],
          [
           "cantopop"
          ],
          [
           "canzone d'autore"
          ],
          [
           "canzone genovese"
          ],
          [
           "canzone napoletana"
          ],
          [
           "cape town indie"
          ],
          [
           "cape verdean folk"
          ],
          [
           "capoeira"
          ],
          [
           "caracas indie"
          ],
          [
           "carnatic"
          ],
          [
           "carnatic instrumental"
          ],
          [
           "carnatic vocal"
          ],
          [
           "cartoon"
          ],
          [
           "cathedral choir"
          ],
          [
           "caucasian classical"
          ],
          [
           "caucasian classical piano"
          ],
          [
           "ccm"
          ],
          [
           "cedm"
          ],
          [
           "cello"
          ],
          [
           "celtic"
          ],
          [
           "celtic harp"
          ],
          [
           "celtic metal"
          ],
          [
           "celtic punk"
          ],
          [
           "celtic rock"
          ],
          [
           "cha-cha-cha"
          ],
          [
           "chakra"
          ],
          [
           "chamame"
          ],
          [
           "chamber choir"
          ],
          [
           "chamber ensemble"
          ],
          [
           "chamber folk"
          ],
          [
           "chamber orchestra"
          ],
          [
           "chamber pop"
          ],
          [
           "chamber psych"
          ],
          [
           "champeta"
          ],
          [
           "channel islands indie"
          ],
          [
           "channel pop"
          ],
          [
           "chanson"
          ],
          [
           "chanson paillarde"
          ],
          [
           "chaotic hardcore"
          ],
          [
           "charanga"
          ],
          [
           "charango"
          ],
          [
           "charlotte nc indie"
          ],
          [
           "charlottesville indie"
          ],
          [
           "chattanooga indie"
          ],
          [
           "chicago blues"
          ],
          [
           "chicago drill"
          ],
          [
           "chicago hardcore"
          ],
          [
           "chicago house"
          ],
          [
           "chicago indie"
          ],
          [
           "chicago pop punk"
          ],
          [
           "chicago punk"
          ],
          [
           "chicago rap"
          ],
          [
           "chicago soul"
          ],
          [
           "chicano punk"
          ],
          [
           "chicano rap"
          ],
          [
           "chicha"
          ],
          [
           "chihuahua indie"
          ],
          [
           "children's choir"
          ],
          [
           "children's folk"
          ],
          [
           "children's music"
          ],
          [
           "children's story"
          ],
          [
           "chilean hardcore"
          ],
          [
           "chilean indie"
          ],
          [
           "chilean rock"
          ],
          [
           "chilena"
          ],
          [
           "chill beats"
          ],
          [
           "chill guitar"
          ],
          [
           "chill lounge"
          ],
          [
           "chill out"
          ],
          [
           "chill pop"
          ],
          [
           "chill r&b"
          ],
          [
           "chillhop"
          ],
          [
           "chillstep"
          ],
          [
           "chillwave"
          ],
          [
           "chinese audiophile"
          ],
          [
           "chinese classical"
          ],
          [
           "chinese classical performance"
          ],
          [
           "chinese classical piano"
          ],
          [
           "chinese electropop"
          ],
          [
           "chinese hip hop"
          ],
          [
           "chinese idol pop"
          ],
          [
           "chinese indie"
          ],
          [
           "chinese indie rock"
          ],
          [
           "chinese instrumental"
          ],
          [
           "chinese jazz"
          ],
          [
           "chinese r&b"
          ],
          [
           "chinese soundtrack"
          ],
          [
           "chinese traditional"
          ],
          [
           "chiptune"
          ],
          [
           "chopped and screwed"
          ],
          [
           "choral"
          ],
          [
           "choro"
          ],
          [
           "christchurch indie"
          ],
          [
           "christelijk"
          ],
          [
           "christian a cappella"
          ],
          [
           "christian alternative rock"
          ],
          [
           "christian dance"
          ],
          [
           "christian hard rock"
          ],
          [
           "christian hardcore"
          ],
          [
           "christian hip hop"
          ],
          [
           "christian indie"
          ],
          [
           "christian metal"
          ],
          [
           "christian metalcore"
          ],
          [
           "christian music"
          ],
          [
           "christian pop"
          ],
          [
           "christian power metal"
          ],
          [
           "christian punk"
          ],
          [
           "christian relaxative"
          ],
          [
           "christian rock"
          ],
          [
           "christian trap"
          ],
          [
           "christian uplift"
          ],
          [
           "christmas instrumental"
          ],
          [
           "christmas product"
          ],
          [
           "chunchaca"
          ],
          [
           "chutney"
          ],
          [
           "cincinnati rap"
          ],
          [
           "cinematic post-rock"
          ],
          [
           "circuit"
          ],
          [
           "circus"
          ],
          [
           "classic afrobeat"
          ],
          [
           "classic arab pop"
          ],
          [
           "classic australian country"
          ],
          [
           "classic belgian pop"
          ],
          [
           "classic bhangra"
          ],
          [
           "classic bollywood"
          ],
          [
           "classic canadian rock"
          ],
          [
           "classic cantopop"
          ],
          [
           "classic colombian pop"
          ],
          [
           "classic country pop"
          ],
          [
           "classic czech pop"
          ],
          [
           "classic danish pop"
          ],
          [
           "classic dubstep"
          ],
          [
           "classic eurovision"
          ],
          [
           "classic finnish pop"
          ],
          [
           "classic french pop"
          ],
          [
           "classic garage rock"
          ],
          [
           "classic girl group"
          ],
          [
           "classic greek pop"
          ],
          [
           "classic hardstyle"
          ],
          [
           "classic icelandic pop"
          ],
          [
           "classic indo pop"
          ],
          [
           "classic iskelma"
          ],
          [
           "classic israeli pop"
          ],
          [
           "classic italian folk pop"
          ],
          [
           "classic italian pop"
          ],
          [
           "classic j-rock"
          ],
          [
           "classic japanese jazz"
          ],
          [
           "classic korean pop"
          ],
          [
           "classic latvian pop"
          ],
          [
           "classic mandopop"
          ],
          [
           "classic norwegian pop"
          ],
          [
           "classic opm"
          ],
          [
           "classic pakistani pop"
          ],
          [
           "classic persian pop"
          ],
          [
           "classic peruvian pop"
          ],
          [
           "classic polish pop"
          ],
          [
           "classic praise"
          ],
          [
           "classic psychedelic rock"
          ],
          [
           "classic punjabi pop"
          ],
          [
           "classic rock"
          ],
          [
           "classic russian pop"
          ],
          [
           "classic russian rock"
          ],
          [
           "classic schlager"
          ],
          [
           "classic soul"
          ],
          [
           "classic soundtrack"
          ],
          [
           "classic swedish pop"
          ],
          [
           "classic thai pop"
          ],
          [
           "classic tunisian pop"
          ],
          [
           "classic turkish pop"
          ],
          [
           "classic uk pop"
          ],
          [
           "classic venezuelan pop"
          ],
          [
           "classical"
          ],
          [
           "classical accordion"
          ],
          [
           "classical baritone"
          ],
          [
           "classical bass"
          ],
          [
           "classical cello"
          ],
          [
           "classical clarinet"
          ],
          [
           "classical contralto"
          ],
          [
           "classical countertenor"
          ],
          [
           "classical era"
          ],
          [
           "classical flute"
          ],
          [
           "classical guitar"
          ],
          [
           "classical harp"
          ],
          [
           "classical horn"
          ],
          [
           "classical mandolin"
          ],
          [
           "classical mezzo-soprano"
          ],
          [
           "classical oboe"
          ],
          [
           "classical organ"
          ],
          [
           "classical performance"
          ],
          [
           "classical piano"
          ],
          [
           "classical piano duo"
          ],
          [
           "classical piano trio"
          ],
          [
           "classical saxophone"
          ],
          [
           "classical soprano"
          ],
          [
           "classical tenor"
          ],
          [
           "classical trumpet"
          ],
          [
           "classify"
          ],
          [
           "clawhammer banjo"
          ],
          [
           "clean comedy"
          ],
          [
           "cleveland metal"
          ],
          [
           "coco"
          ],
          [
           "collage pop"
          ],
          [
           "college a cappella"
          ],
          [
           "colombian hip hop"
          ],
          [
           "colombian pop"
          ],
          [
           "colombian rock"
          ],
          [
           "columbus ohio indie"
          ],
          [
           "comedy"
          ],
          [
           "comedy rap"
          ],
          [
           "comedy rock"
          ],
          [
           "comic"
          ],
          [
           "comic metal"
          ],
          [
           "commons"
          ],
          [
           "complextro"
          ],
          [
           "compositional ambient"
          ],
          [
           "concepcion indie"
          ],
          [
           "concert band"
          ],
          [
           "connecticut hardcore"
          ],
          [
           "connecticut indie"
          ],
          [
           "conscious hip hop"
          ],
          [
           "contemporary choir"
          ],
          [
           "contemporary classical"
          ],
          [
           "contemporary classical piano"
          ],
          [
           "contemporary country"
          ],
          [
           "contemporary folk"
          ],
          [
           "contemporary gospel"
          ],
          [
           "contemporary jazz"
          ],
          [
           "contemporary post-bop"
          ],
          [
           "contemporary vocal jazz"
          ],
          [
           "contrabass"
          ],
          [
           "cool jazz"
          ],
          [
           "copla"
          ],
          [
           "cornish folk"
          ],
          [
           "cornwall indie"
          ],
          [
           "corrido"
          ],
          [
           "corridos cristianos"
          ],
          [
           "corridos tumbados"
          ],
          [
           "corrosion"
          ],
          [
           "cosmic american"
          ],
          [
           "cosmic post-rock"
          ],
          [
           "country"
          ],
          [
           "country blues"
          ],
          [
           "country boogie"
          ],
          [
           "country dawn"
          ],
          [
           "country gospel"
          ],
          [
           "country pop"
          ],
          [
           "country rap"
          ],
          [
           "country road"
          ],
          [
           "country rock"
          ],
          [
           "coverchill"
          ],
          [
           "cowboy western"
          ],
          [
           "cowpunk"
          ],
          [
           "crack rock steady"
          ],
          [
           "croatian folk"
          ],
          [
           "croatian pop"
          ],
          [
           "croatian rock"
          ],
          [
           "crossover thrash"
          ],
          [
           "crunk"
          ],
          [
           "crust punk"
          ],
          [
           "cuarteto"
          ],
          [
           "cuatro venezolano"
          ],
          [
           "cuban alternative"
          ],
          [
           "cuban rumba"
          ],
          [
           "cubaton"
          ],
          [
           "cumbia"
          ],
          [
           "cumbia andina mexicana"
          ],
          [
           "cumbia chilena"
          ],
          [
           "cumbia colombiana regia"
          ],
          [
           "cumbia ecuatoriana"
          ],
          [
           "cumbia funk"
          ],
          [
           "cumbia lagunera"
          ],
          [
           "cumbia paraguaya"
          ],
          [
           "cumbia peruana"
          ],
          [
           "cumbia pop"
          ],
          [
           "cumbia ranchera"
          ],
          [
           "cumbia salvadorena"
          ],
          [
           "cumbia santafesina"
          ],
          [
           "cumbia sonidera"
          ],
          [
           "cumbia villera"
          ],
          [
           "cyberpunk"
          ],
          [
           "cymraeg"
          ],
          [
           "cypriot pop"
          ],
          [
           "czech classical"
          ],
          [
           "czech classical piano"
          ],
          [
           "czech contemporary classical"
          ],
          [
           "d-beat"
          ],
          [
           "dabke"
          ],
          [
           "dakke dak"
          ],
          [
           "dallas indie"
          ],
          [
           "dance pop"
          ],
          [
           "dance rock"
          ],
          [
           "dance-punk"
          ],
          [
           "dancehall"
          ],
          [
           "dangdut"
          ],
          [
           "danish alternative rock"
          ],
          [
           "danish classical"
          ],
          [
           "danish electronic"
          ],
          [
           "danish electropop"
          ],
          [
           "danish hip hop"
          ],
          [
           "danish jazz"
          ],
          [
           "danish metal"
          ],
          [
           "danish pop"
          ],
          [
           "danish pop rock"
          ],
          [
           "danish post-punk"
          ],
          [
           "danish punk"
          ],
          [
           "danish rock"
          ],
          [
           "danish singer-songwriter"
          ],
          [
           "dansband"
          ],
          [
           "danseband"
          ],
          [
           "dansktop"
          ],
          [
           "danspunk"
          ],
          [
           "dark cabaret"
          ],
          [
           "dark clubbing"
          ],
          [
           "dark disco"
          ],
          [
           "dark hardcore"
          ],
          [
           "dark jazz"
          ],
          [
           "dark minimal techno"
          ],
          [
           "dark post-punk"
          ],
          [
           "dark techno"
          ],
          [
           "dark trap"
          ],
          [
           "dark wave"
          ],
          [
           "darksynth"
          ],
          [
           "dayton indie"
          ],
          [
           "dc hardcore"
          ],
          [
           "dc indie"
          ],
          [
           "death 'n' roll"
          ],
          [
           "death metal"
          ],
          [
           "deathcore"
          ],
          [
           "deathgrass"
          ],
          [
           "deathgrind"
          ],
          [
           "deathrash"
          ],
          [
           "deathrock"
          ],
          [
           "deathstep"
          ],
          [
           "deep acoustic pop"
          ],
          [
           "deep adult standards"
          ],
          [
           "deep big room"
          ],
          [
           "deep ccm"
          ],
          [
           "deep christian rock"
          ],
          [
           "deep classic garage rock"
          ],
          [
           "deep comedy"
          ],
          [
           "deep contemporary country"
          ],
          [
           "deep dance pop"
          ],
          [
           "deep delta blues"
          ],
          [
           "deep disco"
          ],
          [
           "deep disco house"
          ],
          [
           "deep dnb"
          ],
          [
           "deep east coast hip hop"
          ],
          [
           "deep euro house"
          ],
          [
           "deep flow"
          ],
          [
           "deep free jazz"
          ],
          [
           "deep freestyle"
          ],
          [
           "deep full on"
          ],
          [
           "deep funk"
          ],
          [
           "deep g funk"
          ],
          [
           "deep gothic post-punk"
          ],
          [
           "deep groove house"
          ],
          [
           "deep house"
          ],
          [
           "deep idm"
          ],
          [
           "deep indian pop"
          ],
          [
           "deep indie singer-songwriter"
          ],
          [
           "deep latin alternative"
          ],
          [
           "deep latin christian"
          ],
          [
           "deep melodic metalcore"
          ],
          [
           "deep minimal techno"
          ],
          [
           "deep motown"
          ],
          [
           "deep new americana"
          ],
          [
           "deep new wave"
          ],
          [
           "deep norteno"
          ],
          [
           "deep northern soul"
          ],
          [
           "deep pop edm"
          ],
          [
           "deep progressive house"
          ],
          [
           "deep psychobilly"
          ],
          [
           "deep punk rock"
          ],
          [
           "deep r&b"
          ],
          [
           "deep ragga"
          ],
          [
           "deep regional mexican"
          ],
          [
           "deep smooth jazz"
          ],
          [
           "deep soft rock"
          ],
          [
           "deep soul house"
          ],
          [
           "deep soundtrack"
          ],
          [
           "deep southern soul"
          ],
          [
           "deep southern trap"
          ],
          [
           "deep space rock"
          ],
          [
           "deep talent show"
          ],
          [
           "deep tech house"
          ],
          [
           "deep techno"
          ],
          [
           "deep tropical house"
          ],
          [
           "deep underground hip hop"
          ],
          [
           "deep uplifting trance"
          ],
          [
           "delta blues"
          ],
          [
           "dembow"
          ],
          [
           "denpa-kei"
          ],
          [
           "denton tx indie"
          ],
          [
           "denver indie"
          ],
          [
           "depressive black metal"
          ],
          [
           "derby indie"
          ],
          [
           "desert blues"
          ],
          [
           "desi hip hop"
          ],
          [
           "desi pop"
          ],
          [
           "destroy techno"
          ],
          [
           "detroit hip hop"
          ],
          [
           "detroit house"
          ],
          [
           "detroit techno"
          ],
          [
           "detroit trap"
          ],
          [
           "detske pisnicky"
          ],
          [
           "detskie pesni"
          ],
          [
           "devon indie"
          ],
          [
           "dfw rap"
          ],
          [
           "dhrupad"
          ],
          [
           "digital hardcore"
          ],
          [
           "dinner jazz"
          ],
          [
           "dirty south rap"
          ],
          [
           "dirty texas rap"
          ],
          [
           "disco"
          ],
          [
           "disco house"
          ],
          [
           "disney"
          ],
          [
           "diva house"
          ],
          [
           "dixieland"
          ],
          [
           "diy emo"
          ],
          [
           "djent"
          ],
          [
           "dmv rap"
          ],
          [
           "dominican pop"
          ],
          [
           "dong-yo"
          ],
          [
           "doo-wop"
          ],
          [
           "doom metal"
          ],
          [
           "double drumming"
          ],
          [
           "downtempo"
          ],
          [
           "drama"
          ],
          [
           "dream pop"
          ],
          [
           "dream trance"
          ],
          [
           "dreamgaze"
          ],
          [
           "dreamo"
          ],
          [
           "drift"
          ],
          [
           "drill"
          ],
          [
           "drill and bass"
          ],
          [
           "drone"
          ],
          [
           "drone folk"
          ],
          [
           "drone metal"
          ],
          [
           "drum and bass"
          ],
          [
           "dub"
          ],
          [
           "dub metal"
          ],
          [
           "dub poetry"
          ],
          [
           "dub techno"
          ],
          [
           "dubstep"
          ],
          [
           "dubsteppe"
          ],
          [
           "duduk"
          ],
          [
           "duluth indie"
          ],
          [
           "dunedin indie"
          ],
          [
           "dunedin sound"
          ],
          [
           "dungeon synth"
          ],
          [
           "duranguense"
          ],
          [
           "dusseldorf electronic"
          ],
          [
           "dutch blues"
          ],
          [
           "dutch cabaret"
          ],
          [
           "dutch classical piano"
          ],
          [
           "dutch death metal"
          ],
          [
           "dutch dnb"
          ],
          [
           "dutch edm"
          ],
          [
           "dutch folk"
          ],
          [
           "dutch hip hop"
          ],
          [
           "dutch house"
          ],
          [
           "dutch indie"
          ],
          [
           "dutch jazz"
          ],
          [
           "dutch metal"
          ],
          [
           "dutch pop"
          ],
          [
           "dutch prog"
          ],
          [
           "dutch rap pop"
          ],
          [
           "dutch rock"
          ],
          [
           "dutch trance"
          ],
          [
           "e6fi"
          ],
          [
           "early american folk"
          ],
          [
           "early avant garde"
          ],
          [
           "early modern classical"
          ],
          [
           "early music"
          ],
          [
           "early music choir"
          ],
          [
           "early music ensemble"
          ],
          [
           "early reggae"
          ],
          [
           "early romantic era"
          ],
          [
           "early synthpop"
          ],
          [
           "early us punk"
          ],
          [
           "east coast hip hop"
          ],
          [
           "east coast reggae"
          ],
          [
           "eastern bloc groove"
          ],
          [
           "easy listening"
          ],
          [
           "easycore"
          ],
          [
           "eau claire indie"
          ],
          [
           "ebm"
          ],
          [
           "ecm-style jazz"
          ],
          [
           "ectofolk"
          ],
          [
           "ecuadorian pop"
          ],
          [
           "edm"
          ],
          [
           "edmonton indie"
          ],
          [
           "egyptian pop"
          ],
          [
           "egyptian traditional"
          ],
          [
           "el paso indie"
          ],
          [
           "electra"
          ],
          [
           "electric bass"
          ],
          [
           "electric blues"
          ],
          [
           "electro"
          ],
          [
           "electro house"
          ],
          [
           "electro jazz"
          ],
          [
           "electro latino"
          ],
          [
           "electro swing"
          ],
          [
           "electro-industrial"
          ],
          [
           "electro-pop francais"
          ],
          [
           "electroclash"
          ],
          [
           "electrofox"
          ],
          [
           "electronic djent"
          ],
          [
           "electronic rock"
          ],
          [
           "electronic trap"
          ],
          [
           "electronica"
          ],
          [
           "electronica argentina"
          ],
          [
           "electropop"
          ],
          [
           "electropowerpop"
          ],
          [
           "emo"
          ],
          [
           "emo mexicano"
          ],
          [
           "emo punk"
          ],
          [
           "emo rap"
          ],
          [
           "emocore"
          ],
          [
           "english baroque"
          ],
          [
           "english indie rock"
          ],
          [
           "english renaissance"
          ],
          [
           "enka"
          ],
          [
           "entehno"
          ],
          [
           "environmental"
          ],
          [
           "epic doom"
          ],
          [
           "epicore"
          ],
          [
           "erhu"
          ],
          [
           "escape room"
          ],
          [
           "esperanto"
          ],
          [
           "essex indie"
          ],
          [
           "estonian hip hop"
          ],
          [
           "estonian pop"
          ],
          [
           "ethereal wave"
          ],
          [
           "etherpop"
          ],
          [
           "ethio-jazz"
          ],
          [
           "ethiopian pop"
          ],
          [
           "ethnomusicology"
          ],
          [
           "ethnotronica"
          ],
          [
           "eugene indie"
          ],
          [
           "euphoric hardstyle"
          ],
          [
           "eurobeat"
          ],
          [
           "eurodance"
          ],
          [
           "europop"
          ],
          [
           "euroska"
          ],
          [
           "eurovision"
          ],
          [
           "exotica"
          ],
          [
           "experimental"
          ],
          [
           "experimental ambient"
          ],
          [
           "experimental big band"
          ],
          [
           "experimental dub"
          ],
          [
           "experimental folk"
          ],
          [
           "experimental guitar"
          ],
          [
           "experimental hip hop"
          ],
          [
           "experimental house"
          ],
          [
           "experimental indie"
          ],
          [
           "experimental jazz"
          ],
          [
           "experimental pop"
          ],
          [
           "experimental rock"
          ],
          [
           "experimental vocal"
          ],
          [
           "fado"
          ],
          [
           "family gospel"
          ],
          [
           "faroese pop"
          ],
          [
           "fast melodic punk"
          ],
          [
           "fidget house"
          ],
          [
           "filmi"
          ],
          [
           "filter house"
          ],
          [
           "filthstep"
          ],
          [
           "final fantasy"
          ],
          [
           "fingerstyle"
          ],
          [
           "finnish alternative rock"
          ],
          [
           "finnish classical"
          ],
          [
           "finnish contemporary classical"
          ],
          [
           "finnish death metal"
          ],
          [
           "finnish edm"
          ],
          [
           "finnish hard rock"
          ],
          [
           "finnish heavy metal"
          ],
          [
           "finnish metal"
          ],
          [
           "finnish power metal"
          ],
          [
           "finnish soul"
          ],
          [
           "flamenco"
          ],
          [
           "flamenco guitar"
          ],
          [
           "flick hop"
          ],
          [
           "flint hip hop"
          ],
          [
           "float house"
          ],
          [
           "florida death metal"
          ],
          [
           "florida rap"
          ],
          [
           "fluxwork"
          ],
          [
           "fo jing"
          ],
          [
           "focus"
          ],
          [
           "focus beats"
          ],
          [
           "focus trance"
          ],
          [
           "folclor afrocolombiano"
          ],
          [
           "folclor colombiano"
          ],
          [
           "folclore extremeno"
          ],
          [
           "folclore jujeno"
          ],
          [
           "folclore navarra"
          ],
          [
           "folclore salteno"
          ],
          [
           "folclore tucumano"
          ],
          [
           "folk"
          ],
          [
           "folk metal"
          ],
          [
           "folk punk"
          ],
          [
           "folk rock"
          ],
          [
           "folk rock italiano"
          ],
          [
           "folk-pop"
          ],
          [
           "folklore argentino"
          ],
          [
           "folklore boliviano"
          ],
          [
           "folklore chileno"
          ],
          [
           "folklore ecuatoriano"
          ],
          [
           "folklore peruano"
          ],
          [
           "folklore venezolano"
          ],
          [
           "folklore veracruzano"
          ],
          [
           "folkmusik"
          ],
          [
           "folktronica"
          ],
          [
           "footwork"
          ],
          [
           "forro"
          ],
          [
           "forro tradicional"
          ],
          [
           "fort worth indie"
          ],
          [
           "fourth world"
          ],
          [
           "francoton"
          ],
          [
           "freak folk"
          ],
          [
           "freakbeat"
          ],
          [
           "free folk"
          ],
          [
           "free improvisation"
          ],
          [
           "free jazz"
          ],
          [
           "freestyle"
          ],
          [
           "french baroque"
          ],
          [
           "french classical piano"
          ],
          [
           "french contemporary classical"
          ],
          [
           "french death metal"
          ],
          [
           "french dnb"
          ],
          [
           "french hip hop"
          ],
          [
           "french indie folk"
          ],
          [
           "french indie pop"
          ],
          [
           "french indietronica"
          ],
          [
           "french jazz"
          ],
          [
           "french metal"
          ],
          [
           "french movie tunes"
          ],
          [
           "french opera"
          ],
          [
           "french orchestra"
          ],
          [
           "french pop"
          ],
          [
           "french post-punk"
          ],
          [
           "french psychedelic"
          ],
          [
           "french reggae"
          ],
          [
           "french rock"
          ],
          [
           "french romanticism"
          ],
          [
           "french shoegaze"
          ],
          [
           "french soundtrack"
          ],
          [
           "french synthpop"
          ],
          [
           "french techno"
          ],
          [
           "frenchcore"
          ],
          [
           "full on"
          ],
          [
           "funana"
          ],
          [
           "funeral doom"
          ],
          [
           "funk"
          ],
          [
           "funk 150 bpm"
          ],
          [
           "funk carioca"
          ],
          [
           "funk das antigas"
          ],
          [
           "funk metal"
          ],
          [
           "funk mexicano"
          ],
          [
           "funk ostentacao"
          ],
          [
           "funk paulista"
          ],
          [
           "funk pop"
          ],
          [
           "funk rock"
          ],
          [
           "funky breaks"
          ],
          [
           "funky tech house"
          ],
          [
           "future bass"
          ],
          [
           "future funk"
          ],
          [
           "future garage"
          ],
          [
           "future house"
          ],
          [
           "future rock"
          ],
          [
           "futurepop"
          ],
          [
           "g funk"
          ],
          [
           "gabba"
          ],
          [
           "gabonese pop"
          ],
          [
           "gaian doom"
          ],
          [
           "gainesville indie"
          ],
          [
           "gaita zuliana"
          ],
          [
           "galante era"
          ],
          [
           "gamelan"
          ],
          [
           "gaming dubstep"
          ],
          [
           "gaming edm"
          ],
          [
           "gangster rap"
          ],
          [
           "garage house"
          ],
          [
           "garage pop"
          ],
          [
           "garage psych"
          ],
          [
           "garage punk"
          ],
          [
           "garage punk blues"
          ],
          [
           "garage rock"
          ],
          [
           "garage rock revival"
          ],
          [
           "gauze pop"
          ],
          [
           "gbvfi"
          ],
          [
           "geek folk"
          ],
          [
           "geek rock"
          ],
          [
           "georgian folk"
          ],
          [
           "german alternative rock"
          ],
          [
           "german baroque"
          ],
          [
           "german choir"
          ],
          [
           "german classical piano"
          ],
          [
           "german country"
          ],
          [
           "german dance"
          ],
          [
           "german hard rock"
          ],
          [
           "german heavy metal"
          ],
          [
           "german house"
          ],
          [
           "german indie"
          ],
          [
           "german jazz"
          ],
          [
           "german literature"
          ],
          [
           "german metal"
          ],
          [
           "german oi"
          ],
          [
           "german opera"
          ],
          [
           "german orchestra"
          ],
          [
           "german pop"
          ],
          [
           "german pop rock"
          ],
          [
           "german post-hardcore"
          ],
          [
           "german power metal"
          ],
          [
           "german punk"
          ],
          [
           "german renaissance"
          ],
          [
           "german rock"
          ],
          [
           "german romanticism"
          ],
          [
           "german show tunes"
          ],
          [
           "german soundtrack"
          ],
          [
           "german techno"
          ],
          [
           "german thrash metal"
          ],
          [
           "german trance"
          ],
          [
           "german underground rap"
          ],
          [
           "ghanaian hip hop"
          ],
          [
           "ghanaian traditional"
          ],
          [
           "ghazal"
          ],
          [
           "ghent indie"
          ],
          [
           "girl group"
          ],
          [
           "glam metal"
          ],
          [
           "glam punk"
          ],
          [
           "glam rock"
          ],
          [
           "glee club"
          ],
          [
           "glitch"
          ],
          [
           "glitch hop"
          ],
          [
           "glitch pop"
          ],
          [
           "glitchcore"
          ],
          [
           "go-go"
          ],
          [
           "goregrind"
          ],
          [
           "gospel"
          ],
          [
           "gospel antigas"
          ],
          [
           "gospel blues"
          ],
          [
           "gospel italiano"
          ],
          [
           "gospel r&b"
          ],
          [
           "gospel rap"
          ],
          [
           "gospel singers"
          ],
          [
           "gospel soul"
          ],
          [
           "gothabilly"
          ],
          [
           "gothenburg indie"
          ],
          [
           "gothenburg metal"
          ],
          [
           "gothic alternative"
          ],
          [
           "gothic americana"
          ],
          [
           "gothic black metal"
          ],
          [
           "gothic metal"
          ],
          [
           "gothic post-punk"
          ],
          [
           "gothic rock"
          ],
          [
           "gothic symphonic metal"
          ],
          [
           "gqom"
          ],
          [
           "grand rapids indie"
          ],
          [
           "grave wave"
          ],
          [
           "greek clarinet"
          ],
          [
           "greek contemporary classical"
          ],
          [
           "greek folk"
          ],
          [
           "greek guitar"
          ],
          [
           "greek house"
          ],
          [
           "greek jazz"
          ],
          [
           "greek pop"
          ],
          [
           "greek swing"
          ],
          [
           "gregorian chant"
          ],
          [
           "grime"
          ],
          [
           "grindcore"
          ],
          [
           "griot"
          ],
          [
           "groove metal"
          ],
          [
           "groove room"
          ],
          [
           "grunge"
          ],
          [
           "grunge pop"
          ],
          [
           "grupera"
          ],
          [
           "gruperas inmortales"
          ],
          [
           "guadalajara indie"
          ],
          [
           "guam indie"
          ],
          [
           "guaracha"
          ],
          [
           "guatemalan pop"
          ],
          [
           "guidance"
          ],
          [
           "guinean pop"
          ],
          [
           "guitarra argentina"
          ],
          [
           "guitarra clasica"
          ],
          [
           "guitarra portuguesa"
          ],
          [
           "gujarati garba"
          ],
          [
           "gujarati pop"
          ],
          [
           "guzheng"
          ],
          [
           "gymcore"
          ],
          [
           "gypsy"
          ],
          [
           "gypsy jazz"
          ],
          [
           "gypsy punk"
          ],
          [
           "haitian traditional"
          ],
          [
           "halifax indie"
          ],
          [
           "halloween"
          ],
          [
           "hamburg electronic"
          ],
          [
           "hammered dulcimer"
          ],
          [
           "hammond organ"
          ],
          [
           "hands up"
          ],
          [
           "hangpan"
          ],
          [
           "happy hardcore"
          ],
          [
           "hard alternative"
          ],
          [
           "hard bop"
          ],
          [
           "hard minimal techno"
          ],
          [
           "hard rock"
          ],
          [
           "hard rock brasileiro"
          ],
          [
           "hardcore"
          ],
          [
           "hardcore hip hop"
          ],
          [
           "hardcore punk"
          ],
          [
           "hardcore techno"
          ],
          [
           "hardstyle"
          ],
          [
           "harlem hip hop"
          ],
          [
           "harlem renaissance"
          ],
          [
           "harmonica blues"
          ],
          [
           "harmonica jazz"
          ],
          [
           "harp"
          ],
          [
           "harpsichord"
          ],
          [
           "haryanvi pop"
          ],
          [
           "hauntology"
          ],
          [
           "hawaiian"
          ],
          [
           "hawaiian hip hop"
          ],
          [
           "hawaiian indie"
          ],
          [
           "healing"
          ],
          [
           "heartland rock"
          ],
          [
           "hi-nrg"
          ],
          [
           "highlife"
          ],
          [
           "hindi hip hop"
          ],
          [
           "hindi indie"
          ],
          [
           "hindustani classical"
          ],
          [
           "hindustani instrumental"
          ],
          [
           "hindustani vocal"
          ],
          [
           "hip hop"
          ],
          [
           "hip hop cubano"
          ],
          [
           "hip house"
          ],
          [
           "hip pop"
          ],
          [
           "hiplife"
          ],
          [
           "histoire pour enfants"
          ],
          [
           "historic classical performance"
          ],
          [
           "historic orchestral performance"
          ],
          [
           "historic piano performance"
          ],
          [
           "historic string quartet"
          ],
          [
           "historical keyboard"
          ],
          [
           "historically informed performance"
          ],
          [
           "hoerspiel"
          ],
          [
           "hokkien pop"
          ],
          [
           "hollywood"
          ],
          [
           "hong kong hip hop"
          ],
          [
           "hong kong indie"
          ],
          [
           "hong kong rock"
          ],
          [
           "honky tonk"
          ],
          [
           "honky-tonk piano"
          ],
          [
           "hopebeat"
          ],
          [
           "horror punk"
          ],
          [
           "horror synth"
          ],
          [
           "horrorcore"
          ],
          [
           "house"
          ],
          [
           "houston rap"
          ],
          [
           "huapango"
          ],
          [
           "huayno"
          ],
          [
           "hula"
          ],
          [
           "humppa"
          ],
          [
           "hungarian choir"
          ],
          [
           "hungarian classical performance"
          ],
          [
           "hungarian classical piano"
          ],
          [
           "hungarian contemporary classical"
          ],
          [
           "hungarian edm"
          ],
          [
           "hungarian folk"
          ],
          [
           "hungarian pop"
          ],
          [
           "hungarian rock"
          ],
          [
           "hungarian techno"
          ],
          [
           "hurdy-gurdy"
          ],
          [
           "hyperpop"
          ],
          [
           "hyphy"
          ],
          [
           "icelandic classical"
          ],
          [
           "icelandic electronic"
          ],
          [
           "icelandic experimental"
          ],
          [
           "icelandic folk"
          ],
          [
           "icelandic indie"
          ],
          [
           "icelandic jazz"
          ],
          [
           "icelandic pop"
          ],
          [
           "icelandic rock"
          ],
          [
           "idaho indie"
          ],
          [
           "idol"
          ],
          [
           "idol rock"
          ],
          [
           "ilahiler"
          ],
          [
           "ilocano pop"
          ],
          [
           "impressionism"
          ],
          [
           "indian classical"
          ],
          [
           "indian edm"
          ],
          [
           "indian folk"
          ],
          [
           "indian fusion"
          ],
          [
           "indian indie"
          ],
          [
           "indian instrumental"
          ],
          [
           "indian jazz"
          ],
          [
           "indiana hip hop"
          ],
          [
           "indie anthem-folk"
          ],
          [
           "indie cafe pop"
          ],
          [
           "indie deutschrap"
          ],
          [
           "indie dream pop"
          ],
          [
           "indie electronica"
          ],
          [
           "indie electropop"
          ],
          [
           "indie folk"
          ],
          [
           "indie game soundtrack"
          ],
          [
           "indie garage rock"
          ],
          [
           "indie hip hop"
          ],
          [
           "indie jazz"
          ],
          [
           "indie pop"
          ],
          [
           "indie pop rap"
          ],
          [
           "indie poptimism"
          ],
          [
           "indie psych-pop"
          ],
          [
           "indie punk"
          ],
          [
           "indie quebecois"
          ],
          [
           "indie r&b"
          ],
          [
           "indie rock"
          ],
          [
           "indie rock mexicano"
          ],
          [
           "indie rockism"
          ],
          [
           "indie shoegaze"
          ],
          [
           "indie singer-songwriter"
          ],
          [
           "indie soul"
          ],
          [
           "indie surf"
          ],
          [
           "indie triste"
          ],
          [
           "indiecoustica"
          ],
          [
           "indietronica"
          ],
          [
           "indonesian hip hop"
          ],
          [
           "indonesian indie"
          ],
          [
           "indonesian pop"
          ],
          [
           "indonesian r&b"
          ],
          [
           "indonesian worship"
          ],
          [
           "industrial"
          ],
          [
           "industrial hardcore"
          ],
          [
           "industrial hip hop"
          ],
          [
           "industrial metal"
          ],
          [
           "industrial rock"
          ],
          [
           "indy indie"
          ],
          [
           "instrumental acoustic guitar"
          ],
          [
           "instrumental bluegrass"
          ],
          [
           "instrumental funk"
          ],
          [
           "instrumental grime"
          ],
          [
           "instrumental math rock"
          ],
          [
           "instrumental post-rock"
          ],
          [
           "instrumental progressive metal"
          ],
          [
           "instrumental rock"
          ],
          [
           "instrumental soul"
          ],
          [
           "instrumental stoner rock"
          ],
          [
           "instrumental surf"
          ],
          [
           "intelligent dance music"
          ],
          [
           "iowa hip hop"
          ],
          [
           "irish accordion"
          ],
          [
           "irish ballad"
          ],
          [
           "irish banjo"
          ],
          [
           "irish classical"
          ],
          [
           "irish country"
          ],
          [
           "irish dance"
          ],
          [
           "irish fiddle"
          ],
          [
           "irish folk"
          ],
          [
           "irish hip hop"
          ],
          [
           "irish indie"
          ],
          [
           "irish metal"
          ],
          [
           "irish pop"
          ],
          [
           "irish pub song"
          ],
          [
           "irish rock"
          ],
          [
           "irish singer-songwriter"
          ],
          [
           "iskelma"
          ],
          [
           "islamic recitation"
          ],
          [
           "isle of wight indie"
          ],
          [
           "israeli classical"
          ],
          [
           "israeli classical piano"
          ],
          [
           "israeli folk"
          ],
          [
           "israeli hip hop"
          ],
          [
           "israeli mediterranean"
          ],
          [
           "israeli pop"
          ],
          [
           "israeli rock"
          ],
          [
           "israeli singer-songwriter"
          ],
          [
           "israeli techno"
          ],
          [
           "italian adult pop"
          ],
          [
           "italian baritone"
          ],
          [
           "italian baroque"
          ],
          [
           "italian baroque ensemble"
          ],
          [
           "italian bass"
          ],
          [
           "italian blues"
          ],
          [
           "italian classical guitar"
          ],
          [
           "italian classical piano"
          ],
          [
           "italian contemporary jazz"
          ],
          [
           "italian disco"
          ],
          [
           "italian gothic"
          ],
          [
           "italian gothic metal"
          ],
          [
           "italian indie pop"
          ],
          [
           "italian jazz"
          ],
          [
           "italian library music"
          ],
          [
           "italian mandolin"
          ],
          [
           "italian metal"
          ],
          [
           "italian mezzo-soprano"
          ],
          [
           "italian modern prog"
          ],
          [
           "italian opera"
          ],
          [
           "italian orchestra"
          ],
          [
           "italian pop rock"
          ],
          [
           "italian power metal"
          ],
          [
           "italian progressive metal"
          ],
          [
           "italian progressive rock"
          ],
          [
           "italian renaissance"
          ],
          [
           "italian romanticism"
          ],
          [
           "italian soprano"
          ],
          [
           "italian soundtrack"
          ],
          [
           "italian techno"
          ],
          [
           "italian tenor"
          ],
          [
           "italian violin"
          ],
          [
           "italo dance"
          ],
          [
           "italo house"
          ],
          [
           "j-acoustic"
          ],
          [
           "j-ambient"
          ],
          [
           "j-dance"
          ],
          [
           "j-division"
          ],
          [
           "j-idol"
          ],
          [
           "j-metal"
          ],
          [
           "j-pixie"
          ],
          [
           "j-pop"
          ],
          [
           "j-pop girl group"
          ],
          [
           "j-poprock"
          ],
          [
           "j-punk"
          ],
          [
           "j-reggae"
          ],
          [
           "j-rock"
          ],
          [
           "jacksonville indie"
          ],
          [
           "jam band"
          ],
          [
           "jamgrass"
          ],
          [
           "jamtronica"
          ],
          [
           "jangle pop"
          ],
          [
           "japanese alternative rock"
          ],
          [
           "japanese chillhop"
          ],
          [
           "japanese city pop"
          ],
          [
           "japanese classical"
          ],
          [
           "japanese classical performance"
          ],
          [
           "japanese classical piano"
          ],
          [
           "japanese concert band"
          ],
          [
           "japanese dream pop"
          ],
          [
           "japanese electronic"
          ],
          [
           "japanese electropop"
          ],
          [
           "japanese emo"
          ],
          [
           "japanese experimental"
          ],
          [
           "japanese folk"
          ],
          [
           "japanese garage rock"
          ],
          [
           "japanese girl punk"
          ],
          [
           "japanese heavy metal"
          ],
          [
           "japanese idm"
          ],
          [
           "japanese indie folk"
          ],
          [
           "japanese indie rock"
          ],
          [
           "japanese instrumental"
          ],
          [
           "japanese jazz"
          ],
          [
           "japanese jazz fusion"
          ],
          [
           "japanese jazztronica"
          ],
          [
           "japanese metalcore"
          ],
          [
           "japanese new wave"
          ],
          [
           "japanese piano"
          ],
          [
           "japanese pop punk"
          ],
          [
           "japanese post-hardcore"
          ],
          [
           "japanese power metal"
          ],
          [
           "japanese prog"
          ],
          [
           "japanese psychedelic"
          ],
          [
           "japanese punk rock"
          ],
          [
           "japanese r&b"
          ],
          [
           "japanese rockabilly"
          ],
          [
           "japanese singer-songwriter"
          ],
          [
           "japanese soundtrack"
          ],
          [
           "japanese traditional"
          ],
          [
           "japanese vgm"
          ],
          [
           "japanese vocal jazz"
          ],
          [
           "jawaiian"
          ],
          [
           "jazz"
          ],
          [
           "jazz accordion"
          ],
          [
           "jazz blues"
          ],
          [
           "jazz boom bap"
          ],
          [
           "jazz brass"
          ],
          [
           "jazz chileno"
          ],
          [
           "jazz clarinet"
          ],
          [
           "jazz colombiano"
          ],
          [
           "jazz cubano"
          ],
          [
           "jazz double bass"
          ],
          [
           "jazz drums"
          ],
          [
           "jazz flute"
          ],
          [
           "jazz funk"
          ],
          [
           "jazz fusion"
          ],
          [
           "jazz guitar"
          ],
          [
           "jazz harp"
          ],
          [
           "jazz metal"
          ],
          [
           "jazz mexicano"
          ],
          [
           "jazz orchestra"
          ],
          [
           "jazz organ"
          ],
          [
           "jazz piano"
          ],
          [
           "jazz pop"
          ],
          [
           "jazz quartet"
          ],
          [
           "jazz rap"
          ],
          [
           "jazz rock"
          ],
          [
           "jazz saxophone"
          ],
          [
           "jazz trio"
          ],
          [
           "jazz trombone"
          ],
          [
           "jazz trumpet"
          ],
          [
           "jazz tuba"
          ],
          [
           "jazz venezolano"
          ],
          [
           "jazz vibraphone"
          ],
          [
           "jazz violin"
          ],
          [
           "jazztronica"
          ],
          [
           "jewish cantorial"
          ],
          [
           "jewish hip hop"
          ],
          [
           "jig and reel"
          ],
          [
           "jordanian pop"
          ],
          [
           "joropo"
          ],
          [
           "jovem guarda"
          ],
          [
           "jug band"
          ],
          [
           "juju"
          ],
          [
           "jump blues"
          ],
          [
           "jump up"
          ],
          [
           "k-indie"
          ],
          [
           "k-pop"
          ],
          [
           "k-pop boy group"
          ],
          [
           "k-pop girl group"
          ],
          [
           "k-rap"
          ],
          [
           "kabarett"
          ],
          [
           "kabyle"
          ],
          [
           "kaneka"
          ],
          [
           "kannada bhava geethe"
          ],
          [
           "kansas city hip hop"
          ],
          [
           "kashmiri pop"
          ],
          [
           "kawaii future bass"
          ],
          [
           "kawaii metal"
          ],
          [
           "kayokyoku"
          ],
          [
           "kc indie"
          ],
          [
           "kent indie"
          ],
          [
           "kentucky hip hop"
          ],
          [
           "kentucky indie"
          ],
          [
           "kentucky metal"
          ],
          [
           "kentucky mountain folk"
          ],
          [
           "kentucky punk"
          ],
          [
           "kentucky roots"
          ],
          [
           "keroncong"
          ],
          [
           "khaleeji iraqi"
          ],
          [
           "khmer"
          ],
          [
           "kids dance party"
          ],
          [
           "kindie rock"
          ],
          [
           "kingston on indie"
          ],
          [
           "kirtan"
          ],
          [
           "kiwi rock"
          ],
          [
           "kizomba antigas"
          ],
          [
           "kleine hoerspiel"
          ],
          [
           "klezmer"
          ],
          [
           "knoxville indie"
          ],
          [
           "kodomo no ongaku"
          ],
          [
           "kolsche karneval"
          ],
          [
           "komedi"
          ],
          [
           "kompa"
          ],
          [
           "kora"
          ],
          [
           "korean classical performance"
          ],
          [
           "korean classical piano"
          ],
          [
           "korean indie rock"
          ],
          [
           "korean mask singer"
          ],
          [
           "korean pop"
          ],
          [
           "korean r&b"
          ],
          [
           "korean trap"
          ],
          [
           "koto"
          ],
          [
           "krautrock"
          ],
          [
           "kundiman"
          ],
          [
           "la indie"
          ],
          [
           "la pop"
          ],
          [
           "laboratorio"
          ],
          [
           "lafayette indie"
          ],
          [
           "laiko"
          ],
          [
           "lancashire indie"
          ],
          [
           "lancaster pa indie"
          ],
          [
           "late romantic era"
          ],
          [
           "latin"
          ],
          [
           "latin afrobeat"
          ],
          [
           "latin alternative"
          ],
          [
           "latin american classical piano"
          ],
          [
           "latin arena pop"
          ],
          [
           "latin christian"
          ],
          [
           "latin classical"
          ],
          [
           "latin funk"
          ],
          [
           "latin hip hop"
          ],
          [
           "latin house"
          ],
          [
           "latin jazz"
          ],
          [
           "latin metal"
          ],
          [
           "latin pop"
          ],
          [
           "latin rock"
          ],
          [
           "latin ska"
          ],
          [
           "latin soundtrack"
          ],
          [
           "latin talent show"
          ],
          [
           "latin tech house"
          ],
          [
           "latin viral pop"
          ],
          [
           "latin worship"
          ],
          [
           "latincore"
          ],
          [
           "latino comedy"
          ],
          [
           "latintronica"
          ],
          [
           "latinx alternative"
          ],
          [
           "latvian pop"
          ],
          [
           "lds"
          ],
          [
           "lds youth"
          ],
          [
           "lebanese pop"
          ],
          [
           "leicester indie"
          ],
          [
           "lexington ky indie"
          ],
          [
           "lgbtq+ hip hop"
          ],
          [
           "library music"
          ],
          [
           "liedermacher"
          ],
          [
           "light music"
          ],
          [
           "lilith"
          ],
          [
           "liquid funk"
          ],
          [
           "lithuanian electronic"
          ],
          [
           "liverpool indie"
          ],
          [
           "livetronica"
          ],
          [
           "lldm"
          ],
          [
           "lo star"
          ],
          [
           "lo-fi"
          ],
          [
           "lo-fi beats"
          ],
          [
           "lo-fi brasileiro"
          ],
          [
           "lo-fi chill"
          ],
          [
           "lo-fi cover"
          ],
          [
           "lo-fi emo"
          ],
          [
           "lo-fi house"
          ],
          [
           "lo-fi indie"
          ],
          [
           "lo-fi vgm"
          ],
          [
           "london rap"
          ],
          [
           "louisiana blues"
          ],
          [
           "louisiana metal"
          ],
          [
           "louisville indie"
          ],
          [
           "louisville underground"
          ],
          [
           "lounge"
          ],
          [
           "louvor"
          ],
          [
           "lovers rock"
          ],
          [
           "lullaby"
          ],
          [
           "lund indie"
          ],
          [
           "lute"
          ],
          [
           "macedonian folk"
          ],
          [
           "madchester"
          ],
          [
           "madrigal"
          ],
          [
           "magyar alternative"
          ],
          [
           "maine hip hop"
          ],
          [
           "maine indie"
          ],
          [
           "mainland chinese pop"
          ],
          [
           "makossa"
          ],
          [
           "malaysian mandopop"
          ],
          [
           "malaysian pop"
          ],
          [
           "malian blues"
          ],
          [
           "mallet"
          ],
          [
           "malmo indie"
          ],
          [
           "mambo"
          ],
          [
           "manchester hip hop"
          ],
          [
           "manchester indie"
          ],
          [
           "mande pop"
          ],
          [
           "mandolin"
          ],
          [
           "mandopop"
          ],
          [
           "manguebeat"
          ],
          [
           "manila sound"
          ],
          [
           "manitoba indie"
          ],
          [
           "mantra"
          ],
          [
           "marathi pop"
          ],
          [
           "marathi traditional"
          ],
          [
           "marching band"
          ],
          [
           "mariachi"
          ],
          [
           "mariachi cristiano"
          ],
          [
           "marimba orquesta"
          ],
          [
           "martial industrial"
          ],
          [
           "mashup"
          ],
          [
           "math rock"
          ],
          [
           "mathcore"
          ],
          [
           "mbalax"
          ],
          [
           "medieval"
          ],
          [
           "medieval folk"
          ],
          [
           "medieval rock"
          ],
          [
           "meditation"
          ],
          [
           "melancholia"
          ],
          [
           "melbourne bounce"
          ],
          [
           "melbourne bounce international"
          ],
          [
           "melbourne indie"
          ],
          [
           "mellow gold"
          ],
          [
           "melodic death metal"
          ],
          [
           "melodic deathcore"
          ],
          [
           "melodic dubstep"
          ],
          [
           "melodic groove metal"
          ],
          [
           "melodic hard rock"
          ],
          [
           "melodic hardcore"
          ],
          [
           "melodic metal"
          ],
          [
           "melodic metalcore"
          ],
          [
           "melodic power metal"
          ],
          [
           "melodic rap"
          ],
          [
           "melodic thrash"
          ],
          [
           "meme rap"
          ],
          [
           "memphis americana"
          ],
          [
           "memphis blues"
          ],
          [
           "memphis hip hop"
          ],
          [
           "memphis indie"
          ],
          [
           "memphis soul"
          ],
          [
           "mento"
          ],
          [
           "merengue"
          ],
          [
           "merengue tipico"
          ],
          [
           "merseybeat"
          ],
          [
           "messianic praise"
          ],
          [
           "metal"
          ],
          [
           "metal guitar"
          ],
          [
           "metal mineiro"
          ],
          [
           "metalcore"
          ],
          [
           "metropopolis"
          ],
          [
           "mexican classic rock"
          ],
          [
           "mexican classical"
          ],
          [
           "mexican hip hop"
          ],
          [
           "mexican indie"
          ],
          [
           "mexican pop"
          ],
          [
           "mexican pop punk"
          ],
          [
           "mexican rock"
          ],
          [
           "mexican rock-and-roll"
          ],
          [
           "mexican son"
          ],
          [
           "mexican traditional"
          ],
          [
           "miami bass"
          ],
          [
           "miami hip hop"
          ],
          [
           "miami indie"
          ],
          [
           "miami metal"
          ],
          [
           "michigan indie"
          ],
          [
           "microhouse"
          ],
          [
           "microtonal"
          ],
          [
           "middle earth"
          ],
          [
           "middle east hip hop"
          ],
          [
           "middle eastern traditional"
          ],
          [
           "midwest americana"
          ],
          [
           "midwest emo"
          ],
          [
           "military cadence"
          ],
          [
           "military rap"
          ],
          [
           "milwaukee indie"
          ],
          [
           "mindfulness"
          ],
          [
           "minecraft"
          ],
          [
           "minimal melodic techno"
          ],
          [
           "minimal tech house"
          ],
          [
           "minimal techno"
          ],
          [
           "minimal wave"
          ],
          [
           "minimalism"
          ],
          [
           "minneapolis indie"
          ],
          [
           "minneapolis metal"
          ],
          [
           "minneapolis punk"
          ],
          [
           "minneapolis sound"
          ],
          [
           "minnesota hip hop"
          ],
          [
           "mississippi hip hop"
          ],
          [
           "mississippi indie"
          ],
          [
           "mizrahi"
          ],
          [
           "mod revival"
          ],
          [
           "modern alternative pop"
          ],
          [
           "modern alternative rock"
          ],
          [
           "modern big band"
          ],
          [
           "modern blues"
          ],
          [
           "modern blues rock"
          ],
          [
           "modern bollywood"
          ],
          [
           "modern country rock"
          ],
          [
           "modern dream pop"
          ],
          [
           "modern folk rock"
          ],
          [
           "modern funk"
          ],
          [
           "modern hard rock"
          ],
          [
           "modern indie pop"
          ],
          [
           "modern jazz piano"
          ],
          [
           "modern jazz trio"
          ],
          [
           "modern old-time"
          ],
          [
           "modern performance"
          ],
          [
           "modern power pop"
          ],
          [
           "modern psychedelic folk"
          ],
          [
           "modern reggae"
          ],
          [
           "modern rock"
          ],
          [
           "modern salsa"
          ],
          [
           "modern ska punk"
          ],
          [
           "modern southern rock"
          ],
          [
           "modern string quartet"
          ],
          [
           "modern swing"
          ],
          [
           "modern uplift"
          ],
          [
           "modular synth"
          ],
          [
           "moldovan pop"
          ],
          [
           "mollywood"
          ],
          [
           "mongolian hip hop"
          ],
          [
           "mongolian pop"
          ],
          [
           "monterrey indie"
          ],
          [
           "montreal indie"
          ],
          [
           "moog"
          ],
          [
           "moombahton"
          ],
          [
           "morna"
          ],
          [
           "motivation"
          ],
          [
           "motown"
          ],
          [
           "mountain dulcimer"
          ],
          [
           "movie tunes"
          ],
          [
           "mpb"
          ],
          [
           "music box"
          ],
          [
           "music hall"
          ],
          [
           "musica afroperuana"
          ],
          [
           "musica alagoana"
          ],
          [
           "musica andina"
          ],
          [
           "musica andina colombiana"
          ],
          [
           "musica antigua"
          ],
          [
           "musica aragonesa"
          ],
          [
           "musica ayacuchana"
          ],
          [
           "musica canaria"
          ],
          [
           "musica costarricense"
          ],
          [
           "musica costena"
          ],
          [
           "musica cristiana guatemalteca"
          ],
          [
           "musica de fondo"
          ],
          [
           "musica gaucha tradicionalista"
          ],
          [
           "musica hondurena"
          ],
          [
           "musica infantil"
          ],
          [
           "musica jibara"
          ],
          [
           "musica juiz-forana"
          ],
          [
           "musica llanera"
          ],
          [
           "musica nicaraguense"
          ],
          [
           "musica para criancas"
          ],
          [
           "musica para ninos"
          ],
          [
           "musica paraibana"
          ],
          [
           "musica piemonteisa"
          ],
          [
           "musica popular colombiana"
          ],
          [
           "musica popular mineira"
          ],
          [
           "musica popular paraense"
          ],
          [
           "musica potosina"
          ],
          [
           "musica prehispanica"
          ],
          [
           "musica sarda"
          ],
          [
           "musica tradicional cubana"
          ],
          [
           "musica tropical guatemalteca"
          ],
          [
           "musical advocacy"
          ],
          [
           "musikkorps"
          ],
          [
           "musique concrete"
          ],
          [
           "musique peule"
          ],
          [
           "musique pour enfant quebecois"
          ],
          [
           "musique pour enfants"
          ],
          [
           "musique touareg"
          ],
          [
           "muzica populara"
          ],
          [
           "muzika l'yeladim"
          ],
          [
           "naija worship"
          ],
          [
           "nantes indie"
          ],
          [
           "narodna muzika"
          ],
          [
           "nashville americana"
          ],
          [
           "nashville hip hop"
          ],
          [
           "nashville indie"
          ],
          [
           "nashville singer-songwriter"
          ],
          [
           "nashville sound"
          ],
          [
           "native american"
          ],
          [
           "native american contemporary"
          ],
          [
           "native american flute"
          ],
          [
           "native american hip hop"
          ],
          [
           "native american spiritual"
          ],
          [
           "navajo"
          ],
          [
           "nederlandse hardstyle"
          ],
          [
           "nederpop"
          ],
          [
           "neo classical metal"
          ],
          [
           "neo kyma"
          ],
          [
           "neo mellow"
          ],
          [
           "neo r&b"
          ],
          [
           "neo soul"
          ],
          [
           "neo-classical"
          ],
          [
           "neo-kraut"
          ],
          [
           "neo-pagan"
          ],
          [
           "neo-progressive"
          ],
          [
           "neo-psychedelic"
          ],
          [
           "neo-rockabilly"
          ],
          [
           "neo-singer-songwriter"
          ],
          [
           "neo-synthpop"
          ],
          [
           "neo-trad metal"
          ],
          [
           "neo-traditional bluegrass"
          ],
          [
           "neo-traditional country"
          ],
          [
           "neoclassical darkwave"
          ],
          [
           "neoclassicism"
          ],
          [
           "neofolk"
          ],
          [
           "neon pop punk"
          ],
          [
           "neotango"
          ],
          [
           "nepali indie"
          ],
          [
           "nepali pop"
          ],
          [
           "nerdcore"
          ],
          [
           "neue deutsche harte"
          ],
          [
           "neue deutsche todeskunst"
          ],
          [
           "neue deutsche welle"
          ],
          [
           "neurofunk"
          ],
          [
           "new age"
          ],
          [
           "new age piano"
          ],
          [
           "new americana"
          ],
          [
           "new beat"
          ],
          [
           "new comedy"
          ],
          [
           "new england americana"
          ],
          [
           "new england emo"
          ],
          [
           "new french touch"
          ],
          [
           "new isolationism"
          ],
          [
           "new jack swing"
          ],
          [
           "new jersey hardcore"
          ],
          [
           "new jersey indie"
          ],
          [
           "new jersey punk"
          ],
          [
           "new jersey rap"
          ],
          [
           "new mexico music"
          ],
          [
           "new orleans blues"
          ],
          [
           "new orleans funk"
          ],
          [
           "new orleans indie"
          ],
          [
           "new orleans jazz"
          ],
          [
           "new orleans rap"
          ],
          [
           "new rave"
          ],
          [
           "new romantic"
          ],
          [
           "new tribe"
          ],
          [
           "new wave"
          ],
          [
           "new wave of thrash metal"
          ],
          [
           "new wave pop"
          ],
          [
           "new weird america"
          ],
          [
           "new york death metal"
          ],
          [
           "new york drill"
          ],
          [
           "new zealand classical"
          ],
          [
           "newcastle indie"
          ],
          [
           "newcastle nsw indie"
          ],
          [
           "nigerian hip hop"
          ],
          [
           "nigerian pop"
          ],
          [
           "nightcore"
          ],
          [
           "nightrun"
          ],
          [
           "ninja"
          ],
          [
           "nintendocore"
          ],
          [
           "nisiotika"
          ],
          [
           "nl folk"
          ],
          [
           "no wave"
          ],
          [
           "noise pop"
          ],
          [
           "noise punk"
          ],
          [
           "noise rock"
          ],
          [
           "nordic classical piano"
          ],
          [
           "nordic contemporary classical"
          ],
          [
           "nordic folk"
          ],
          [
           "nordic house"
          ],
          [
           "nordic orchestra"
          ],
          [
           "nordic post-rock"
          ],
          [
           "nordic soundtrack"
          ],
          [
           "norman ok indie"
          ],
          [
           "norsk lovsang"
          ],
          [
           "norteno"
          ],
          [
           "norteno-sax"
          ],
          [
           "north carolina emo"
          ],
          [
           "north carolina hip hop"
          ],
          [
           "north carolina indie"
          ],
          [
           "north carolina metal"
          ],
          [
           "north carolina roots"
          ],
          [
           "north east england indie"
          ],
          [
           "northern irish indie"
          ],
          [
           "northern irish punk"
          ],
          [
           "northern soul"
          ],
          [
           "norwegian black metal"
          ],
          [
           "norwegian choir"
          ],
          [
           "norwegian classical"
          ],
          [
           "norwegian contemporary jazz"
          ],
          [
           "norwegian death metal"
          ],
          [
           "norwegian experimental"
          ],
          [
           "norwegian hip hop"
          ],
          [
           "norwegian indie"
          ],
          [
           "norwegian jazz"
          ],
          [
           "norwegian metal"
          ],
          [
           "norwegian pop"
          ],
          [
           "norwegian pop rap"
          ],
          [
           "norwegian punk rock"
          ],
          [
           "norwegian rock"
          ],
          [
           "norwegian singer-songwriter"
          ],
          [
           "norwegian space disco"
          ],
          [
           "nottingham indie"
          ],
          [
           "nouvelle chanson francaise"
          ],
          [
           "nova canco"
          ],
          [
           "nova mpb"
          ],
          [
           "nova musica pernambucana"
          ],
          [
           "novelty"
          ],
          [
           "nu age"
          ],
          [
           "nu disco"
          ],
          [
           "nu gaze"
          ],
          [
           "nu jazz"
          ],
          [
           "nu metal"
          ],
          [
           "nu skool breaks"
          ],
          [
           "nu-cumbia"
          ],
          [
           "nu-metalcore"
          ],
          [
           "nubian traditional"
          ],
          [
           "nueva cancion"
          ],
          [
           "nueva ola chilena"
          ],
          [
           "nueva ola peruana"
          ],
          [
           "nuevo flamenco"
          ],
          [
           "nuevo folklore mexicano"
          ],
          [
           "nuevo regional mexicano"
          ],
          [
           "nuevo tango"
          ],
          [
           "nursery"
          ],
          [
           "nwobhm"
          ],
          [
           "nwothm"
          ],
          [
           "ny roots"
          ],
          [
           "nyc pop"
          ],
          [
           "nyc rap"
          ],
          [
           "nyhc"
          ],
          [
           "nz christian"
          ],
          [
           "nz folk"
          ],
          [
           "nz hardcore"
          ],
          [
           "nz indie"
          ],
          [
           "nz pop"
          ],
          [
           "nz punk"
          ],
          [
           "nz reggae"
          ],
          [
           "nz singer-songwriter"
          ],
          [
           "oakland hip hop"
          ],
          [
           "oakland indie"
          ],
          [
           "oc indie"
          ],
          [
           "oc rap"
          ],
          [
           "oceania soundtrack"
          ],
          [
           "ohio hip hop"
          ],
          [
           "ohio indie"
          ],
          [
           "oi"
          ],
          [
           "ok indie"
          ],
          [
           "okc indie"
          ],
          [
           "okinawan pop"
          ],
          [
           "oklahoma country"
          ],
          [
           "old school dancehall"
          ],
          [
           "old school hip hop"
          ],
          [
           "old school rap francais"
          ],
          [
           "old school thrash"
          ],
          [
           "old school uk hip hop"
          ],
          [
           "old west"
          ],
          [
           "old-time"
          ],
          [
           "old-time fiddle"
          ],
          [
           "olympia wa indie"
          ],
          [
           "omaha indie"
          ],
          [
           "one-person band"
          ],
          [
           "ontario indie"
          ],
          [
           "opera"
          ],
          [
           "opera chorus"
          ],
          [
           "opera metal"
          ],
          [
           "operatic pop"
          ],
          [
           "operetta"
          ],
          [
           "opm"
          ],
          [
           "oratory"
          ],
          [
           "orchestra"
          ],
          [
           "orchestral performance"
          ],
          [
           "orebro indie"
          ],
          [
           "organic ambient"
          ],
          [
           "organic electronic"
          ],
          [
           "organic house"
          ],
          [
           "orgcore"
          ],
          [
           "oriental classical"
          ],
          [
           "orkney and shetland folk"
          ],
          [
           "orlando indie"
          ],
          [
           "orquesta tipica"
          ],
          [
           "orthodox chant"
          ],
          [
           "oshare kei"
          ],
          [
           "otacore"
          ],
          [
           "oth indie"
          ],
          [
           "ottawa indie"
          ],
          [
           "ottawa rap"
          ],
          [
           "oud"
          ],
          [
           "outer hip hop"
          ],
          [
           "outlaw country"
          ],
          [
           "outsider"
          ],
          [
           "outsider house"
          ],
          [
           "oxford choir"
          ],
          [
           "oxford indie"
          ],
          [
           "p funk"
          ],
          [
           "pagan black metal"
          ],
          [
           "pagode"
          ],
          [
           "pagode baiano"
          ],
          [
           "paisley underground"
          ],
          [
           "pakistani folk"
          ],
          [
           "pakistani hip hop"
          ],
          [
           "pakistani pop"
          ],
          [
           "palestinian pop"
          ],
          [
           "palm desert scene"
          ],
          [
           "panamanian pop"
          ],
          [
           "panamanian rock"
          ],
          [
           "panpipe"
          ],
          [
           "papuri"
          ],
          [
           "parody"
          ],
          [
           "partido alto"
          ],
          [
           "partyschlager"
          ],
          [
           "pei indie"
          ],
          [
           "permanent wave"
          ],
          [
           "perreo"
          ],
          [
           "persian pop"
          ],
          [
           "persian traditional"
          ],
          [
           "perth indie"
          ],
          [
           "peruvian hip hop"
          ],
          [
           "peruvian rock"
          ],
          [
           "pet calming"
          ],
          [
           "philly indie"
          ],
          [
           "philly rap"
          ],
          [
           "philly soul"
          ],
          [
           "phoenix indie"
          ],
          [
           "phonk"
          ],
          [
           "pianissimo"
          ],
          [
           "piano blues"
          ],
          [
           "piano cover"
          ],
          [
           "piano mpb"
          ],
          [
           "piano rock"
          ],
          [
           "pibroch"
          ],
          [
           "piedmont blues"
          ],
          [
           "pinoy hip hop"
          ],
          [
           "pinoy indie"
          ],
          [
           "pinoy pop punk"
          ],
          [
           "pinoy praise"
          ],
          [
           "pinoy r&b"
          ],
          [
           "pinoy reggae"
          ],
          [
           "pinoy rock"
          ],
          [
           "pinoy traditional"
          ],
          [
           "pinoy trap"
          ],
          [
           "pirate"
          ],
          [
           "pittsburgh indie"
          ],
          [
           "pittsburgh rap"
          ],
          [
           "pittsburgh rock"
          ],
          [
           "pixie"
          ],
          [
           "plunderphonics"
          ],
          [
           "poetry"
          ],
          [
           "polca paraguaya"
          ],
          [
           "polish blues"
          ],
          [
           "polish classical"
          ],
          [
           "polish classical piano"
          ],
          [
           "polish contemporary classical"
          ],
          [
           "polish jazz"
          ],
          [
           "polish modern jazz"
          ],
          [
           "polish pop"
          ],
          [
           "polish post-rock"
          ],
          [
           "polish reggae"
          ],
          [
           "polish rock"
          ],
          [
           "political hip hop"
          ],
          [
           "polka"
          ],
          [
           "polynesian hip hop"
          ],
          [
           "polynesian pop"
          ],
          [
           "polyphony"
          ],
          [
           "pony"
          ],
          [
           "pop"
          ],
          [
           "pop argentino"
          ],
          [
           "pop chileno"
          ],
          [
           "pop dance"
          ],
          [
           "pop edm"
          ],
          [
           "pop electronico"
          ],
          [
           "pop emo"
          ],
          [
           "pop flamenco"
          ],
          [
           "pop folk"
          ],
          [
           "pop house"
          ],
          [
           "pop nacional"
          ],
          [
           "pop nacional antigas"
          ],
          [
           "pop peruano"
          ],
          [
           "pop punk"
          ],
          [
           "pop quebecois"
          ],
          [
           "pop r&b"
          ],
          [
           "pop rap"
          ],
          [
           "pop reggaeton"
          ],
          [
           "pop rock"
          ],
          [
           "pop rock brasileiro"
          ],
          [
           "pop romantico"
          ],
          [
           "pop soul"
          ],
          [
           "pop venezolano"
          ],
          [
           "pop violin"
          ],
          [
           "popgaze"
          ],
          [
           "popping"
          ],
          [
           "pops orchestra"
          ],
          [
           "popwave"
          ],
          [
           "pornogrind"
          ],
          [
           "porro"
          ],
          [
           "portland hip hop"
          ],
          [
           "portland indie"
          ],
          [
           "portland metal"
          ],
          [
           "portland punk"
          ],
          [
           "portuguese early music"
          ],
          [
           "post-disco"
          ],
          [
           "post-disco soul"
          ],
          [
           "post-doom metal"
          ],
          [
           "post-grunge"
          ],
          [
           "post-hardcore"
          ],
          [
           "post-metal"
          ],
          [
           "post-minimalism"
          ],
          [
           "post-post-hardcore"
          ],
          [
           "post-punk"
          ],
          [
           "post-punk argentina"
          ],
          [
           "post-rock"
          ],
          [
           "post-romantic era"
          ],
          [
           "post-screamo"
          ],
          [
           "post-teen pop"
          ],
          [
           "power metal"
          ],
          [
           "power pop"
          ],
          [
           "power thrash"
          ],
          [
           "power-pop punk"
          ],
          [
           "praise"
          ],
          [
           "prepared piano"
          ],
          [
           "preschool children's music"
          ],
          [
           "prog quebec"
          ],
          [
           "progressive alternative"
          ],
          [
           "progressive bluegrass"
          ],
          [
           "progressive deathcore"
          ],
          [
           "progressive electro house"
          ],
          [
           "progressive groove metal"
          ],
          [
           "progressive house"
          ],
          [
           "progressive jazz fusion"
          ],
          [
           "progressive metal"
          ],
          [
           "progressive metalcore"
          ],
          [
           "progressive post-hardcore"
          ],
          [
           "progressive power metal"
          ],
          [
           "progressive psytrance"
          ],
          [
           "progressive rock"
          ],
          [
           "progressive sludge"
          ],
          [
           "progressive trance"
          ],
          [
           "progressive trance house"
          ],
          [
           "progressive uplifting trance"
          ],
          [
           "proto-rap"
          ],
          [
           "proto-techno"
          ],
          [
           "protopunk"
          ],
          [
           "psalmen"
          ],
          [
           "psicodelia brasileira"
          ],
          [
           "psybass"
          ],
          [
           "psychedelic blues-rock"
          ],
          [
           "psychedelic doom"
          ],
          [
           "psychedelic folk"
          ],
          [
           "psychedelic folk rock"
          ],
          [
           "psychedelic hip hop"
          ],
          [
           "psychedelic pop"
          ],
          [
           "psychedelic punk"
          ],
          [
           "psychedelic rock"
          ],
          [
           "psychedelic soul"
          ],
          [
           "psychedelic trance"
          ],
          [
           "psychill"
          ],
          [
           "psychobilly"
          ],
          [
           "pub rock"
          ],
          [
           "puerto rican folk"
          ],
          [
           "puerto rican pop"
          ],
          [
           "puerto rican rock"
          ],
          [
           "punjabi folk"
          ],
          [
           "punjabi hip hop"
          ],
          [
           "punjabi pop"
          ],
          [
           "punk"
          ],
          [
           "punk 'n' roll"
          ],
          [
           "punk blues"
          ],
          [
           "punk rock italiano"
          ],
          [
           "punk rock mexicano"
          ],
          [
           "punta"
          ],
          [
           "purple sound"
          ],
          [
           "qawwali"
          ],
          [
           "quartetto d'archi"
          ],
          [
           "quatuor a cordes"
          ],
          [
           "quebec death metal"
          ],
          [
           "quebec indie"
          ],
          [
           "queens hip hop"
          ],
          [
           "queer country"
          ],
          [
           "queercore"
          ],
          [
           "quiet storm"
          ],
          [
           "quran"
          ],
          [
           "r&b"
          ],
          [
           "r&b en espanol"
          ],
          [
           "rabindra sangeet"
          ],
          [
           "radio symphony"
          ],
          [
           "ragtime"
          ],
          [
           "rai"
          ],
          [
           "ranchera"
          ],
          [
           "rap"
          ],
          [
           "rap chileno"
          ],
          [
           "rap conciencia"
          ],
          [
           "rap conscient"
          ],
          [
           "rap cristiano"
          ],
          [
           "rap dominicano"
          ],
          [
           "rap kreyol"
          ],
          [
           "rap latina"
          ],
          [
           "rap metal"
          ],
          [
           "rap nacional antigo"
          ],
          [
           "rap napoletano"
          ],
          [
           "rap rock"
          ],
          [
           "rap underground mexicano"
          ],
          [
           "rare groove"
          ],
          [
           "rave"
          ],
          [
           "rawstyle"
          ],
          [
           "reading"
          ],
          [
           "reading indie"
          ],
          [
           "rebel blues"
          ],
          [
           "rebetiko"
          ],
          [
           "recorder"
          ],
          [
           "red dirt"
          ],
          [
           "redneck"
          ],
          [
           "reggae"
          ],
          [
           "reggae en espanol"
          ],
          [
           "reggae fusion"
          ],
          [
           "reggae rock"
          ],
          [
           "reggaeton"
          ],
          [
           "reggaeton colombiano"
          ],
          [
           "reggaeton cristiano"
          ],
          [
           "reggaeton flow"
          ],
          [
           "reggaeton mexicano"
          ],
          [
           "regional mexican"
          ],
          [
           "relaxative"
          ],
          [
           "renaissance"
          ],
          [
           "rennes indie"
          ],
          [
           "retro metal"
          ],
          [
           "retro soul"
          ],
          [
           "rhode island indie"
          ],
          [
           "rhode island rap"
          ],
          [
           "rhythm and blues"
          ],
          [
           "riddim"
          ],
          [
           "rif"
          ],
          [
           "riot grrrl"
          ],
          [
           "ritmo kombina"
          ],
          [
           "rochester mn indie"
          ],
          [
           "rochester ny indie"
          ],
          [
           "rock"
          ],
          [
           "rock alternatif francais"
          ],
          [
           "rock alternativo brasileiro"
          ],
          [
           "rock andaluz"
          ],
          [
           "rock baiano"
          ],
          [
           "rock brasiliense"
          ],
          [
           "rock chapin"
          ],
          [
           "rock cristiano"
          ],
          [
           "rock drums"
          ],
          [
           "rock en espanol"
          ],
          [
           "rock gaucho"
          ],
          [
           "rock independant francais"
          ],
          [
           "rock kapak"
          ],
          [
           "rock keyboard"
          ],
          [
           "rock nacional"
          ],
          [
           "rock nacional brasileiro"
          ],
          [
           "rock pernambucano"
          ],
          [
           "rock progressif francais"
          ],
          [
           "rock steady"
          ],
          [
           "rock urbano mexicano"
          ],
          [
           "rock-and-roll"
          ],
          [
           "rockabilly"
          ],
          [
           "rockabilly en espanol"
          ],
          [
           "roda de samba"
          ],
          [
           "romanian classical piano"
          ],
          [
           "romanian electronic"
          ],
          [
           "romanian folk"
          ],
          [
           "romanian pop"
          ],
          [
           "romanian rock"
          ],
          [
           "romantico"
          ],
          [
           "roots americana"
          ],
          [
           "roots reggae"
          ],
          [
           "roots rock"
          ],
          [
           "roots worship"
          ],
          [
           "rosary"
          ],
          [
           "rumba"
          ],
          [
           "rumba congolaise"
          ],
          [
           "rune folk"
          ],
          [
           "russian alternative rock"
          ],
          [
           "russian ccm"
          ],
          [
           "russian chanson"
          ],
          [
           "russian choir"
          ],
          [
           "russian classical piano"
          ],
          [
           "russian dance"
          ],
          [
           "russian edm"
          ],
          [
           "russian folk"
          ],
          [
           "russian folk rock"
          ],
          [
           "russian jazz"
          ],
          [
           "russian metal"
          ],
          [
           "russian metalcore"
          ],
          [
           "russian modern classical"
          ],
          [
           "russian orchestra"
          ],
          [
           "russian pop"
          ],
          [
           "russian post-punk"
          ],
          [
           "russian punk"
          ],
          [
           "russian rock"
          ],
          [
           "russian romanticism"
          ],
          [
           "russian shoegaze"
          ],
          [
           "russian trance"
          ],
          [
           "rva indie"
          ],
          [
           "rwandan traditional"
          ],
          [
           "ryukyu ongaku"
          ],
          [
           "sacramento hip hop"
          ],
          [
           "sacramento indie"
          ],
          [
           "sacred steel"
          ],
          [
           "sad rap"
          ],
          [
           "salsa"
          ],
          [
           "salsa choke"
          ],
          [
           "salsa colombiana"
          ],
          [
           "salsa cubana"
          ],
          [
           "salsa international"
          ],
          [
           "salsa peruana"
          ],
          [
           "salsa puertorriquena"
          ],
          [
           "salsa venezolana"
          ],
          [
           "samba"
          ],
          [
           "samba de roda"
          ],
          [
           "samba moderno"
          ],
          [
           "samba-enredo"
          ],
          [
           "samba-jazz"
          ],
          [
           "samba-rock"
          ],
          [
           "san antonio rap"
          ],
          [
           "san diego indie"
          ],
          [
           "san diego rap"
          ],
          [
           "san marcos tx indie"
          ],
          [
           "sandalwood"
          ],
          [
           "sarod"
          ],
          [
           "saskatchewan indie"
          ],
          [
           "scam rap"
          ],
          [
           "scandinavian r&b"
          ],
          [
           "scandipop"
          ],
          [
           "schlager"
          ],
          [
           "scorecore"
          ],
          [
           "scottish electronic"
          ],
          [
           "scottish fiddle"
          ],
          [
           "scottish folk"
          ],
          [
           "scottish hip hop"
          ],
          [
           "scottish indie"
          ],
          [
           "scottish jazz"
          ],
          [
           "scottish metal"
          ],
          [
           "scottish new wave"
          ],
          [
           "scottish rock"
          ],
          [
           "scottish singer-songwriter"
          ],
          [
           "scratch"
          ],
          [
           "scream rap"
          ],
          [
           "screamo"
          ],
          [
           "seattle hip hop"
          ],
          [
           "seattle indie"
          ],
          [
           "second line"
          ],
          [
           "sefardi"
          ],
          [
           "serbian electronic"
          ],
          [
           "serialism"
          ],
          [
           "sertanejo"
          ],
          [
           "sertanejo pop"
          ],
          [
           "sertanejo tradicional"
          ],
          [
           "sertanejo universitario"
          ],
          [
           "sevdah"
          ],
          [
           "sevillanas"
          ],
          [
           "shaabi"
          ],
          [
           "shabad"
          ],
          [
           "shakuhachi"
          ],
          [
           "shamanic"
          ],
          [
           "shanty"
          ],
          [
           "sheffield indie"
          ],
          [
           "shibuya-kei"
          ],
          [
           "shimmer pop"
          ],
          [
           "shimmer psych"
          ],
          [
           "shiver pop"
          ],
          [
           "shoegaze"
          ],
          [
           "show tunes"
          ],
          [
           "shred"
          ],
          [
           "shush"
          ],
          [
           "sierreno"
          ],
          [
           "singaporean mandopop"
          ],
          [
           "singaporean pop"
          ],
          [
           "singaporean singer-songwriter"
          ],
          [
           "singer-songwriter"
          ],
          [
           "singing bowl"
          ],
          [
           "sitar"
          ],
          [
           "ska"
          ],
          [
           "ska argentino"
          ],
          [
           "ska chileno"
          ],
          [
           "ska jazz"
          ],
          [
           "ska mexicano"
          ],
          [
           "ska punk"
          ],
          [
           "ska revival"
          ],
          [
           "skate punk"
          ],
          [
           "skiffle"
          ],
          [
           "skramz"
          ],
          [
           "sky room"
          ],
          [
           "slack-key guitar"
          ],
          [
           "slam poetry"
          ],
          [
           "slamming deathcore"
          ],
          [
           "slavic folk metal"
          ],
          [
           "slayer"
          ],
          [
           "slc indie"
          ],
          [
           "sleaze rock"
          ],
          [
           "sleep"
          ],
          [
           "slovak electronic"
          ],
          [
           "slovenian electronic"
          ],
          [
           "slovenian metal"
          ],
          [
           "slow game"
          ],
          [
           "slowcore"
          ],
          [
           "sludge metal"
          ],
          [
           "small room"
          ],
          [
           "smooth jazz"
          ],
          [
           "smooth saxophone"
          ],
          [
           "smooth soul"
          ],
          [
           "soca"
          ],
          [
           "socal pop punk"
          ],
          [
           "social media pop"
          ],
          [
           "soda pop"
          ],
          [
           "soft rock"
          ],
          [
           "solipsynthm"
          ],
          [
           "son cubano"
          ],
          [
           "son cubano clasico"
          ],
          [
           "son jarocho"
          ],
          [
           "sophisti-pop"
          ],
          [
           "sotalaulut"
          ],
          [
           "soukous"
          ],
          [
           "soul"
          ],
          [
           "soul blues"
          ],
          [
           "soul flow"
          ],
          [
           "soul jazz"
          ],
          [
           "souldies"
          ],
          [
           "sound"
          ],
          [
           "sound art"
          ],
          [
           "sound effects"
          ],
          [
           "sound team"
          ],
          [
           "soundtrack"
          ],
          [
           "south african alternative"
          ],
          [
           "south african choral"
          ],
          [
           "south african country"
          ],
          [
           "south african hip hop"
          ],
          [
           "south african house"
          ],
          [
           "south african jazz"
          ],
          [
           "south african pop"
          ],
          [
           "south african pop dance"
          ],
          [
           "south african rock"
          ],
          [
           "south carolina hip hop"
          ],
          [
           "south carolina indie"
          ],
          [
           "south carolina metal"
          ],
          [
           "south dakota indie"
          ],
          [
           "southampton indie"
          ],
          [
           "southern americana"
          ],
          [
           "southern gospel"
          ],
          [
           "southern hip hop"
          ],
          [
           "southern metal"
          ],
          [
           "southern rock"
          ],
          [
           "southern soul"
          ],
          [
           "southern soul blues"
          ],
          [
           "soviet synthpop"
          ],
          [
           "sovietwave"
          ],
          [
           "spa"
          ],
          [
           "space age pop"
          ],
          [
           "space ambient"
          ],
          [
           "space rock"
          ],
          [
           "spanish baroque"
          ],
          [
           "spanish classical"
          ],
          [
           "spanish classical piano"
          ],
          [
           "spanish folk metal"
          ],
          [
           "spanish hip hop"
          ],
          [
           "spanish indie pop"
          ],
          [
           "spanish invasion"
          ],
          [
           "spanish metal"
          ],
          [
           "spanish modern rock"
          ],
          [
           "spanish new wave"
          ],
          [
           "spanish noise pop"
          ],
          [
           "spanish pop"
          ],
          [
           "spanish pop rock"
          ],
          [
           "spanish renaissance"
          ],
          [
           "spanish rock"
          ],
          [
           "spanish synthpop"
          ],
          [
           "spanish techno"
          ],
          [
           "speed garage"
          ],
          [
           "speed metal"
          ],
          [
           "speedcore"
          ],
          [
           "spiritual hip hop"
          ],
          [
           "spiritual jazz"
          ],
          [
           "spirituals"
          ],
          [
           "springfield mo indie"
          ],
          [
           "spytrack"
          ],
          [
           "st louis rap"
          ],
          [
           "steampunk"
          ],
          [
           "steel guitar"
          ],
          [
           "steelpan"
          ],
          [
           "stl indie"
          ],
          [
           "stomp and flutter"
          ],
          [
           "stomp and holler"
          ],
          [
           "stomp and whittle"
          ],
          [
           "stomp pop"
          ],
          [
           "stoner metal"
          ],
          [
           "stoner rock"
          ],
          [
           "straight edge"
          ],
          [
           "straight-ahead jazz"
          ],
          [
           "street band"
          ],
          [
           "street punk"
          ],
          [
           "streichquartett"
          ],
          [
           "stride"
          ],
          [
           "string band"
          ],
          [
           "string folk"
          ],
          [
           "string orchestra"
          ],
          [
           "string quartet"
          ],
          [
           "strut"
          ],
          [
           "substep"
          ],
          [
           "sudanese pop"
          ],
          [
           "sufi"
          ],
          [
           "sufi chant"
          ],
          [
           "sunshine pop"
          ],
          [
           "supergroup"
          ],
          [
           "surf music"
          ],
          [
           "surf punk"
          ],
          [
           "svensk progg"
          ],
          [
           "swamp blues"
          ],
          [
           "swamp pop"
          ],
          [
           "swamp rock"
          ],
          [
           "swancore"
          ],
          [
           "swedish alternative rock"
          ],
          [
           "swedish americana"
          ],
          [
           "swedish black metal"
          ],
          [
           "swedish choir"
          ],
          [
           "swedish country"
          ],
          [
           "swedish dancehall"
          ],
          [
           "swedish death metal"
          ],
          [
           "swedish doom metal"
          ],
          [
           "swedish electronic"
          ],
          [
           "swedish electropop"
          ],
          [
           "swedish eurodance"
          ],
          [
           "swedish garage rock"
          ],
          [
           "swedish hard rock"
          ],
          [
           "swedish hardcore"
          ],
          [
           "swedish heavy metal"
          ],
          [
           "swedish house"
          ],
          [
           "swedish idol pop"
          ],
          [
           "swedish indie folk"
          ],
          [
           "swedish indie pop"
          ],
          [
           "swedish indie rock"
          ],
          [
           "swedish jazz"
          ],
          [
           "swedish jazz orkester"
          ],
          [
           "swedish melodic rock"
          ],
          [
           "swedish metal"
          ],
          [
           "swedish metalcore"
          ],
          [
           "swedish pop"
          ],
          [
           "swedish post-hardcore"
          ],
          [
           "swedish power metal"
          ],
          [
           "swedish prog"
          ],
          [
           "swedish progressive metal"
          ],
          [
           "swedish rock-and-roll"
          ],
          [
           "swedish singer-songwriter"
          ],
          [
           "swedish soul"
          ],
          [
           "swedish stoner rock"
          ],
          [
           "swedish synth"
          ],
          [
           "swedish synthpop"
          ],
          [
           "swedish tropical house"
          ],
          [
           "swedish underground rap"
          ],
          [
           "swing"
          ],
          [
           "swing italiano"
          ],
          [
           "swing revival"
          ],
          [
           "swiss black metal"
          ],
          [
           "swiss classical piano"
          ],
          [
           "swiss country"
          ],
          [
           "swiss metal"
          ],
          [
           "swiss pop"
          ],
          [
           "swiss rock"
          ],
          [
           "swiss worship"
          ],
          [
           "sydney indie"
          ],
          [
           "symphonic black metal"
          ],
          [
           "symphonic metal"
          ],
          [
           "symphonic rock"
          ],
          [
           "synth funk"
          ],
          [
           "synthpop"
          ],
          [
           "synthwave"
          ],
          [
           "syrian pop"
          ],
          [
           "tabla"
          ],
          [
           "tagalog rap"
          ],
          [
           "tagalog worship"
          ],
          [
           "taiwan campus folk"
          ],
          [
           "taiwan classical performance"
          ],
          [
           "taiwan hip hop"
          ],
          [
           "taiwan indie"
          ],
          [
           "taiwan pop"
          ],
          [
           "taiwan singer-songwriter"
          ],
          [
           "tajik pop"
          ],
          [
           "talent show"
          ],
          [
           "tamaulipas indie"
          ],
          [
           "tamaulipas rap"
          ],
          [
           "tamborazo"
          ],
          [
           "tamil hip hop"
          ],
          [
           "tamil pop"
          ],
          [
           "tamil worship"
          ],
          [
           "tampa indie"
          ],
          [
           "tango"
          ],
          [
           "tango cancion"
          ],
          [
           "tape club"
          ],
          [
           "tech house"
          ],
          [
           "technical death metal"
          ],
          [
           "technical deathcore"
          ],
          [
           "technical groove metal"
          ],
          [
           "technical melodic death metal"
          ],
          [
           "technical thrash"
          ],
          [
           "techno"
          ],
          [
           "techno kayo"
          ],
          [
           "tecnobanda"
          ],
          [
           "teen pop"
          ],
          [
           "tejano"
          ],
          [
           "tempe indie"
          ],
          [
           "tennessee hip hop"
          ],
          [
           "tennessee metal"
          ],
          [
           "tex-mex"
          ],
          [
           "texas blues"
          ],
          [
           "texas country"
          ],
          [
           "texas latin rap"
          ],
          [
           "texas pop punk"
          ],
          [
           "texas punk"
          ],
          [
           "thai folk"
          ],
          [
           "thai folk rock"
          ],
          [
           "thai idol"
          ],
          [
           "thai indie rock"
          ],
          [
           "thai pop"
          ],
          [
           "thall"
          ],
          [
           "theme"
          ],
          [
           "theremin"
          ],
          [
           "thrash core"
          ],
          [
           "thrash metal"
          ],
          [
           "timba"
          ],
          [
           "tin pan alley"
          ],
          [
           "tipico"
          ],
          [
           "tolkien metal"
          ],
          [
           "tollywood"
          ],
          [
           "tone"
          ],
          [
           "torch song"
          ],
          [
           "toronto indie"
          ],
          [
           "toronto rap"
          ],
          [
           "trad jazz catala"
          ],
          [
           "traditional bluegrass"
          ],
          [
           "traditional blues"
          ],
          [
           "traditional british folk"
          ],
          [
           "traditional country"
          ],
          [
           "traditional folk"
          ],
          [
           "traditional funk"
          ],
          [
           "traditional rockabilly"
          ],
          [
           "traditional ska"
          ],
          [
           "traditional soul"
          ],
          [
           "trance"
          ],
          [
           "trance mexicano"
          ],
          [
           "trancecore"
          ],
          [
           "transpop"
          ],
          [
           "trap"
          ],
          [
           "trap argentino"
          ],
          [
           "trap chileno"
          ],
          [
           "trap dominicano"
          ],
          [
           "trap latino"
          ],
          [
           "trap mexicano"
          ],
          [
           "trap queen"
          ],
          [
           "trap soul"
          ],
          [
           "trap triste"
          ],
          [
           "trap venezolano"
          ],
          [
           "traprun"
          ],
          [
           "trash rock"
          ],
          [
           "triangle indie"
          ],
          [
           "tribal house"
          ],
          [
           "trinidadian reggae"
          ],
          [
           "trio cubano"
          ],
          [
           "trip hop"
          ],
          [
           "trival"
          ],
          [
           "tropical"
          ],
          [
           "tropical house"
          ],
          [
           "tropicalia"
          ],
          [
           "trova"
          ],
          [
           "trova mexicana"
          ],
          [
           "truck-driving country"
          ],
          [
           "tuareg guitar"
          ],
          [
           "tucson indie"
          ],
          [
           "tulsa indie"
          ],
          [
           "tuna estudiantil"
          ],
          [
           "tunisian pop"
          ],
          [
           "turbo folk"
          ],
          [
           "turkish classical"
          ],
          [
           "turkish classical performance"
          ],
          [
           "turkish edm"
          ],
          [
           "turkish experimental"
          ],
          [
           "turkish folk"
          ],
          [
           "turkish jazz"
          ],
          [
           "turkish modern jazz"
          ],
          [
           "turkish pop"
          ],
          [
           "turkish psych"
          ],
          [
           "turkish trap"
          ],
          [
           "turkish trap pop"
          ],
          [
           "turntablism"
          ],
          [
           "twee pop"
          ],
          [
           "twoubadou"
          ],
          [
           "tzadik"
          ],
          [
           "ugandan pop"
          ],
          [
           "uilleann pipes"
          ],
          [
           "uk alternative hip hop"
          ],
          [
           "uk alternative pop"
          ],
          [
           "uk americana"
          ],
          [
           "uk contemporary jazz"
          ],
          [
           "uk contemporary r&b"
          ],
          [
           "uk dance"
          ],
          [
           "uk dancehall"
          ],
          [
           "uk diy punk"
          ],
          [
           "uk dnb"
          ],
          [
           "uk doom metal"
          ],
          [
           "uk dub"
          ],
          [
           "uk experimental electronic"
          ],
          [
           "uk funky"
          ],
          [
           "uk garage"
          ],
          [
           "uk hip hop"
          ],
          [
           "uk house"
          ],
          [
           "uk metalcore"
          ],
          [
           "uk noise rock"
          ],
          [
           "uk pop"
          ],
          [
           "uk pop punk"
          ],
          [
           "uk post-hardcore"
          ],
          [
           "uk post-punk"
          ],
          [
           "uk reggae"
          ],
          [
           "uk rockabilly"
          ],
          [
           "uk stoner rock"
          ],
          [
           "uk worship"
          ],
          [
           "uk82"
          ],
          [
           "ukrainian choir"
          ],
          [
           "ukrainian classical"
          ],
          [
           "ukrainian classical piano"
          ],
          [
           "ukrainian electronic"
          ],
          [
           "ukrainian pop"
          ],
          [
           "ukulele"
          ],
          [
           "umbanda"
          ],
          [
           "underground hip hop"
          ],
          [
           "underground power pop"
          ],
          [
           "underground rap"
          ],
          [
           "university choir"
          ],
          [
           "uplifting trance"
          ],
          [
           "uptempo hardcore"
          ],
          [
           "urban contemporary"
          ],
          [
           "urbano espanol"
          ],
          [
           "us power metal"
          ],
          [
           "utah indie"
          ],
          [
           "uzbek pop"
          ],
          [
           "uzbek traditional"
          ],
          [
           "v-pop"
          ],
          [
           "vallenato"
          ],
          [
           "vallenato moderno"
          ],
          [
           "vancouver indie"
          ],
          [
           "vancouver metal"
          ],
          [
           "vancouver punk"
          ],
          [
           "vapor pop"
          ],
          [
           "vapor soul"
          ],
          [
           "vapor trap"
          ],
          [
           "vapor twitch"
          ],
          [
           "vaporwave"
          ],
          [
           "variete francaise"
          ],
          [
           "vaudeville"
          ],
          [
           "vbs"
          ],
          [
           "veena"
          ],
          [
           "vegan straight edge"
          ],
          [
           "vegas indie"
          ],
          [
           "velha guarda"
          ],
          [
           "venezuelan hip hop"
          ],
          [
           "venezuelan indie"
          ],
          [
           "venezuelan rock"
          ],
          [
           "veracruz indie"
          ],
          [
           "vermont indie"
          ],
          [
           "vgm instrumental"
          ],
          [
           "vgm remix"
          ],
          [
           "victoria bc indie"
          ],
          [
           "victorian britain"
          ],
          [
           "video game music"
          ],
          [
           "vienna indie"
          ],
          [
           "vietnamese bolero"
          ],
          [
           "vietnamese pop"
          ],
          [
           "viking black metal"
          ],
          [
           "viking folk"
          ],
          [
           "viking metal"
          ],
          [
           "villancicos"
          ],
          [
           "vintage chanson"
          ],
          [
           "vintage chinese pop"
          ],
          [
           "vintage classical singing"
          ],
          [
           "vintage country folk"
          ],
          [
           "vintage dutch pop"
          ],
          [
           "vintage french electronic"
          ],
          [
           "vintage gospel"
          ],
          [
           "vintage hollywood"
          ],
          [
           "vintage italian pop"
          ],
          [
           "vintage italian soundtrack"
          ],
          [
           "vintage jazz"
          ],
          [
           "vintage old-time"
          ],
          [
           "vintage rockabilly"
          ],
          [
           "vintage schlager"
          ],
          [
           "vintage spanish pop"
          ],
          [
           "vintage swedish pop"
          ],
          [
           "vintage swing"
          ],
          [
           "vintage tango"
          ],
          [
           "viola"
          ],
          [
           "violao"
          ],
          [
           "violao classico"
          ],
          [
           "violin"
          ],
          [
           "viral pop"
          ],
          [
           "viral rap"
          ],
          [
           "viral trap"
          ],
          [
           "virgin islands reggae"
          ],
          [
           "virginia hip hop"
          ],
          [
           "virginia metal"
          ],
          [
           "virginia punk"
          ],
          [
           "visor"
          ],
          [
           "visual kei"
          ],
          [
           "vocal ensemble"
          ],
          [
           "vocal harmony group"
          ],
          [
           "vocal house"
          ],
          [
           "vocal jazz"
          ],
          [
           "vocal trance"
          ],
          [
           "vocaloid"
          ],
          [
           "vogue"
          ],
          [
           "volksmusik"
          ],
          [
           "warm drone"
          ],
          [
           "washboard"
          ],
          [
           "washington indie"
          ],
          [
           "wassoulou"
          ],
          [
           "water"
          ],
          [
           "wave"
          ],
          [
           "welsh folk"
          ],
          [
           "welsh indie"
          ],
          [
           "welsh metal"
          ],
          [
           "welsh rock"
          ],
          [
           "west african jazz"
          ],
          [
           "west australian hip hop"
          ],
          [
           "west coast rap"
          ],
          [
           "west coast reggae"
          ],
          [
           "west coast trap"
          ],
          [
           "west end"
          ],
          [
           "west virginia indie"
          ],
          [
           "western americana"
          ],
          [
           "western mass indie"
          ],
          [
           "western saharan folk"
          ],
          [
           "western swing"
          ],
          [
           "white noise"
          ],
          [
           "wind ensemble"
          ],
          [
           "wind quintet"
          ],
          [
           "wisconsin indie"
          ],
          [
           "witch house"
          ],
          [
           "women's choir"
          ],
          [
           "women's music"
          ],
          [
           "wonky"
          ],
          [
           "worcester ma indie"
          ],
          [
           "world"
          ],
          [
           "world fusion"
          ],
          [
           "world meditation"
          ],
          [
           "world worship"
          ],
          [
           "worship"
          ],
          [
           "wrestling"
          ],
          [
           "wu fam"
          ],
          [
           "wyoming indie"
          ],
          [
           "wyoming roots"
          ],
          [
           "xhosa"
          ],
          [
           "xtra raw"
          ],
          [
           "yacht rock"
          ],
          [
           "ye ye"
          ],
          [
           "yiddish folk"
          ],
          [
           "yodeling"
          ],
          [
           "yoga"
          ],
          [
           "yoik"
          ],
          [
           "york indie"
          ],
          [
           "yorkshire folk"
          ],
          [
           "yugoslav new wave"
          ],
          [
           "yugoslav rock"
          ],
          [
           "zambian pop"
          ],
          [
           "zeuhl"
          ],
          [
           "zhongguo feng"
          ],
          [
           "zimdancehall"
          ],
          [
           "zolo"
          ],
          [
           "zouglou"
          ],
          [
           "zouk"
          ],
          [
           "zurich indie"
          ],
          [
           "zydeco"
          ]
         ],
         "hovertemplate": "PCA Component 1=%{x}<br>PCA Component 2=%{y}<br>generos=%{customdata[0]}<br>cluster_pca=%{marker.color}<extra></extra>",
         "legendgroup": "",
         "marker": {
          "color": [
           2,
           1,
           0,
           3,
           3,
           1,
           0,
           0,
           3,
           3,
           4,
           1,
           4,
           2,
           3,
           1,
           0,
           3,
           4,
           1,
           3,
           3,
           0,
           3,
           4,
           0,
           0,
           2,
           0,
           0,
           0,
           0,
           0,
           0,
           0,
           4,
           0,
           0,
           4,
           4,
           4,
           0,
           0,
           0,
           3,
           0,
           0,
           4,
           0,
           4,
           0,
           1,
           0,
           4,
           4,
           0,
           4,
           4,
           0,
           0,
           4,
           4,
           0,
           2,
           1,
           3,
           4,
           1,
           0,
           2,
           0,
           1,
           2,
           2,
           2,
           2,
           2,
           3,
           4,
           2,
           3,
           2,
           1,
           2,
           2,
           1,
           3,
           4,
           2,
           0,
           4,
           4,
           4,
           1,
           3,
           4,
           4,
           3,
           3,
           0,
           3,
           2,
           3,
           3,
           4,
           1,
           2,
           3,
           0,
           4,
           0,
           3,
           4,
           4,
           0,
           4,
           0,
           4,
           0,
           4,
           1,
           2,
           1,
           4,
           1,
           2,
           4,
           3,
           0,
           2,
           4,
           0,
           0,
           4,
           4,
           0,
           2,
           1,
           0,
           1,
           0,
           1,
           4,
           3,
           4,
           4,
           4,
           0,
           1,
           4,
           2,
           0,
           2,
           2,
           2,
           0,
           4,
           4,
           4,
           0,
           4,
           4,
           4,
           4,
           4,
           4,
           4,
           4,
           0,
           1,
           4,
           3,
           4,
           4,
           0,
           4,
           4,
           0,
           4,
           2,
           2,
           2,
           1,
           2,
           0,
           3,
           1,
           2,
           2,
           1,
           0,
           3,
           0,
           0,
           0,
           0,
           2,
           3,
           3,
           3,
           3,
           0,
           3,
           3,
           3,
           4,
           3,
           2,
           2,
           3,
           2,
           0,
           4,
           0,
           0,
           0,
           3,
           3,
           3,
           3,
           3,
           2,
           0,
           3,
           3,
           3,
           2,
           2,
           2,
           2,
           4,
           2,
           2,
           3,
           4,
           1,
           4,
           0,
           4,
           4,
           0,
           0,
           0,
           0,
           4,
           0,
           0,
           3,
           4,
           3,
           0,
           4,
           3,
           0,
           0,
           4,
           4,
           4,
           2,
           2,
           4,
           4,
           0,
           4,
           1,
           3,
           1,
           4,
           1,
           3,
           1,
           3,
           3,
           0,
           0,
           1,
           2,
           3,
           0,
           2,
           3,
           4,
           4,
           2,
           2,
           0,
           0,
           1,
           4,
           1,
           0,
           1,
           4,
           1,
           1,
           1,
           4,
           3,
           3,
           3,
           3,
           4,
           4,
           4,
           4,
           3,
           3,
           0,
           0,
           3,
           0,
           0,
           3,
           3,
           3,
           4,
           0,
           0,
           4,
           4,
           4,
           0,
           4,
           3,
           1,
           0,
           4,
           2,
           2,
           1,
           3,
           2,
           2,
           0,
           2,
           2,
           2,
           4,
           4,
           0,
           3,
           3,
           4,
           3,
           3,
           0,
           0,
           0,
           4,
           0,
           4,
           4,
           0,
           3,
           2,
           4,
           3,
           4,
           1,
           1,
           0,
           4,
           1,
           4,
           0,
           2,
           2,
           0,
           2,
           3,
           1,
           1,
           3,
           1,
           4,
           1,
           0,
           1,
           2,
           2,
           1,
           4,
           3,
           0,
           2,
           4,
           3,
           0,
           0,
           0,
           4,
           4,
           1,
           0,
           4,
           4,
           0,
           0,
           0,
           0,
           1,
           2,
           3,
           3,
           3,
           4,
           3,
           0,
           4,
           0,
           2,
           3,
           0,
           2,
           1,
           0,
           3,
           0,
           4,
           0,
           3,
           2,
           2,
           2,
           3,
           0,
           3,
           0,
           4,
           4,
           2,
           3,
           4,
           0,
           1,
           0,
           3,
           3,
           0,
           0,
           4,
           4,
           4,
           4,
           4,
           4,
           1,
           1,
           4,
           4,
           0,
           3,
           2,
           3,
           4,
           0,
           3,
           1,
           3,
           3,
           3,
           3,
           3,
           1,
           3,
           3,
           0,
           3,
           3,
           3,
           0,
           2,
           2,
           2,
           4,
           4,
           2,
           3,
           2,
           4,
           0,
           0,
           3,
           2,
           3,
           2,
           2,
           3,
           2,
           1,
           1,
           4,
           0,
           3,
           3,
           0,
           4,
           3,
           0,
           4,
           4,
           3,
           3,
           0,
           4,
           4,
           4,
           4,
           4,
           0,
           3,
           4,
           0,
           0,
           0,
           3,
           3,
           0,
           3,
           4,
           3,
           4,
           0,
           1,
           2,
           3,
           1,
           3,
           0,
           3,
           4,
           4,
           3,
           2,
           2,
           2,
           4,
           1,
           0,
           4,
           1,
           2,
           3,
           4,
           2,
           2,
           1,
           0,
           2,
           3,
           1,
           3,
           3,
           4,
           4,
           4,
           0,
           0,
           4,
           4,
           4,
           1,
           4,
           4,
           4,
           2,
           4,
           0,
           1,
           2,
           3,
           0,
           0,
           4,
           4,
           4,
           1,
           0,
           3,
           3,
           0,
           0,
           3,
           0,
           3,
           3,
           3,
           3,
           3,
           4,
           3,
           0,
           0,
           0,
           0,
           3,
           4,
           1,
           1,
           0,
           3,
           3,
           3,
           4,
           3,
           3,
           2,
           3,
           0,
           3,
           3,
           3,
           0,
           3,
           3,
           1,
           0,
           0,
           3,
           4,
           3,
           0,
           2,
           0,
           4,
           0,
           3,
           0,
           0,
           2,
           1,
           2,
           2,
           2,
           2,
           2,
           2,
           2,
           2,
           2,
           2,
           2,
           3,
           2,
           2,
           2,
           2,
           2,
           2,
           2,
           1,
           2,
           2,
           2,
           3,
           3,
           0,
           4,
           0,
           4,
           0,
           0,
           0,
           0,
           0,
           0,
           0,
           3,
           0,
           4,
           3,
           4,
           2,
           4,
           2,
           4,
           4,
           0,
           2,
           2,
           2,
           4,
           3,
           4,
           2,
           3,
           3,
           2,
           3,
           3,
           3,
           1,
           0,
           0,
           0,
           1,
           3,
           1,
           0,
           3,
           3,
           4,
           3,
           4,
           0,
           4,
           0,
           3,
           3,
           0,
           4,
           3,
           0,
           0,
           1,
           0,
           4,
           0,
           0,
           0,
           3,
           0,
           0,
           0,
           0,
           0,
           0,
           4,
           0,
           0,
           3,
           0,
           3,
           0,
           0,
           0,
           0,
           1,
           4,
           3,
           2,
           2,
           3,
           4,
           3,
           4,
           4,
           0,
           0,
           4,
           0,
           1,
           4,
           2,
           4,
           2,
           0,
           2,
           1,
           4,
           1,
           1,
           4,
           4,
           1,
           3,
           4,
           3,
           0,
           4,
           1,
           4,
           4,
           2,
           1,
           4,
           1,
           0,
           1,
           1,
           4,
           1,
           1,
           1,
           1,
           4,
           0,
           1,
           1,
           4,
           4,
           4,
           3,
           4,
           1,
           3,
           0,
           0,
           0,
           4,
           3,
           0,
           0,
           4,
           0,
           0,
           0,
           3,
           0,
           1,
           0,
           0,
           1,
           4,
           0,
           2,
           3,
           4,
           3,
           3,
           4,
           4,
           3,
           0,
           0,
           0,
           2,
           4,
           1,
           1,
           4,
           4,
           0,
           0,
           3,
           0,
           1,
           2,
           0,
           0,
           1,
           0,
           1,
           1,
           4,
           0,
           1,
           3,
           0,
           4,
           0,
           4,
           1,
           0,
           1,
           0,
           0,
           4,
           0,
           4,
           1,
           0,
           3,
           3,
           3,
           0,
           3,
           4,
           2,
           0,
           0,
           0,
           4,
           3,
           4,
           3,
           1,
           4,
           0,
           0,
           0,
           3,
           1,
           4,
           1,
           3,
           1,
           4,
           1,
           4,
           2,
           0,
           1,
           2,
           2,
           1,
           1,
           0,
           1,
           0,
           1,
           4,
           1,
           2,
           0,
           3,
           3,
           1,
           0,
           1,
           4,
           3,
           2,
           1,
           4,
           4,
           3,
           0,
           4,
           3,
           2,
           1,
           0,
           4,
           0,
           3,
           4,
           0,
           3,
           3,
           2,
           2,
           2,
           2,
           0,
           2,
           0,
           4,
           0,
           0,
           4,
           3,
           4,
           1,
           4,
           2,
           3,
           0,
           4,
           0,
           0,
           3,
           1,
           4,
           3,
           0,
           0,
           4,
           4,
           0,
           0,
           4,
           0,
           4,
           0,
           1,
           4,
           4,
           1,
           0,
           4,
           4,
           4,
           4,
           4,
           0,
           4,
           2,
           4,
           2,
           3,
           3,
           2,
           1,
           1,
           3,
           0,
           2,
           1,
           3,
           4,
           1,
           4,
           3,
           2,
           3,
           1,
           4,
           4,
           4,
           4,
           0,
           0,
           0,
           3,
           1,
           2,
           2,
           0,
           0,
           2,
           4,
           4,
           1,
           1,
           1,
           1,
           3,
           3,
           3,
           3,
           4,
           4,
           3,
           4,
           4,
           1,
           2,
           4,
           2,
           2,
           4,
           4,
           4,
           4,
           4,
           4,
           0,
           3,
           3,
           2,
           0,
           1,
           1,
           0,
           1,
           3,
           2,
           0,
           1,
           0,
           0,
           3,
           3,
           3,
           3,
           3,
           3,
           4,
           4,
           3,
           3,
           0,
           3,
           0,
           3,
           3,
           0,
           0,
           0,
           3,
           4,
           4,
           0,
           0,
           4,
           2,
           0,
           1,
           0,
           1,
           2,
           2,
           0,
           2,
           2,
           3,
           1,
           1,
           0,
           1,
           0,
           4,
           3,
           1,
           3,
           2,
           2,
           3,
           0,
           4,
           0,
           0,
           2,
           4,
           3,
           0,
           4,
           4,
           1,
           0,
           4,
           0,
           2,
           0,
           0,
           4,
           4,
           3,
           0,
           0,
           4,
           0,
           4,
           4,
           4,
           4,
           0,
           1,
           4,
           0,
           4,
           3,
           1,
           4,
           0,
           2,
           2,
           4,
           4,
           0,
           0,
           4,
           4,
           4,
           1,
           4,
           4,
           4,
           4,
           1,
           0,
           1,
           4,
           2,
           2,
           2,
           3,
           0,
           1,
           4,
           0,
           0,
           2,
           3,
           1,
           4,
           2,
           2,
           0,
           0,
           0,
           4,
           0,
           2,
           4,
           2,
           2,
           2,
           4,
           1,
           4,
           0,
           0,
           3,
           3,
           1,
           0,
           4,
           4,
           4,
           4,
           1,
           4,
           1,
           0,
           0,
           1,
           1,
           3,
           3,
           3,
           0,
           0,
           3,
           0,
           4,
           4,
           4,
           0,
           0,
           1,
           4,
           1,
           4,
           4,
           0,
           4,
           4,
           3,
           2,
           3,
           3,
           1,
           2,
           3,
           3,
           2,
           0,
           1,
           1,
           4,
           0,
           4,
           4,
           0,
           0,
           0,
           0,
           4,
           4,
           3,
           1,
           2,
           2,
           3,
           3,
           3,
           2,
           4,
           3,
           3,
           0,
           3,
           4,
           0,
           0,
           2,
           3,
           4,
           2,
           4,
           4,
           3,
           1,
           4,
           0,
           4,
           0,
           4,
           4,
           4,
           0,
           3,
           3,
           3,
           2,
           2,
           2,
           2,
           3,
           0,
           0,
           2,
           4,
           0,
           0,
           4,
           0,
           2,
           2,
           3,
           0,
           0,
           0,
           0,
           0,
           2,
           2,
           2,
           2,
           2,
           2,
           2,
           3,
           1,
           3,
           4,
           3,
           3,
           3,
           3,
           4,
           4,
           1,
           0,
           4,
           0,
           0,
           0,
           3,
           0,
           2,
           2,
           2,
           2,
           1,
           3,
           3,
           3,
           1,
           1,
           0,
           0,
           2,
           1,
           2,
           3,
           3,
           0,
           1,
           1,
           1,
           4,
           4,
           3,
           3,
           2,
           3,
           0,
           0,
           2,
           0,
           3,
           3,
           0,
           3,
           3,
           3,
           1,
           1,
           4,
           3,
           1,
           4,
           0,
           3,
           4,
           0,
           4,
           3,
           4,
           1,
           0,
           4,
           4,
           4,
           1,
           4,
           0,
           4,
           3,
           4,
           4,
           0,
           1,
           1,
           0,
           2,
           1,
           0,
           0,
           4,
           4,
           1,
           3,
           3,
           3,
           0,
           1,
           1,
           4,
           1,
           3,
           1,
           4,
           1,
           0,
           0,
           3,
           3,
           2,
           3,
           1,
           3,
           3,
           0,
           2,
           1,
           4,
           3,
           4,
           3,
           0,
           3,
           3,
           2,
           2,
           2,
           0,
           4,
           0,
           3,
           3,
           4,
           0,
           2,
           2,
           2,
           2,
           4,
           2,
           2,
           1,
           0,
           4,
           4,
           0,
           2,
           3,
           2,
           4,
           2,
           1,
           2,
           2,
           3,
           4,
           1,
           1,
           2,
           2,
           2,
           2,
           1,
           2,
           3,
           0,
           0,
           4,
           2,
           4,
           4,
           0,
           4,
           4,
           4,
           0,
           4,
           4,
           0,
           4,
           4,
           4,
           0,
           0,
           4,
           4,
           3,
           0,
           2,
           2,
           2,
           2,
           1,
           2,
           0,
           4,
           3,
           0,
           4,
           4,
           1,
           2,
           3,
           4,
           3,
           3,
           1,
           4,
           4,
           4,
           1,
           4,
           4,
           4,
           4,
           1,
           4,
           0,
           0,
           4,
           1,
           2,
           1,
           3,
           0,
           3,
           3,
           3,
           0,
           3,
           3,
           3,
           3,
           3,
           2,
           3,
           3,
           3,
           3,
           3,
           3,
           4,
           2,
           3,
           3,
           3,
           3,
           3,
           0,
           1,
           3,
           2,
           3,
           3,
           3,
           3,
           3,
           3,
           1,
           2,
           0,
           3,
           0,
           0,
           0,
           3,
           0,
           3,
           1,
           0,
           0,
           0,
           0,
           0,
           3,
           3,
           0,
           3,
           4,
           3,
           4,
           4,
           3,
           1,
           1,
           0,
           3,
           0,
           3,
           0,
           4,
           3,
           2,
           4,
           0,
           3,
           0,
           2,
           4,
           3,
           3,
           3,
           0,
           2,
           2,
           2,
           3,
           2,
           2,
           2,
           4,
           0,
           0,
           0,
           4,
           2,
           2,
           3,
           4,
           4,
           2,
           0,
           3,
           1,
           1,
           2,
           0,
           0,
           0,
           2,
           4,
           1,
           3,
           0,
           0,
           0,
           0,
           4,
           0,
           4,
           0,
           3,
           0,
           0,
           0,
           1,
           4,
           0,
           0,
           0,
           2,
           2,
           1,
           3,
           4,
           4,
           0,
           3,
           1,
           2,
           0,
           1,
           1,
           1,
           4,
           3,
           0,
           1,
           3,
           0,
           3,
           3,
           1,
           3,
           1,
           3,
           0,
           3,
           1,
           1,
           1,
           3,
           1,
           0,
           2,
           1,
           2,
           3,
           4,
           2,
           3,
           0,
           3,
           4,
           0,
           1,
           4,
           3,
           2,
           1,
           3,
           0,
           4,
           3,
           3,
           1,
           0,
           3,
           1,
           3,
           0,
           3,
           3,
           3,
           0,
           0,
           1,
           4,
           1,
           4,
           1,
           2,
           1,
           1,
           2,
           1,
           4,
           4,
           4,
           0,
           4,
           4,
           4,
           4,
           4,
           4,
           4,
           4,
           4,
           0,
           4,
           0,
           3,
           3,
           0,
           4,
           3,
           3,
           0,
           0,
           0,
           3,
           4,
           1,
           4,
           4,
           4,
           0,
           2,
           0,
           4,
           0,
           4,
           4,
           3,
           0,
           0,
           0,
           0,
           0,
           4,
           4,
           1,
           2,
           2,
           1,
           2,
           4,
           4,
           3,
           0,
           3,
           2,
           1,
           1,
           4,
           1,
           4,
           2,
           4,
           4,
           4,
           0,
           0,
           0,
           4,
           2,
           4,
           0,
           4,
           1,
           4,
           4,
           0,
           4,
           4,
           0,
           0,
           4,
           0,
           2,
           2,
           0,
           2,
           4,
           4,
           0,
           4,
           0,
           4,
           4,
           2,
           4,
           4,
           1,
           4,
           3,
           3,
           3,
           3,
           0,
           2,
           4,
           3,
           3,
           0,
           2,
           3,
           3,
           3,
           3,
           0,
           0,
           3,
           0,
           2,
           4,
           0,
           0,
           1,
           0,
           0,
           2,
           3,
           0,
           3,
           0,
           0,
           0,
           3,
           0,
           3,
           3,
           3,
           0,
           3,
           0,
           0,
           3,
           3,
           3,
           4,
           1,
           3,
           4,
           4,
           0,
           2,
           3,
           3,
           3,
           4,
           4,
           0,
           3,
           0,
           4,
           4,
           3,
           2,
           0,
           2,
           0,
           2,
           3,
           4,
           0,
           1,
           3,
           4,
           0,
           0,
           2,
           1,
           3,
           1,
           4,
           0,
           3,
           4,
           4,
           0,
           0,
           3,
           2,
           1,
           4,
           4,
           3,
           3,
           1,
           4,
           4,
           0,
           4,
           2,
           2,
           3,
           4,
           0,
           3,
           4,
           4,
           2,
           0,
           4,
           4,
           4,
           0,
           3,
           3,
           0,
           0,
           3,
           0,
           4,
           0,
           1,
           4,
           4,
           0,
           3,
           1,
           0,
           2,
           4,
           4,
           0,
           0,
           4,
           4,
           1,
           4,
           3,
           0,
           4,
           4,
           4,
           4,
           2,
           2,
           1,
           4,
           2,
           1,
           2,
           3,
           1,
           0,
           0,
           4,
           0,
           1,
           4,
           3,
           4,
           4,
           4,
           0,
           1,
           2,
           2,
           2,
           1,
           2,
           4,
           4,
           2,
           1,
           4,
           4,
           4,
           1,
           1,
           1,
           1,
           0,
           0,
           3,
           0,
           0,
           2,
           0,
           1,
           4,
           4,
           4,
           0,
           4,
           3,
           3,
           3,
           0,
           3,
           3,
           0,
           3,
           3,
           1,
           1,
           0,
           0,
           0,
           4,
           2,
           1,
           4,
           3,
           4,
           4,
           4,
           3,
           0,
           0,
           4,
           0,
           2,
           0,
           4,
           4,
           0,
           1,
           4,
           3,
           0,
           0,
           0,
           1,
           4,
           1,
           3,
           2,
           4,
           4,
           0,
           0,
           2,
           2,
           1,
           2,
           2,
           1,
           1,
           2,
           2,
           1,
           2,
           1,
           1,
           4,
           2,
           2,
           3,
           3,
           2,
           4,
           4,
           4,
           0,
           0,
           3,
           0,
           0,
           3,
           2,
           2,
           4,
           0,
           1,
           0,
           0,
           4,
           3,
           4,
           3,
           1,
           1,
           0,
           0,
           2,
           1,
           0,
           0,
           0,
           3,
           4,
           0,
           3,
           3,
           4,
           0,
           0,
           3,
           4,
           0,
           0,
           0,
           0,
           0,
           3,
           2,
           3,
           4,
           2,
           3,
           0,
           4,
           4,
           1,
           3,
           0,
           4,
           3,
           0,
           4,
           0,
           0,
           0,
           4,
           4,
           3,
           2,
           0,
           2,
           2,
           2,
           2,
           2,
           3,
           4,
           3,
           0,
           0,
           3,
           4,
           0,
           2,
           0,
           0,
           0,
           1,
           4,
           4,
           0,
           4,
           0,
           3,
           4,
           0,
           3,
           0,
           4,
           0,
           0,
           0,
           0,
           4,
           4,
           3,
           0,
           4,
           1,
           0,
           0,
           2,
           1,
           3,
           0,
           4,
           3,
           1,
           4,
           2,
           0,
           0,
           1,
           4,
           4,
           1,
           2,
           4,
           4,
           0,
           1,
           2,
           4,
           4,
           4,
           4,
           1,
           4,
           1,
           2,
           0,
           1,
           3,
           3,
           1,
           4,
           1,
           4,
           1,
           1,
           4,
           4,
           1,
           1,
           1,
           1,
           1,
           1,
           1,
           0,
           1,
           4,
           3,
           3,
           1,
           1,
           1,
           3,
           3,
           0,
           0,
           1,
           0,
           3,
           1,
           1,
           4,
           4,
           0,
           4,
           4,
           3,
           0,
           0,
           4,
           4,
           4,
           4,
           4,
           0,
           0,
           3,
           2,
           2,
           1,
           4,
           0,
           0,
           0,
           0,
           3,
           0,
           0,
           3,
           2,
           3,
           1,
           3,
           0,
           0,
           0,
           0,
           4,
           0,
           0,
           0,
           4,
           0,
           2,
           4,
           0,
           0,
           4,
           4,
           3,
           1,
           4,
           3,
           3,
           4,
           0,
           0,
           0,
           0,
           0,
           0,
           0,
           4,
           0,
           0,
           0,
           3,
           2,
           0,
           1,
           0,
           3,
           0,
           3,
           0,
           4,
           4,
           0,
           4,
           0,
           4,
           0,
           0,
           0,
           0,
           4,
           4,
           1,
           4,
           0,
           4,
           4,
           0,
           4,
           4,
           0,
           0,
           1,
           0,
           4,
           0,
           0,
           0,
           3,
           2,
           4,
           2,
           0,
           3,
           3,
           0,
           0,
           0,
           1,
           3,
           3,
           3,
           3,
           4,
           1,
           3,
           2,
           2,
           4,
           4,
           3,
           3,
           3,
           4,
           4,
           2,
           2,
           0,
           4,
           3,
           3,
           2,
           1,
           1,
           0,
           2,
           3,
           0,
           4,
           0,
           0,
           0,
           0,
           0,
           0,
           0,
           0,
           0,
           0,
           3,
           3,
           0,
           0,
           3,
           0,
           0,
           4,
           0,
           0,
           3,
           2,
           3,
           4,
           0,
           4,
           3,
           1,
           0,
           2,
           3,
           0,
           1,
           3,
           4,
           4,
           4,
           0,
           0,
           0,
           4,
           0,
           4,
           0,
           0,
           3,
           2,
           0,
           3,
           3,
           0,
           3,
           0,
           4,
           2,
           2,
           2,
           3,
           4,
           0,
           4,
           0,
           4,
           1,
           3,
           1,
           2,
           0,
           1,
           3,
           4,
           3,
           2,
           2,
           0,
           0,
           4,
           4,
           4,
           4,
           0,
           4,
           3,
           3,
           4,
           3,
           4,
           4,
           4,
           4,
           1,
           4,
           2,
           1,
           0,
           1,
           0,
           1,
           1,
           3,
           3,
           4,
           0,
           0,
           4,
           0,
           3,
           0,
           4,
           3,
           3,
           0,
           0,
           0,
           3,
           3,
           3,
           0,
           3,
           3,
           2,
           2,
           2,
           4,
           2,
           0,
           3,
           0,
           0,
           0,
           3,
           0,
           0,
           4,
           0,
           1,
           1,
           4,
           1,
           0,
           3,
           0,
           4,
           4,
           0,
           0,
           0,
           4,
           2,
           3,
           2,
           1,
           2,
           2,
           2,
           4,
           0,
           3,
           0,
           4,
           1,
           4,
           1,
           0,
           0,
           2,
           4,
           4,
           1,
           4,
           1,
           0,
           0,
           3,
           3,
           3,
           3,
           0,
           4,
           3,
           3,
           4,
           3,
           4,
           3,
           4,
           1,
           1,
           4,
           2,
           0,
           4,
           2,
           3,
           3,
           2,
           2,
           2,
           0,
           1,
           1,
           3,
           3,
           3,
           4,
           3,
           4,
           4,
           0,
           0,
           0,
           4,
           4,
           1,
           1,
           2,
           4,
           0,
           1,
           1,
           3,
           4,
           4,
           4,
           4,
           4,
           3,
           3,
           4,
           3,
           4,
           4,
           2,
           3,
           4,
           1,
           1,
           0,
           4,
           1,
           4,
           1,
           0,
           1,
           0,
           3,
           1,
           4,
           4,
           4,
           3,
           3,
           4,
           1,
           2,
           2,
           1,
           4,
           4,
           2,
           3,
           1,
           4,
           1,
           0,
           0,
           4,
           3,
           3,
           0,
           1,
           3,
           2,
           3,
           3,
           3,
           3,
           3,
           4,
           4,
           0,
           0,
           3,
           3,
           3,
           4,
           3,
           3,
           4,
           4,
           1,
           0,
           1,
           1,
           1,
           1,
           4,
           0,
           0,
           0,
           0,
           0,
           4,
           0,
           0,
           4,
           0,
           4,
           0,
           0,
           0,
           3,
           3,
           0,
           4,
           3,
           2,
           4,
           1,
           0,
           3,
           0,
           1,
           3,
           2,
           3,
           3,
           0,
           3,
           3,
           3,
           3,
           3,
           3,
           1,
           0,
           0,
           0,
           1,
           4,
           4,
           0,
           0,
           0,
           4,
           4,
           0,
           0,
           0,
           0,
           4,
           0,
           4,
           4,
           4,
           4,
           3,
           3,
           4,
           0,
           0,
           4,
           3,
           3,
           3,
           3,
           3,
           0,
           0,
           0,
           0,
           0,
           3,
           2,
           4,
           4,
           3,
           3,
           3,
           3,
           3,
           4,
           3,
           0,
           4,
           3,
           2,
           3,
           3,
           0,
           4,
           3,
           3,
           4,
           4,
           0,
           4,
           1,
           1,
           0,
           1,
           4,
           0,
           0,
           4,
           4,
           0,
           4,
           4,
           4,
           4,
           0,
           4,
           1,
           1,
           4,
           2,
           2,
           2,
           1,
           0,
           3,
           3,
           0,
           4,
           0,
           2,
           1,
           4,
           0,
           0,
           4,
           3,
           3,
           3,
           0,
           0,
           0,
           3,
           1,
           4,
           4,
           4,
           0,
           4,
           4,
           3,
           3,
           0,
           3,
           4,
           4,
           3,
           0,
           0,
           0,
           0,
           0,
           2,
           4,
           0,
           2,
           1,
           1,
           0,
           0,
           1,
           1,
           4,
           0,
           3,
           3,
           2,
           3,
           3,
           4,
           3,
           3,
           3,
           2,
           3,
           3,
           0,
           3,
           3,
           3,
           3,
           3,
           2,
           3,
           3,
           2,
           4,
           0,
           4,
           0,
           0,
           4,
           4,
           2,
           4,
           2,
           3,
           0,
           3,
           4,
           4,
           0,
           3,
           2,
           3,
           0,
           3,
           1,
           0,
           2,
           4,
           4,
           4,
           3,
           0,
           0,
           0,
           0,
           3,
           4,
           3,
           4,
           3,
           3,
           2,
           2,
           2,
           1,
           4,
           1,
           3,
           1,
           4,
           3,
           1,
           2,
           1,
           1,
           4,
           0,
           4,
           0,
           3,
           4,
           0,
           3,
           2,
           3,
           2,
           2,
           3,
           1,
           0,
           0,
           0,
           1,
           4,
           0,
           4,
           0,
           0,
           3,
           0
          ],
          "coloraxis": "coloraxis",
          "symbol": "circle"
         },
         "mode": "markers",
         "name": "",
         "showlegend": false,
         "type": "scattergl",
         "x": [
          5.8964058972996884,
          2.8011720624537375,
          -0.7769675986714115,
          0.9966121868901249,
          0.7319010423012702,
          1.8913073064289,
          -0.5396560641069686,
          -1.2300624519044596,
          0.6754890656532437,
          0.6743449590850797,
          -1.1834546130348522,
          0.005755676122725392,
          -2.2268334993939525,
          3.682824500905935,
          0.8095983379237318,
          -0.018786722200621775,
          -0.9863563291243969,
          0.6576947931546764,
          -1.4458379147342966,
          -0.31021864157092677,
          1.0692024743927007,
          0.8859549532839974,
          -0.9534693876606436,
          2.5266573551080036,
          -0.46220823010505,
          -1.703592091718578,
          -1.104332355154374,
          3.7519635261048907,
          -2.250086727683937,
          -1.0799683662941817,
          -0.9736645443432616,
          -3.327098351429092,
          -1.5904841607945295,
          -0.31478447310283864,
          -0.6247707935345731,
          -0.9648605406546993,
          -0.23894057692643897,
          -1.654642498468091,
          -1.244035467419597,
          -0.7129189348200018,
          -1.616807128345964,
          -1.4507068957376368,
          -1.6956060066862075,
          -1.846311272757248,
          0.9580687957875402,
          -1.5081389518018133,
          -2.707043425226047,
          -0.7813993985149101,
          -0.9941780265001604,
          -2.21901309232316,
          -2.084761433721182,
          -0.13766295709563608,
          -0.2380666294055101,
          -1.2957386286241506,
          -1.2567491373577147,
          -1.5663259491503951,
          -1.3524661115990209,
          -0.9410756668478701,
          -2.0090684869777897,
          -1.0091347610041554,
          -0.8751231407449807,
          -0.5092358658086789,
          -0.9622889610754298,
          3.3556700614222623,
          0.7366124167541283,
          0.9625602009015557,
          -0.8523791335060334,
          0.6073621640773734,
          -0.35932007407072714,
          3.7255238467469303,
          -0.4685853499802994,
          1.2246768694514996,
          6.393965147516302,
          3.3850007814684346,
          4.858385966562436,
          4.451221832745821,
          3.4246936465477495,
          1.779834083482397,
          -2.053163567861511,
          2.854534886223515,
          -0.03278725499802205,
          4.359670457133088,
          1.615944663030286,
          2.6506987316296593,
          3.9067134649410633,
          0.5201451147696594,
          0.6424811220526279,
          -1.8985260126000416,
          4.41504241070276,
          -0.9990737278350356,
          -1.6520326173953275,
          -2.1335393796091253,
          -2.3857844752765502,
          -0.26078263938590757,
          0.2234130939533461,
          -1.4886035436463283,
          -0.7176448939489266,
          -0.09507344330674546,
          1.7842826684004234,
          -1.8605604323461573,
          0.9509851585205904,
          2.6923122124891155,
          0.8239079164533273,
          -0.10059364445337135,
          -0.30429091516790685,
          0.9595751273967394,
          2.805931157907515,
          1.4963117755441486,
          -1.5808139287927934,
          -1.982007834356198,
          -2.289420994044509,
          -0.00820435515166273,
          -2.976557534216915,
          -1.6406191300649684,
          -2.094169812054816,
          -1.0147215578253785,
          -2.037314497271334,
          -2.0694314481881717,
          -0.2742821337239524,
          -2.33569576816574,
          0.6867759322858731,
          5.230852414023752,
          -0.1418084021501606,
          -1.0713113939580396,
          -0.025750671690135733,
          3.403367405019849,
          -1.1534912701839748,
          0.4460674487124567,
          -1.5914979013267863,
          3.6423075593737306,
          -0.7099314247417607,
          -1.8003713431217605,
          -1.8042033860524478,
          -1.5555395764328592,
          -1.5870431022844265,
          -2.2580450982244265,
          4.746906901160468,
          0.7366124167541283,
          -1.7269962999499542,
          0.5824930480385492,
          -2.7755850714737,
          0.5824930480385492,
          -1.4295066318739553,
          1.9528916628270643,
          -1.0321722667709374,
          -0.7886407672888759,
          -0.5819125775326833,
          -0.9845036281959679,
          0.6115754817513717,
          -1.3034840585806577,
          5.358071967257644,
          -0.9836660211772845,
          3.6628444503967956,
          2.9251688517562386,
          4.272690489662592,
          -0.31018163367784496,
          -1.6594485413121929,
          -1.1466387156043185,
          -1.7551586665954342,
          -1.9542409304200685,
          -1.5535452783474248,
          -1.2048999358285306,
          -0.33396773905946925,
          -1.8544855114268197,
          -1.352851620969946,
          -1.9173882333212477,
          -1.6862255924771756,
          -1.1405409869723047,
          -1.298244834068939,
          0.1664108196010878,
          -1.1211126523348225,
          0.15778259811060993,
          -0.3162848442032401,
          -1.3305472216834824,
          -1.0455793904590076,
          -1.9207233041482543,
          -0.9366565133620066,
          -2.498861208663286,
          -1.5358773443731113,
          4.143393131296697,
          4.901677205203631,
          4.067933031471276,
          0.44168407834001033,
          3.26280807871639,
          -2.070077839593706,
          0.09360433610830234,
          0.43794037703943317,
          4.416524921281231,
          2.3728570046153212,
          -1.0339633838268958,
          -1.494515752025194,
          1.766940508444012,
          -2.0764932156501827,
          -1.6900445662674433,
          -1.9161534352280079,
          -1.6607264256760101,
          4.714195180900363,
          2.1596315604699567,
          1.8216676586507001,
          0.2638353334813335,
          0.181641161781169,
          -3.198729084744219,
          1.0221240276588568,
          0.6338713730277142,
          -0.007881034082616716,
          -0.9065770048919434,
          -0.03059144172034064,
          5.427788477079116,
          3.0035799642183174,
          2.094914702390225,
          5.3857538376523975,
          -1.8465978977434163,
          -0.8254429771279682,
          -1.881338997585875,
          -1.614730236567859,
          -1.329434179916746,
          2.335847898528973,
          0.3028102699517647,
          1.1607178800861,
          2.164017192041627,
          0.16032042754249715,
          4.828426080136152,
          -1.8886949886134528,
          1.063694314601864,
          1.293983589097137,
          2.3098371883588817,
          2.647230755716873,
          3.8273256321300915,
          3.6148171471119617,
          3.121148519485325,
          -0.35782454313376494,
          4.167831109809022,
          2.676983203809374,
          0.8919783970845417,
          -1.617519733164313,
          -0.10811141400021183,
          -1.7602685757498282,
          -2.211226260363149,
          -2.167379218399436,
          -1.4940637948756605,
          -1.3666527005796947,
          -1.9236376791966152,
          -2.0170045078211984,
          -2.0249443613998976,
          -0.9426429306916072,
          -1.229803720938509,
          -1.7886314053252856,
          0.7587640418344901,
          -0.4447950575597714,
          1.440784181902067,
          -1.4970698990555436,
          -0.9201370238887513,
          2.0801435130233883,
          -0.48906332390028867,
          -0.9198285465515071,
          -1.6232634422689811,
          -2.470201045945482,
          -2.470201045945482,
          4.937887413792334,
          2.143349074294627,
          -2.1214134435742906,
          -1.8216578930441314,
          -1.6436567941373894,
          -0.4086544009435245,
          -0.7947163662499233,
          2.373159440423368,
          -0.39201077237351994,
          -1.9696441029010474,
          0.5722732655582539,
          0.3531825449607773,
          0.4381940981255395,
          -0.1707069077309262,
          2.236283858714911,
          -1.3509162746130308,
          -1.467157832858188,
          -0.2940936397529478,
          2.9999269338739842,
          1.5375413229636297,
          -1.7020586735497116,
          4.331690080369365,
          1.6806936628103664,
          -0.9408510023771034,
          -1.919529268977355,
          6.250084408908619,
          2.671613728348849,
          -1.9361415301238152,
          -3.879419903638972,
          -0.38474231525496283,
          -1.5809964106611807,
          -0.6876524189418107,
          -0.8976387707404813,
          -0.3725869014823983,
          -2.043731430414194,
          -0.0714805699296325,
          -0.6876524189418107,
          1.7822773765527222,
          -1.061542493808157,
          0.03034890130426622,
          1.4087006085780667,
          -0.13572198580290495,
          0.4325387078549134,
          -1.7642922084654837,
          -1.3998766435073637,
          -0.5902135917272402,
          -1.9254567320156766,
          0.4555170546905164,
          0.4782246516913311,
          -0.49865004512884015,
          -1.1580301650071256,
          1.2292137924099913,
          -1.7039939477074102,
          -2.0616232882905345,
          0.6006894197710382,
          0.5528838684660391,
          0.7307637255462941,
          -1.2259500644938424,
          -1.9742583808798126,
          -1.6688169815881901,
          -1.7340150169997275,
          -1.2180236569297525,
          -0.8291917763756889,
          -2.4227994509535886,
          -2.6483919329838024,
          1.5410448646161918,
          1.335914481383843,
          -1.1519961539588504,
          -1.9306650127069322,
          6.024053544000139,
          6.250084408908619,
          1.9749851670551228,
          0.5026170613311431,
          3.7344295488201733,
          4.907868772487864,
          -0.7090587894232263,
          2.9024826033745477,
          5.125072608455954,
          3.7677136522180037,
          -1.9767738175783351,
          -1.1154132938103536,
          -2.396993458065133,
          -0.16098393515083004,
          1.1402581649672117,
          -1.1154132938103536,
          1.5662997215106833,
          -0.20071959382713517,
          -1.9316447696909043,
          -1.5566287220757573,
          -1.3089481745182896,
          -1.4953295232692183,
          -0.8506075651701677,
          -1.1154132938103536,
          -1.5542104704906103,
          -2.723648894445027,
          -0.19311569061528278,
          3.6353237762345922,
          -0.7592503620266137,
          -0.11052527144701488,
          -1.2588687633278735,
          0.9094608784634897,
          -0.7038183543404611,
          -0.8096375001004246,
          -0.8545445275388058,
          -0.6021907888095813,
          -0.26390230669197134,
          -1.990421925903241,
          4.186935031190664,
          5.799993306082307,
          -0.7407131528443922,
          4.314027793666936,
          2.3390905060177016,
          0.01594864563708294,
          0.41714382304869235,
          1.07986076897072,
          -0.07881140111215802,
          -1.178775110641736,
          0.45789776938665766,
          -0.5979703861712433,
          0.919870608491686,
          4.0724724875935046,
          3.9787288907129326,
          1.3597982084076479,
          -1.9763458153111493,
          1.385821897342577,
          -1.2415803973189872,
          3.372658675192051,
          -1.2086651047837491,
          0.5136786476876778,
          -0.2675778588910897,
          -1.8410659791045447,
          -2.1081375352625518,
          -1.1865356072413822,
          -1.728134030739569,
          -0.05828745745654765,
          -1.01509030486077,
          -1.3764218470294294,
          -0.5710104033468818,
          -2.564811593991521,
          -0.6271439624221535,
          -0.6273345354654487,
          -0.7214398625381445,
          -0.7598588390851571,
          7.074602408228823,
          3.1747708314906165,
          1.586815408448274,
          0.48227275871910585,
          -0.7836557125139608,
          2.022167697587345,
          -0.7601898837491817,
          -1.209660085751866,
          -1.5131651875206098,
          2.888950687667929,
          0.802955860938956,
          -1.3522354138289014,
          3.7325572952554795,
          0.9349536420705075,
          -1.5560675754695128,
          1.478851618935084,
          -0.9246816763908051,
          -1.195255451466839,
          -1.140711014325593,
          0.3318460847769994,
          4.1862101245047345,
          4.249718441865534,
          5.9204759914823555,
          0.7501653403860784,
          -1.256105199649134,
          0.15358571677334287,
          -0.2514958568304888,
          -1.2828944514798715,
          -1.0580753233006375,
          2.7866905259455796,
          0.9141679341823856,
          -0.997877681112294,
          -1.7134778546673037,
          -0.28564096958612106,
          -0.6813618606428168,
          0.9263951842683855,
          0.026869569075456717,
          -1.8327130432335117,
          -2.1605823473008527,
          -0.9540235797338696,
          -1.628285344456648,
          -0.17513266615607812,
          -0.8424778586220576,
          -2.051721089348421,
          -1.3085398489884048,
          2.8547083638426973,
          0.31402188443660456,
          -1.7313310879679011,
          -1.490357418503048,
          -0.9133022431791924,
          0.3101830589933666,
          2.611254855855868,
          -0.108216302825086,
          -1.70485970957545,
          -0.6270538127051888,
          0.0008243939918781226,
          0.8821033864228613,
          1.1371162280355211,
          0.30011047022265175,
          0.3383755293224251,
          1.422793381340026,
          2.351371536231315,
          -0.26846105767324563,
          0.29245237212090125,
          -0.314348055179952,
          -2.340238945160033,
          1.285341226150602,
          1.6837322314491936,
          1.302111964949919,
          -1.2718440637180486,
          5.081502551911146,
          3.4962128372502015,
          6.43286470490133,
          -0.7145441194745534,
          -2.29243770259102,
          2.2265735941920877,
          0.7937992607152073,
          3.6828500021598765,
          -1.9006243977677195,
          -1.8801424277576635,
          -0.9436518949671145,
          0.6835970273669468,
          4.971371940637163,
          1.122381655250218,
          4.863156368180992,
          2.514038633978241,
          -0.11458068524529641,
          4.21764515246653,
          0.18842160571624875,
          -0.13074466924443476,
          -1.863460997230672,
          -1.5434116125287682,
          -0.08571756665222635,
          0.3154130792172455,
          -1.0854081880177135,
          -1.1010135377967456,
          -0.10571377021439414,
          -1.2911326826916352,
          -1.4069807157660594,
          -1.3357954947987267,
          0.8805561722821638,
          0.42344132656140804,
          -1.736360251381452,
          -1.3094602525681212,
          -1.3420930552243922,
          -1.0941447187077447,
          -0.8906242166560282,
          -1.81792089626388,
          -1.6602126519887914,
          -0.24727399955806934,
          -1.3199881500710817,
          -1.334960110316793,
          -0.9497156134874742,
          -1.2512952808614524,
          1.4707823404125113,
          -0.2388511464695881,
          -0.7273443022332033,
          0.5296101223498717,
          -2.1129962043855675,
          -0.21300187512328897,
          -0.6777496249025525,
          -1.6973821477499103,
          -0.3156230863092002,
          4.598726912889312,
          0.289659272634532,
          0.8690835045742,
          -0.25029529546219226,
          -0.772544847185348,
          0.08077070517523889,
          -1.245947867090649,
          -0.7380489098916603,
          0.8523204020329179,
          3.676137694558198,
          4.972652252081051,
          5.87306110968573,
          -2.3800057798375436,
          -0.1250952706988409,
          -1.8137961884691105,
          -0.26434293522776064,
          -1.0400241026458878,
          3.7666510885112237,
          -0.0362925846117645,
          -0.3909785012978226,
          3.676137694558198,
          3.0331375661130777,
          1.9089504214402968,
          -1.9646808908996645,
          3.9566303785068215,
          0.8276124646421135,
          0.21053556905589632,
          1.619478171675738,
          0.7947250181123489,
          -0.9476069310776863,
          -2.6834231477135497,
          -1.9204641142368724,
          -1.8187144358437242,
          -2.224460228773392,
          -0.40972511643844406,
          -1.2838147250570493,
          -1.4871155913887169,
          -0.3408503588587608,
          -1.0985313449645786,
          -0.7723092308253735,
          -1.9512020752006058,
          2.6322456672957197,
          -1.8401796597918094,
          -1.8726499120644908,
          0.47589982185689605,
          2.9157431531531484,
          0.9429144805044545,
          -1.677025258618272,
          -1.1376886170711087,
          -2.2056849130724245,
          -0.6975196785174219,
          -2.898681140043816,
          0.032887590659633814,
          -1.1250044123218237,
          1.5960318298165306,
          0.46357447388971423,
          -1.4011772183665514,
          -2.392605630312061,
          1.0859642934874334,
          -1.0455600646729033,
          0.5986861613848851,
          -0.15382685472372784,
          -0.018482785964876007,
          2.122149367337794,
          0.34517995469913465,
          -1.0298555625257249,
          2.2657046393540354,
          -0.9796615273921235,
          -2.2912339935274595,
          -0.7632846582738197,
          -0.35282847788963645,
          1.004163612498204,
          -1.225088633168445,
          0.46929915892516305,
          -0.4698212497284498,
          -0.7741210105069515,
          0.2779872784751585,
          2.5959176001997517,
          0.5361280370196765,
          -0.6491025600201437,
          1.4473912491473926,
          1.687404231483029,
          2.4559123257256967,
          0.4859808920611998,
          -1.3745319404411347,
          0.6314676092411279,
          0.9974846040952714,
          0.4710319232533762,
          -0.7171634117939657,
          -0.024220518210876306,
          1.5971394524864249,
          0.36307793632764507,
          -0.8425689435384649,
          -0.6019035433669994,
          1.0126375154475227,
          -1.0296379952158976,
          0.4051756153192222,
          -0.30137649298488806,
          3.1590231341258517,
          -0.4662043807827306,
          -1.6547772282721518,
          -1.0595361379874384,
          0.4606765136189587,
          -0.486360717880348,
          -0.6663454205841322,
          4.21457137331297,
          -0.07253339901464016,
          3.5491565826048346,
          3.850563348508178,
          4.931839910902082,
          4.476443353369935,
          4.10835097288604,
          4.059239246190461,
          3.846129638674425,
          4.197036426615325,
          4.846572627561656,
          4.9286512706048216,
          5.5386979592659245,
          1.5086139836947436,
          3.8550341253396416,
          4.195459167068436,
          3.7836553578096046,
          4.337677065295457,
          5.403226089145613,
          5.6032880649473,
          5.099997428482298,
          1.5918924284576124,
          3.6974608645056577,
          3.4447053098227554,
          3.1870097889546645,
          1.4836020374510661,
          1.7065389829767945,
          -0.6135468701020251,
          -1.4451198391627291,
          -1.4665416108334344,
          -1.86718348047722,
          -1.0177123383173423,
          -2.295855226654077,
          -1.9767061056647408,
          -1.4131898306636128,
          -2.0036369063369355,
          -0.6713103964235702,
          -2.0205023949641765,
          0.44319865441326484,
          -1.1709449975273334,
          -1.3745156801773553,
          0.25777094639231224,
          -2.003176816822323,
          3.5945362149422415,
          -2.1041778833301117,
          3.684582219600061,
          -1.8355730439834943,
          -1.4564314265497795,
          -1.469278264218347,
          6.393965147516302,
          4.976242607036004,
          5.4311896337406855,
          -1.5026551296835928,
          0.447361473748046,
          -0.3659155474899072,
          2.80666096556947,
          2.242897856562247,
          1.3464817220189587,
          4.339125173275145,
          2.1609648762976046,
          0.81844422226662,
          0.6053734157941205,
          -1.0537365619638839,
          -1.8367695485413351,
          -2.266011980792774,
          -1.6887710302664494,
          -0.6232751913588448,
          0.3896953479048199,
          1.9934060206240278,
          -0.8892334845405437,
          1.1494524204674852,
          -0.2496355828548701,
          -0.8716842306297277,
          0.5072389999353083,
          -1.5763937280152756,
          -1.883328382205217,
          -1.3023785488833663,
          -0.3495569355481907,
          1.1662203298564362,
          0.4915888136055054,
          -1.1292318313629246,
          -2.0443533851738795,
          1.4257770134724472,
          -1.1270278806564415,
          -1.1270278806564415,
          -0.7479864546859646,
          -2.083286429843075,
          -0.8576534288891248,
          -1.897388737253832,
          -0.7999010030517527,
          -2.5734245041684654,
          0.1778443005902669,
          -1.3710993057154768,
          -1.6348730252524974,
          -1.882439498184334,
          -2.318400367271218,
          -1.8192022304007058,
          -1.3550795982854749,
          -0.9214735009418192,
          -1.7959551415151405,
          -2.6700991335711732,
          1.0852712832072158,
          -3.187198969539594,
          0.3298597783109208,
          -1.8261793782507572,
          -2.572484469081291,
          -1.903723986131606,
          -2.656564143722914,
          -0.2785614821614031,
          -2.5052662824255036,
          1.3928153318851584,
          4.493338261966947,
          4.68507786606036,
          2.4870262717409863,
          -1.2375922710829366,
          2.097236074304378,
          -2.522565865921332,
          -1.236875767903258,
          -1.6671036243758313,
          -1.0503398913154403,
          -1.4795420600040985,
          -2.006447070833601,
          -0.4698212497284498,
          -2.0818009302035785,
          4.394380580165757,
          -1.187278579650587,
          3.3504714708347616,
          -2.5075001629779874,
          3.604203546706303,
          -0.5170375444871235,
          -2.4961561525188465,
          1.115746464883643,
          -0.07548860973642244,
          -2.5524318050558388,
          -1.3415434264437238,
          -0.07548860973642244,
          -0.204530869429735,
          -0.9352751716572094,
          2.0673088699060536,
          -2.618317785449295,
          -1.258020249203512,
          -0.22850917896225986,
          -1.5917785713904575,
          -1.993480794445785,
          3.8748940673247105,
          -0.09017308676460863,
          -0.7018086478092239,
          0.4359726894435369,
          -1.6063063059140927,
          -0.19853313573733009,
          -0.7343473264700684,
          -1.3755115829342774,
          -0.5531716402741079,
          0.31469545465796556,
          -0.4037007331632579,
          -0.6068647235896644,
          -1.2246196175614579,
          -0.8796844941428426,
          0.26354200323480953,
          -0.2614331041184559,
          -0.933463626292264,
          -1.7152717333492877,
          -1.5349430101904287,
          0.9614739280122371,
          -1.7723523662767606,
          -0.48927892075090457,
          0.9071387843452186,
          -0.7845302195252867,
          -0.7137871296326639,
          -0.5009795295607536,
          -2.763854348450098,
          2.8022006145602254,
          -1.2477857230530924,
          -0.7432225646939263,
          -1.9453226348553598,
          -2.257669407833496,
          -1.4499992671947697,
          -2.563391545046837,
          0.9019571676739907,
          -1.76469679244796,
          -0.04982626612916679,
          -1.8560348763126997,
          -2.6262345488854235,
          -0.423975156766176,
          -1.452193474261381,
          -1.0460332200691524,
          2.2584062298693226,
          0.5216788271745705,
          -1.9658874958912111,
          1.2074094328627794,
          0.818022819569012,
          -1.7406332134674314,
          -0.5137347433517149,
          0.5052614860335178,
          -0.3490666121156271,
          -1.5964291106531334,
          -1.474793952981616,
          2.5137922924638803,
          -1.2082581155061243,
          0.6419132857206995,
          0.012640990279973499,
          -1.486053802251081,
          -2.9651737157496867,
          -1.1741518141490317,
          -1.9876595317132861,
          0.8942590314330779,
          -0.4401034189509159,
          1.0071391153132514,
          4.747925968819183,
          -0.4925939147300621,
          -2.0212710690711826,
          1.564783624719838,
          -0.9650871291532999,
          1.5422406742889552,
          0.4381940981255395,
          -1.330928717678486,
          -1.7405909844268441,
          -0.7152262367930708,
          0.8073742603790102,
          -2.6906301760799494,
          -1.3195375855351903,
          -1.4513055149627554,
          -0.8882240620157972,
          1.2633849789107048,
          -1.0743360851440213,
          0.4797315517448496,
          -1.4980957783778694,
          -0.5626643824990274,
          -1.307504795226376,
          -2.058871325975217,
          -0.7741810302407566,
          -0.1313923860996812,
          -2.089936898891279,
          1.844592978767279,
          0.7621961248190887,
          0.3215975989826145,
          -2.0671321301604113,
          2.610428044309187,
          -1.708782577236127,
          3.0398448114854677,
          -1.9627047086804705,
          -1.4393341248003186,
          -0.9443769239645465,
          -2.090076664501277,
          0.8676005949143725,
          -1.733000044722052,
          1.2745411618805615,
          -0.30125993617246716,
          -0.9608590190243034,
          -1.476502237018857,
          -1.7093171548067905,
          -3.046314136729949,
          -0.05918210261471413,
          -0.18519919601339596,
          -0.7663621044803117,
          -0.1842371915265107,
          1.3182130281666928,
          0.4455675695808493,
          -1.394668287215486,
          -0.019555381819727456,
          -1.475718135862302,
          5.019595766806259,
          -1.7758625772168852,
          0.49892275512912104,
          3.5959272984213415,
          2.24180717207065,
          1.0050635162742063,
          -0.9468472938477236,
          -1.086972824829985,
          0.5932194584166347,
          -2.1000239296474503,
          2.0924392603633963,
          -2.0161316830562557,
          0.7282603860520231,
          5.230852414023752,
          -0.7563738410325032,
          0.8592894008504243,
          -0.09139889882553588,
          0.7366124167541283,
          -2.0392264601213195,
          0.5486082601892546,
          -1.281900896387821,
          1.8023324374563825,
          6.0875452072492795,
          -0.7716222552059769,
          -2.1005057931209015,
          -2.3187755562501557,
          1.4553405335698624,
          -2.8138164049114125,
          -1.5259773976478865,
          1.5373293548731073,
          3.2670916352740815,
          -0.9726235147683401,
          -1.1423338770517744,
          -0.82353019391338,
          -3.0350469591416593,
          -0.038107178237096175,
          -1.2645415617692481,
          -0.5731102871215938,
          0.6300394012487814,
          2.1073900391172264,
          4.126373740238588,
          3.9650149273259436,
          3.714148139295426,
          3.4050707310047597,
          -0.6895940129551855,
          3.730476374933067,
          -0.6426488829629576,
          -1.602764785669191,
          -1.717957585819737,
          -1.4057140712738627,
          -0.501804305661994,
          1.8903631368900515,
          -2.349887479066617,
          0.6479930817366057,
          -0.8007071496456559,
          3.5052889987632896,
          0.8020635783034549,
          -1.6322643480716559,
          -1.7241774607636993,
          -1.678255201006657,
          -2.410924206398971,
          2.0142634368506926,
          -0.4163842846582833,
          -0.8919556595747008,
          1.1211608934474753,
          -0.25667689833828417,
          -1.345050351665571,
          -1.9656263469075899,
          -0.7503230804131829,
          -2.426924516555357,
          -1.040920881344832,
          -0.9012261911042031,
          -0.5463991524089374,
          -1.787741436965814,
          -2.078508455322216,
          0.19931129347576837,
          -1.6046331237874416,
          -1.8085353849904675,
          -0.289095966366194,
          -1.7515314445609482,
          -1.5527085434870338,
          -2.2524666023625275,
          -1.5538456043210545,
          -2.5868750932580973,
          -1.1578982689782873,
          -1.1374738197545073,
          -0.8782441584463385,
          3.7688793118451245,
          -2.638988707595241,
          4.333366230758414,
          0.39291934323968103,
          1.163363290639081,
          2.846497441359819,
          -0.2525747143817239,
          0.5908870036434868,
          1.9518460923447778,
          -1.543586898834675,
          4.135295592324654,
          -0.423975156766176,
          1.1202106315290987,
          -1.9096491293686724,
          0.7868209246091217,
          -0.3511603833913688,
          0.3325842498259928,
          3.5340204227854284,
          2.362993602986801,
          -0.07223692188347806,
          -1.1681710108947392,
          -1.423196153709346,
          -2.4076188325684456,
          -2.183450696558746,
          -1.8221832009820687,
          -3.415988353496193,
          -1.6174405889565782,
          1.5349275047368836,
          0.8403389512481972,
          4.48783846305388,
          2.400179747325729,
          -2.311554389291448,
          -0.782500768542027,
          3.363598878762856,
          -0.585668708402199,
          -2.0751906116699237,
          0.12809053390010738,
          1.8897683029124128,
          -0.13748097246445903,
          0.4275677171852469,
          2.0914530284035475,
          0.9316521690221046,
          0.6230479326762883,
          2.189150743903203,
          -2.9646073310658845,
          -2.424319646888188,
          0.43230545034319906,
          -1.5277980297335687,
          -1.2940196154453805,
          0.3410360561628203,
          3.2424534119217068,
          -0.9077543174745147,
          5.215917049324535,
          5.109578143037178,
          -1.2538661818389252,
          -0.7382084917552648,
          -1.6024769988405798,
          -1.8283560100015246,
          -1.4720869142801942,
          -1.1544053872379911,
          -1.149685279563433,
          0.0833025402869993,
          0.5394386761658935,
          4.537859927469432,
          -1.1071031009011412,
          0.3630817401951791,
          -0.8775640872576774,
          -1.5900206285971925,
          1.6241165775238293,
          1.3818444040264226,
          4.32776255895982,
          -0.9282403901443813,
          0.2779628345526237,
          -1.8119315139141612,
          -1.5724761517624715,
          0.45197802282570504,
          0.4843542189372734,
          2.6978318454083308,
          1.9878310907589705,
          -0.07774763782043217,
          0.3611326242199331,
          -1.6302924048407685,
          -0.9230844693488579,
          -0.14138576410049725,
          -0.17122901113107591,
          -0.22490252627378904,
          0.7049616175852444,
          -1.2911326826916352,
          2.4860074070159883,
          1.1400787484486457,
          -1.7724374133466319,
          -0.6989906713409044,
          -1.1163929183718666,
          2.385805705380709,
          -0.19614010396465317,
          -0.753531945062478,
          -0.8902583899284918,
          -0.9436040635918636,
          -1.3742379035129961,
          3.467561934658971,
          -1.7452117733612411,
          0.23198160788938965,
          -0.6229764218161808,
          0.040925644754139776,
          3.006897586845175,
          2.3351958770596952,
          -1.5139769401567038,
          3.34350506555663,
          5.30391870160899,
          1.15420128839515,
          -0.8529591454333837,
          -0.9575083487098632,
          -1.9212851038856549,
          1.1223666386113806,
          -0.40448086058711175,
          -0.6034584933147519,
          1.5231530295925364,
          -0.8529591454333837,
          1.0982388552058817,
          3.749460257600016,
          3.826240406014652,
          -0.008001426494774462,
          -3.126625316834951,
          -0.9881328917720743,
          -1.5168770488915975,
          -0.9776531003933636,
          3.876869638577315,
          -1.2103119357470615,
          2.2010301946654103,
          -1.5122020675405747,
          -1.4696716370815415,
          -1.321354431178357,
          -0.20510940129291066,
          -1.9608784991026953,
          -1.4023018308517532,
          -0.5894086751630359,
          3.149486238574025,
          -1.7973797003964278,
          -3.7175527365682206,
          -1.5255528425992615,
          -1.0193855975965382,
          0.9198048400638567,
          -2.7143158957260702,
          -3.506663228813696,
          -1.169226645093243,
          -2.8664305493337245,
          -0.7536960690984554,
          -1.209564757661088,
          -1.3855205509061614,
          -0.3270035737369643,
          -2.0899570076864666,
          -0.8280597796929274,
          -0.9592356390546288,
          -1.7288448525412314,
          -1.5000827601356685,
          -0.14104205411837895,
          0.7232437236385044,
          -0.8469373493972405,
          -1.846566655140326,
          2.8674739458532104,
          4.199620249830247,
          -2.672159885074929,
          -1.5630731538450597,
          -1.7895583424053796,
          -1.7228291818209127,
          -1.775321148456632,
          -0.47690434333942094,
          -1.3146085205186593,
          -0.42184187816525487,
          -1.5587142839753214,
          -1.5568950089860227,
          -0.8228700347660604,
          -0.7180312219782626,
          0.2653985840798145,
          -1.2986111012498056,
          -0.25232592809976767,
          -1.2719907555258312,
          4.06484361945336,
          3.251238751833136,
          5.470180635897683,
          0.1778725795434312,
          -2.2810465538607723,
          -0.5627204583777804,
          -1.1059237546080778,
          -2.1022426113021653,
          -2.3130038360558176,
          2.6830925205871856,
          1.7698429812789536,
          -0.9048860506449424,
          -1.063594397980469,
          3.6657643534363964,
          3.823346249968358,
          -0.943006799151923,
          -0.8812181230955864,
          -2.315577089101147,
          -1.3553060551201703,
          -1.7416219870253549,
          5.966822361103802,
          -0.8513743125148362,
          3.8014535776361544,
          2.6461569217928336,
          2.3744247255772164,
          -1.8437179808264965,
          -0.1957201869961032,
          -1.9421748086917412,
          -2.9132753195263863,
          -2.1038903750517344,
          1.1341475479029162,
          1.4108086245640041,
          -0.7947163662499233,
          -1.8401552649024593,
          -1.1528554666402462,
          -1.476947490070825,
          -0.9818850408314879,
          -1.102911165891658,
          0.04752750667447764,
          -0.8280900482381827,
          0.04819247226253726,
          -1.8482536169198553,
          -1.8382865538914839,
          -0.18912096277732926,
          -0.15715877638364056,
          1.7942031030511012,
          0.887440243550292,
          0.057941095770144564,
          -0.5045427966155742,
          -2.9646811722097772,
          0.1755073384001718,
          -0.45100158221212383,
          -0.8932810457503146,
          -0.5406540793755724,
          -1.4640017159610192,
          -2.3328706539856747,
          -1.51983949149887,
          -1.1406871249719808,
          -1.1883623992377854,
          -0.2786648983222189,
          -0.7960132211848999,
          -1.3481493317370556,
          -2.4186388825429668,
          -1.578181045511897,
          -0.7540355644244618,
          1.6753522266432699,
          2.755101322051101,
          2.397095666804916,
          2.1292822646955263,
          -0.2658746767115251,
          2.8385036515813793,
          0.5868635095744832,
          1.2913919150775617,
          2.6798233942669674,
          -2.2672023682754214,
          0.7788156535763909,
          -0.10241376965448021,
          -1.5013389822202867,
          -1.2060232428755002,
          -0.7569488877567474,
          -2.0531971975150682,
          -1.1240557372978994,
          -1.3443446633449405,
          -1.760492811005651,
          -1.2366146857880274,
          -2.898681140043816,
          -1.2194326233075259,
          -0.2341905159947311,
          0.6831130493051443,
          3.19437441398765,
          4.975523811837348,
          1.282221585720686,
          0.5829937007535857,
          0.15589580437850092,
          4.114429039881378,
          -1.9929635312859337,
          1.8437983153991706,
          1.2794901663258047,
          -0.6867542916717868,
          2.6722102824080176,
          -2.856386647009648,
          -0.5099876064095574,
          -2.3506982327492536,
          3.4597065435419916,
          0.2351678219647395,
          -2.1775106045282393,
          3.357855797566684,
          -2.0475844234582565,
          -1.9477753248551835,
          1.9762668373495091,
          -0.13610859715539408,
          -0.9570532368704242,
          -0.5771235123511125,
          -1.2406474849675493,
          -1.7574864264617516,
          -1.086601095662045,
          -1.36661957949383,
          -1.7238251064186145,
          -1.8887922378935698,
          1.824924716623923,
          0.6642820120742775,
          2.373159440423368,
          3.419434923233639,
          3.489867262618704,
          3.0827900530192864,
          4.240339408745779,
          0.822766420047342,
          -1.1811601976299633,
          -2.310933460473303,
          4.3669178600695195,
          -1.0532316251009315,
          -1.641499471371066,
          -0.6328525824257082,
          -0.7216396643642967,
          -1.7118437478305781,
          2.672484221127516,
          3.145266846277197,
          2.634839823987579,
          -1.6206955305262636,
          -2.8965196848901074,
          -1.8964762410545466,
          -1.5346508184404704,
          -1.9899410467873133,
          4.728756700696242,
          4.019965162974123,
          4.4198292299669015,
          5.069493255731003,
          3.815856157243762,
          3.9569273643955927,
          2.817745215101426,
          0.976119843279237,
          0.5800610154159411,
          -0.006505278670613273,
          -3.1491587898797238,
          0.04227948559793737,
          0.04227948559793737,
          0.13983359259990114,
          1.9379625724650447,
          -1.652775226987823,
          -1.4208181474960426,
          1.8556273437250428,
          -1.9604839034381967,
          -1.693113134542414,
          -1.986263057664182,
          -1.7787947613368573,
          -1.3100494742330673,
          1.5876888738803496,
          -0.9796615273921235,
          4.571774725135974,
          4.42038420547516,
          5.257615588974893,
          5.8255052542981876,
          0.10004711702445836,
          2.1072003980589766,
          1.857692853107973,
          1.857692853107973,
          0.10004711702445836,
          0.32494545530339775,
          -1.512488416209579,
          -1.5891773776803524,
          4.281771241961944,
          0.4504904383923134,
          2.29892825736983,
          0.9165155128535686,
          1.1622213069665503,
          -0.2943730010041015,
          0.9909403816437352,
          1.0668037185834673,
          0.7656090445947223,
          -0.566165485733462,
          -2.7391070238259845,
          0.6413090617843046,
          0.9814489071012601,
          4.945690716847251,
          2.302390379401453,
          -1.3590516551400253,
          -1.2393390796081472,
          4.102586838129226,
          -1.001578537939041,
          1.3820053873816505,
          1.7953725479319205,
          -1.9436744879714538,
          0.4062125237113113,
          -0.059797692457721506,
          0.50609695859239,
          0.34226062224937953,
          1.8472951019476935,
          -1.3181300130871183,
          0.12867175985583956,
          -0.2565015597155061,
          -0.7223079874237561,
          -0.9561376579224073,
          0.2592169054670875,
          -0.7774737175793756,
          -2.0498665511657075,
          -1.5525340073082494,
          0.9273441462081855,
          -0.9024197222801473,
          -0.01997243622179506,
          -1.0762304733321926,
          -0.7720588287847275,
          -2.57422504719025,
          -2.3347557880442262,
          -0.33447482587881355,
          -0.14223891650705214,
          -0.6988417709662332,
          -1.2617480083737949,
          1.0327899539910648,
          -0.35084664630555656,
          -1.4233033843168628,
          -0.9164678810709224,
          -0.4698212497284498,
          0.1311840422837662,
          -1.273612323393885,
          5.285152218196682,
          -0.17891356348952916,
          -0.3021273333853997,
          -2.1188782366731487,
          -1.3436484404527307,
          -0.8560094652186289,
          -0.04509286548314492,
          1.5083961581059053,
          0.7957086574943164,
          0.1953593374776798,
          -2.5170149261575383,
          -1.1112466372388003,
          1.4350493462496376,
          -0.7676980108394269,
          -0.46564597814123015,
          0.5286538178464424,
          0.21722795457323127,
          -1.0693994362388983,
          1.3189090329056223,
          -1.059634880642852,
          -1.326678323159979,
          2.5471297201993073,
          -0.12163399722437593,
          2.8281598391221743,
          0.052819548360662216,
          1.4832972351743456,
          0.7845788403092899,
          0.4243411810055028,
          -1.2963283354417838,
          2.8618260263157196,
          -0.3505914228561948,
          -0.9813402196826195,
          -0.2519497356843928,
          -0.4586453741774591,
          1.503102855739116,
          -0.9796615273921235,
          0.7958171700604549,
          1.513386884476286,
          2.8739286157556037,
          5.723073467737853,
          3.390571036142589,
          -1.5857148552382743,
          -1.3339406668590228,
          -0.6923615916446686,
          0.16309826680367565,
          0.3383531826913685,
          -0.8137264545409353,
          -0.3384685666061291,
          3.1978194030276246,
          4.112843359327984,
          2.3941239747317176,
          3.2865291704447044,
          -0.4875509074134863,
          5.601520041998409,
          5.440719008378666,
          -0.07253339901464016,
          -1.5389200178106135,
          -1.3982021086379137,
          -1.3982021086379137,
          -0.9595906043094529,
          3.8886088738804125,
          1.2281488244265188,
          3.16130240827686,
          -1.3982021086379137,
          3.2449796133768163,
          0.14972051086828672,
          3.79403580976323,
          3.2850678204472987,
          0.6567469180674264,
          -1.246224125499857,
          1.588489064870745,
          0.583423331052043,
          3.995107283578041,
          3.4667878001317494,
          3.4116188601038235,
          2.803570111265175,
          0.5259754652425961,
          2.723394105209179,
          2.0629392043674284,
          -2.4597763313988454,
          -2.0380187212532563,
          -2.7872019761977804,
          5.019099968402583,
          -0.7062001430232386,
          -1.566820677201354,
          -2.6699703594589477,
          -2.165555461971253,
          -2.2908182104163015,
          -2.085955805617435,
          -2.2056856622739773,
          -2.141299631216701,
          -2.409593073974065,
          -1.0280895212567596,
          -2.1327604700247003,
          -1.0059913691671374,
          -0.5829229048917693,
          -0.565073957673204,
          -2.3425443935110755,
          -1.3006373467936256,
          -1.3477831297591572,
          0.09663518199553961,
          -1.2150720068640568,
          2.8574208212417367,
          4.844044299063139,
          5.27787394974382,
          4.911663869197402,
          0.07956457815222202,
          3.043050840283032,
          -2.6863642240571233,
          -1.5311044931286664,
          1.3263409819975565,
          -0.5492081205838664,
          -1.9210983235747496,
          -2.641226251811872,
          -0.9040139985516977,
          3.043050840283032,
          1.2955688877494984,
          -3.533218575743438,
          1.3740527690342788,
          1.7143362747011932,
          -0.2468052687047826,
          -2.370529630139778,
          -2.739032964087206,
          -0.6452000865722365,
          -0.7435570210992181,
          -1.779709408064533,
          -2.856277126481731,
          -2.1756571488621232,
          -0.9361340434482586,
          -0.3290368732391829,
          -2.3417713498659887,
          -1.0280895212567596,
          -0.9834212202566098,
          -1.4936793468952372,
          1.0510387409317579,
          3.897149404317528,
          1.3263930364493408,
          0.5191424852399407,
          -0.847030868430024,
          2.041759328417252,
          2.0144421447559315,
          0.8747845910859174,
          -1.4452035977757773,
          2.169888719055005,
          -0.3676879559526049,
          2.179725571100347,
          -0.12840057025468873,
          0.5325951646176904,
          2.698239196679146,
          2.0767614623820263,
          1.868622993334576,
          0.5999859181778889,
          1.4434614106489514,
          2.202340576211829,
          2.028723297313104,
          -1.8324358026365524,
          3.119079980831523,
          1.9004678608604288,
          0.5636721321248302,
          2.369718845449872,
          0.8772964096530345,
          1.5898137840609092,
          -1.4415880213911025,
          0.07049461523085676,
          1.673038400353306,
          2.7447793763277724,
          1.4060675198013493,
          1.5453694906774114,
          1.7368419210669472,
          0.04600790437501508,
          1.8185082293569501,
          1.349864714203934,
          -0.16233815588823738,
          4.118211694602052,
          -2.2015860531787896,
          0.46539262561010436,
          -2.9660115456687173,
          -0.9274473352068756,
          -0.4220234961587709,
          1.174046053301561,
          -1.4471786875169268,
          0.43865123179226934,
          -0.9575083487098632,
          -0.5928293325593567,
          -2.2575652286531214,
          -2.1515044969423487,
          -2.818242944980886,
          -1.4632761254689168,
          2.4230323209302735,
          1.7435015712017214,
          -1.7852266168666286,
          2.1270133408683285,
          -2.4548763398309905,
          1.8881430569591846,
          -1.2853906603714285,
          -2.21901309232316,
          -0.05225946161004107,
          -0.23010789736024498,
          0.05520108070913917,
          -1.7862559284209505,
          0.22687506120111464,
          -3.328481278102244,
          1.7839022614544533,
          -2.9136555167686518,
          -1.0306923441403537,
          1.6172567162180131,
          2.08951124948555,
          -0.859712473121315,
          -1.824854987006127,
          -0.07963539292777007,
          -1.7537643157669074,
          3.656755075416309,
          -0.7830756564076826,
          -0.14104205411837895,
          1.4974701481737391,
          0.7072426909612457,
          -1.709979522386116,
          3.1693941187642007,
          3.46718985844715,
          3.598234573654359,
          -0.15536402761788884,
          2.5535262782814594,
          4.448735402545787,
          6.0402090387040275,
          -1.3450167485253508,
          -1.5549325933523452,
          -0.9426022759956324,
          -1.0191790055522594,
          -2.1087275635994835,
          3.875630956204255,
          2.429775099347045,
          0.15686798531446156,
          -1.1183345555053605,
          -1.3662535743178097,
          2.431221330626282,
          -1.943384615122129,
          0.5962237656180703,
          0.7754049247993241,
          -0.18279223996869517,
          4.038964565489322,
          -1.7473814891628152,
          -1.6644150569770524,
          -1.6830580329494471,
          4.999237049409792,
          -1.0804281846443113,
          -0.26138821748703905,
          2.185575995913181,
          -2.4792662137456034,
          -1.8217330355474262,
          -2.4035424277189623,
          -0.41829223663022574,
          -1.245982373340259,
          -1.1163920297204994,
          -1.4800198601179804,
          -2.736932596174785,
          2.0664087814326493,
          -2.115442177173825,
          -1.0729070590902419,
          -1.7601413985922365,
          -0.27374589736300925,
          -1.8822758364598473,
          -1.0755444590475043,
          -1.4865852570711724,
          -1.2552384482030468,
          2.4559123257256967,
          2.817100382295975,
          0.48299395934516237,
          0.8322814900175325,
          -1.5776329515790255,
          -1.4054157219424326,
          -1.614520592039266,
          1.9594444256001213,
          -0.0665848219989901,
          3.528307191817602,
          -0.18193934179541557,
          -0.8839144527188753,
          -0.24358455887303274,
          0.18460265832835374,
          -0.7004711168690541,
          2.581510876116091,
          -1.5100721071882293,
          -0.062042962511448745,
          0.7894053209118573,
          -0.9282403901443813,
          0.5147934483997613,
          1.609828783316664,
          0.26803733490685705,
          1.1741921010716623,
          1.1917800952207698,
          1.3335632900174854,
          -1.73939286458744,
          0.048753598668929504,
          -0.7165183104759898,
          -0.723299132888064,
          1.08446739881602,
          1.5647342207892823,
          0.6709591781561378,
          -1.3765694527280947,
          3.130314193625027,
          1.0078380710975297,
          3.231640963239372,
          -0.07680029476507114,
          -1.3960502265934422,
          3.210676772687214,
          2.1072003980589766,
          -2.2206212908883067,
          0.4431804476332784,
          -0.5728675966074545,
          -0.9025431917112602,
          0.3048460522583481,
          -1.2182984968825548,
          0.693897083267708,
          3.403327238868998,
          -0.22514532633921,
          0.1166969264736133,
          -1.8018847839921703,
          -1.6888557209984456,
          0.710225351990735,
          0.3155692719434584,
          0.06822474659483546,
          -0.9122972314990071,
          0.23218436044937296,
          0.1297100998991775,
          1.9643216302376394,
          -2.2162438010723577,
          2.495680729170235,
          2.072253023696566,
          0.1556620993830219,
          -0.6339560190886986,
          -2.6051528313824646,
          0.848863845201738,
          -1.5751577819730351,
          0.19278362399231583,
          -1.8946957099621349,
          0.8591800634782438,
          5.603484134639707,
          1.2526794340011642,
          -0.6072901590320534,
          4.2887536903545875,
          0.6373225441159713,
          -2.359162203432366,
          -1.8739741838729738,
          -1.6586855243166037,
          -0.43705187129360645,
          -1.1885248999753266,
          -1.3355684793140472,
          -1.399216557043334,
          -1.923387047131141,
          -0.9594272824654437,
          -1.64009083216518,
          -1.0710525680592764,
          -1.4305363569536416,
          -1.878321333786235,
          -1.578920802616553,
          -1.4555180741618474,
          -1.9074606591287757,
          0.12909809560891358,
          0.4825874507913663,
          -2.2956204485841596,
          -1.4458379147342966,
          0.2069844775098565,
          0.28767620225218465,
          -1.5048564729688634,
          -1.9461334185464028,
          -0.451753337365442,
          1.8875166656792224,
          -0.9936404601371854,
          -0.09441391112884027,
          -1.1154132938103536,
          -1.3535904689419838,
          -1.12959525497132,
          -0.37171940745007964,
          4.819587953797312,
          -2.335852608155164,
          -1.142827178987572,
          -1.4365659779884294,
          -2.2543526625936097,
          -1.761603649690633,
          0.06575613093665116,
          -1.4315400422742346,
          -1.2294897793456732,
          -2.0246974960121427,
          -1.869019355808607,
          -0.7570880165700429,
          -1.7834838101765638,
          -1.3321013009584752,
          1.071372631716574,
          4.6760816112736086,
          4.037375840939124,
          0.9595751273967394,
          2.08951124948555,
          -0.4618462424909738,
          -1.1013072318148787,
          0.9137754088016882,
          -1.7459797688180743,
          -0.10568200934837071,
          3.2219097044414595,
          -0.11230007424660923,
          0.8870384860702809,
          -1.1061368006664691,
          1.0198205954856414,
          -0.7204610525169229,
          4.285584769547342,
          -0.8775656296396174,
          -0.9836272718768835,
          -1.9339800917229772,
          -1.0126113321492831,
          -1.9971905055455839,
          -1.5557236752221777,
          -0.49620230385916736,
          3.2007806032486834,
          -1.38116456840116,
          -0.770932038267592,
          -1.5095972075834512,
          -0.31028656856942566,
          -0.3802946026532366,
          -0.993347965438694,
          -0.6533172131351448,
          -1.5027346193371487,
          -0.5691283548446933,
          -0.7061807407667454,
          -0.40402561618618577,
          -1.396683442844522,
          -0.292946677886168,
          3.545211186701249,
          2.6893638910549846,
          -1.2744121875585568,
          3.7636505227141694,
          -1.3953845017112814,
          -1.6929868311118077,
          -1.764309498239294,
          -1.395150203189419,
          -1.3466373570679342,
          -2.1791925780589674,
          -1.292620845120907,
          3.315447809935779,
          -2.0200001495911213,
          -2.7219740873555205,
          2.288561134062719,
          -2.223078624256239,
          1.410851549045251,
          0.228676929871058,
          0.228676929871058,
          0.06561290100025534,
          -1.0981925669530637,
          3.0608204408558306,
          -1.9943583082352552,
          0.29245237212090125,
          -0.2341905159947311,
          -0.29417547857891035,
          2.8661096848976126,
          1.1080680599062422,
          -0.06517078419681593,
          1.8095046419085221,
          1.054362667683477,
          -2.1359393637870068,
          -0.46153544355648707,
          0.5229812403425789,
          -1.5724761517624715,
          4.481046259090359,
          -1.8666630008515677,
          -1.3100494742330673,
          -1.83986754350532,
          0.17097406387634054,
          -1.771630098741794,
          -0.3234012728199492,
          5.8062790021586075,
          2.335847898528973,
          -1.4984646186381738,
          -0.24129594750668668,
          -0.6136434928285516,
          -0.7633837509912434,
          -0.34979064782389624,
          0.68238193120882,
          -0.7164623953991084,
          0.8101618998625191,
          1.3158468441063507,
          0.5314254848544063,
          -1.3162386899679244,
          -0.14938832048270087,
          -0.8044032926376328,
          -1.6640102332214954,
          1.5143912450418793,
          0.19700694688392908,
          0.2664367475215333,
          -1.5104287321619818,
          -0.17001012344580305,
          -0.11775510160487664,
          -0.8676417662358155,
          -1.1560082923059274,
          -1.1660940992252786,
          4.728756700696242,
          1.3330658586765913,
          1.9067434787284594,
          0.4212265240013836,
          -0.6663779886905035,
          -1.9668427733824083,
          -0.6036108163352839,
          0.4107163233553146,
          -2.011425479279073,
          -1.2571728159994957,
          -0.15553839227984134,
          0.5351132124131455,
          2.9953435292262207,
          -0.6743807415244608,
          4.151387529673757,
          -2.0333318953740718,
          3.6549871079433816,
          2.117395021364133,
          -1.9629145877790328,
          -0.7847365894835967,
          -0.9415090825967947,
          2.174927399501562,
          -0.4143929612312258,
          -0.688834734612415,
          -0.9656969026185421,
          3.2189665273723653,
          1.564783624719838,
          1.8199396967024644,
          0.9846997799291544,
          -0.896125431245117,
          -1.5870613347221771,
          -0.1388885329833033,
          -1.4666012407462614,
          -1.4600785827316831,
          -0.3547921033973135,
          -0.26956600999464997,
          1.9127321934841257,
          4.324565061298735,
          0.848863845201738,
          -1.9249125985343194,
          -0.9460583795685144,
          1.3066197856863153,
          1.3066197856863153,
          -0.14445971354341489,
          -1.4785753193896378,
          -1.0428892383350685,
          -1.0669680263790875,
          -1.9453226348553598,
          3.234724190898872,
          3.2685390535187135,
          -0.1042278315800475,
          -1.9106989066991835,
          -1.1123228376871184,
          0.7977328361999538,
          -0.9079984000313789,
          -0.9447132159611072,
          4.2170841584279435,
          -0.9924573211010592,
          -1.674127881682402,
          -0.6928404296381955,
          -1.5881048152595112,
          -1.67814812289741,
          -0.180057571568765,
          0.740054581691691,
          -0.889508124633051,
          -2.3767179272546763,
          0.8509932121528491,
          -2.423409045730256,
          -1.5191117306870925,
          -1.1618971528797053,
          1.6205610524162346,
          -1.148043996811943,
          -1.12970563003131,
          -1.0529170538705397,
          0.6737982154733367,
          0.15371711148538802,
          -2.418896858199699,
          4.8326294763859625,
          -2.860027820774986,
          -2.268332560249248,
          -1.993015162539153,
          -2.187066001454375,
          -2.485772303570438,
          -1.0713040600126453,
          0.3282962679614414,
          -1.7452409866989718,
          0.6588902570324187,
          -0.9814898310452761,
          -0.5397756659174743,
          -0.7654905209577082,
          -1.0014028886095874,
          -0.8144411635806829,
          5.450484279621396,
          4.3184179520988755,
          1.0289494476505419,
          -1.6694110192395166,
          4.207013466890791,
          -0.21670865494688007,
          4.027061524255704,
          2.167871717731974,
          -0.7563530276911372,
          -1.844620772358848,
          -1.722971151473779,
          -1.4281524884809433,
          -1.8197793960244504,
          -0.0991521510452542,
          -1.3401210552840048,
          0.4267900916063646,
          -1.748332633937783,
          -2.178290141476673,
          -1.6635025207329548,
          -0.47358505214222224,
          0.2042575271065578,
          2.935182309102794,
          5.230258387677729,
          2.997455884475478,
          -0.6876524189418107,
          4.579007811006464,
          -2.2813788160414075,
          -0.8734621308303718,
          3.447158210726007,
          -0.20759589802358727,
          -1.3621084936712107,
          -1.604237699625604,
          -2.332828066715019,
          -1.1967250888747172,
          -0.3248298549274105,
          -0.18412329903813318,
          0.386242787678114,
          -0.7341758268671678,
          -0.2314583260278382,
          0.008989002429198973,
          -1.3032520887790542,
          -0.6840037961325398,
          5.385894638521274,
          -1.494486314896729,
          -0.4632555140845359,
          -0.3434665753558643,
          -1.5355107660968585,
          -1.1788429892382288,
          -1.1260800281413785,
          -2.1412776749262936,
          2.0142634368506926,
          0.36866213479409043,
          0.7013554154970537,
          -0.46395749781672313,
          0.0023083981602939636,
          0.016181758421457696,
          -1.8400680288742572,
          2.2232614442196716,
          0.8410749244612785,
          -0.90398910250288,
          -1.2058839383173632,
          -1.228593146977249,
          -1.2236632268879353,
          -2.046232211753189,
          -1.236286524082218,
          3.571401907049312,
          0.4533849354608229,
          -3.116314188392335,
          0.28454961021509534,
          -1.0133752271266598,
          -3.116314188392335,
          -0.646541327567986,
          0.4210324683133828,
          -1.6425302596388764,
          -0.8474373380673554,
          -1.5194187897107851,
          -0.9737674599315423,
          3.514333898254981,
          -2.123641015039494,
          -0.2616274082621484,
          -1.7274019946035817,
          -1.0461572853309766,
          -0.13795628183252154,
          -2.4771008302803943,
          -0.14949548696893492,
          -1.5989160293011981,
          -1.654992419714103,
          -1.9212851038856549,
          -0.7993451087608767,
          -1.971957812796502,
          0.4292173570902865,
          0.5482471418961307,
          3.074321776807819,
          -0.44003380156795907,
          -1.1111929157102707,
          -0.8083801548364479,
          -0.7463372609909297,
          3.4331875458351195,
          2.887096210164783,
          -0.8021918375754672,
          2.2820170825972994,
          2.8355945654736505,
          0.2770283452547496,
          1.7840200924033698,
          4.110019203715482,
          4.201577836643541,
          0.6245868669792256,
          2.579405339028278,
          -0.2658746767115251,
          -0.17944703756060612,
          -2.0360354928839284,
          2.973693772377529,
          3.6398000223411584,
          0.028453198892487517,
          0.9841911524224596,
          4.8281314741448,
          -2.3979084691340384,
          -1.4428597756780313,
          -1.4261463912714751,
          -1.8319393074398218,
          -1.5227454779493907,
          2.460071542025979,
          -1.4075315905629495,
          -0.28762000785944425,
          0.4784369992311488,
          2.3291607064319915,
          5.117961045812274,
          -1.0033298997658076,
          -1.3273756944460888,
          0.43794037703943317,
          -0.9662198824198641,
          -3.0255526201007337,
          -1.2111330280291146,
          1.01095487561311,
          -2.130729868114331,
          0.9153505753961314,
          0.9595751273967394,
          -0.18550119985005836,
          -1.9036081589428098,
          -3.2180956738308724,
          3.394159913110983,
          0.8303768220033462,
          -1.1118842530306312,
          -1.5408430817094483,
          -1.3754653800368684,
          1.650382782881223,
          -0.888930829102956,
          -2.083909895415054,
          -0.21061106726753,
          1.2223565330278912,
          -2.102099775857798,
          -2.506562892891535,
          -1.3481324367287548,
          1.2896910927374412,
          -1.4397755473755791,
          -2.0100500458462944,
          -0.42284533791539897,
          -1.6700501165620192,
          -1.3296200324054035,
          -0.9244042627485064,
          1.1415205043239816,
          2.9729748302739116,
          0.14749653811484562,
          -0.6210130551239913,
          3.157454293985555,
          0.8888420360437906,
          -1.8783383735142318,
          -1.4398292951571987,
          -1.516575455190064,
          -0.11424610317404969,
          0.7737143819475073,
          -0.4478909491920836,
          -0.5084637243757304,
          0.1616060477504678,
          -0.5569834873597761,
          -1.0631510514538243,
          -1.5059569128719807,
          -0.845482006609222,
          -1.4367289451539362,
          -2.028950538005524,
          -1.5615360830181142,
          1.927874929279816,
          2.8903647772799665,
          -1.1107758576476485,
          3.3056696804164254,
          5.406908962045891,
          4.1554365283371215,
          2.1819223941437245,
          4.918009845094766,
          0.4900276189185469,
          -2.238514131884977,
          0.3691325103838688,
          -1.1107758576476485,
          -1.503480735938144,
          0.8074815773522521,
          -1.7609681684709537,
          -1.255645120345151,
          4.150078000209403,
          -1.183334560246476,
          -1.190184121706294,
          -1.7877904236063915,
          0.0995091399704487,
          -1.849311355555919,
          -1.7767819893790124,
          -1.825471407106471,
          -2.043695064787525,
          -0.975128258646757,
          1.2339197713055146,
          -1.7553168804287933,
          -2.419848773023588,
          -0.12260115739267599,
          -1.583848557856401,
          -1.7632262192949077,
          -0.184349536342465,
          -1.2219639607351305,
          -1.7153495736774784,
          -1.5386021444965503,
          -1.113051761412133,
          -1.9202066993486222,
          0.1413679725657426,
          -0.7154705902931253,
          -1.2666724071642055,
          0.4544274812901281,
          -1.2305359499817476,
          -1.2284865731710297,
          3.1159060951717645,
          -0.6433232899588522,
          1.687243139297614,
          -1.7477193380488598,
          -0.2721383673097672,
          -0.21267073486305108,
          -1.2210953345111388,
          -0.3756130902158742,
          4.193558713057667,
          -0.9489479350480277,
          -1.496735330608473,
          0.09806433912678832,
          -1.7233596269838096,
          -1.1323408854712895,
          0.7747897081544035,
          3.979086348179895,
          -1.8374655772454764,
          -0.674931672846746,
          -0.5514409673601334,
          2.2689902842044942,
          4.179903609591527,
          -2.092601946113096,
          -1.7290156269831345,
          -1.3366523315329262,
          -1.20009667416415,
          -0.7359831926785423,
          -1.8874494673921642,
          -0.09034893306599867,
          4.670636653009074,
          -0.7361308012855177,
          1.3879198716968528,
          0.06612680439696776,
          0.10083812050556593,
          -0.7959125090056173,
          -1.7801533143041968,
          -0.9202272905076877,
          -1.090779053306817,
          -0.4652986556795473,
          -0.853941111736684,
          -1.3170609682201575,
          -1.5659393418360155,
          -0.17837579063741812,
          0.06245735748497881,
          0.5242467040153269,
          -0.6500782554545401,
          -0.5485145618201778,
          -0.2270981896813453,
          -0.3593071164066162,
          -0.39964282396011364,
          -0.3248554820577361,
          -0.9098985813713166,
          1.619478171675738,
          0.4588387237522027,
          -0.5784878192634029,
          -0.1256433096941658,
          0.5225312479810547,
          1.6930420480756596,
          -0.19076864327903656,
          -0.7601719062383836,
          -0.3111142286393373,
          -1.228118250280192,
          -0.16706254740448387,
          -0.0330660965459714,
          0.39103255209911336,
          -0.4651889061947604,
          -1.9392682129285783,
          -1.0809836396967885,
          -0.41907963236523454,
          -0.742870981759602,
          -1.6670592574517167,
          2.0360116786218665,
          -2.485184074090709,
          -0.9618135003886985,
          -1.6086518290904142,
          -1.636198277241829,
          -1.4335537930685138,
          -1.2205993695490889,
          -2.5868750932580973,
          -1.4984646186381738,
          -1.8882897645292551,
          1.5563833752207912,
          2.7048275679325924,
          3.403039191651799,
          -0.330056112191627,
          -0.5155116436821192,
          -1.8353862512012258,
          -0.8905052734567266,
          -1.0082859639159167,
          -0.6680959342106402,
          0.7958171700604549,
          -1.0435033304224386,
          -2.061204269466959,
          2.732691043627115,
          4.097881355497956,
          1.7508691348003373,
          1.5419707337827424,
          0.19486204705895058,
          -1.7245050030026485,
          -1.9869988564611223,
          -1.6518769819103931,
          -1.925449693877813,
          -0.46526115211211444,
          -2.020435638531419,
          -1.660646135671888,
          -1.7686214582776254,
          -1.8613994238101248,
          -2.0616232882905345,
          2.888688879620378,
          -1.8215226869037013,
          -1.762776708548448,
          -0.35988557560014584,
          -1.5784074640353847,
          -1.2673534289275659,
          1.5142303736970606,
          0.7492827185618355,
          -1.3157108783040266,
          1.5625623749100306,
          1.0942233552474416,
          -1.0752461229828292,
          -1.7683535235155903,
          -1.2597381646894867,
          -1.8106962497812573,
          -1.6576750153851083,
          -1.4724231446998914,
          -2.004400278005424,
          -2.155234243674988,
          -1.4295178589058726,
          -1.9697123763305457,
          -3.8869852214295166,
          -1.7971083220661779,
          0.3590414277296528,
          4.1828851635083,
          -1.74972407491717,
          -0.7716281231319001,
          -1.2494246818157322,
          -0.10020006476377835,
          -2.3188043857111875,
          -0.09803361870884406,
          -2.028823216897353,
          -0.26485777683424344,
          -1.8356420793577821,
          -2.2076377744049855,
          -1.2246656660320407,
          -2.421176173140656,
          -1.0785447847325365,
          -0.5977544229331195,
          -0.5771235123511125,
          -1.6081948614979442,
          -1.1424712397019596,
          -0.7967109606368575,
          -1.2194326233075259,
          -0.5171460800171369,
          -0.6090805612778688,
          -1.4426806436275952,
          -1.9202066993486222,
          -0.9294050951389853,
          -0.7679268001483022,
          -0.5150288663520817,
          -0.5197357979218387,
          -1.3617535637459615,
          -0.5568338410916744,
          0.8329529327887989,
          -0.8942392261731144,
          -1.0278742651995278,
          -0.4002296826311305,
          -0.5859311078561922,
          -0.5111563692069697,
          -0.17926976744954823,
          4.801394544089761,
          -0.9682089052944084,
          3.394159913110983,
          -2.5345237538303675,
          1.5345993982374315,
          0.9053508367420751,
          -0.5360245784379369,
          -1.3346486095893633,
          -0.5165055526084382,
          0.23708337550157343,
          2.123022715651898,
          0.4988731337404941,
          0.10104270387219728,
          1.440091833461458,
          -1.7900757377023855,
          -0.09373406080820341,
          0.8880901091685339,
          4.8314996582971075,
          5.752506163609262,
          -1.9166377532915837,
          -1.984778187257148,
          1.1163142973306703,
          0.21119544620659014,
          0.3638982569738885,
          -1.4451116315762789,
          -1.4451116315762789,
          4.351726245929176,
          5.104880361177949,
          -0.9374189219397931,
          -0.9667259058189731,
          0.39321089198504977,
          0.031030493825906072,
          4.550602485407168,
          0.45355093381366585,
          -0.022370677564962943,
          -1.6560394856403207,
          5.413404794123204,
          2.4858520694659925,
          -1.6061142549480816,
          -1.1191840671352458,
          -0.9940258416952713,
          -0.9398674580851274,
          -0.97918949491783,
          -2.0884534937366963,
          -1.5876773121371444,
          -1.3122481713201142,
          -0.7362342638818327,
          -0.9358437868890668,
          -0.9601994771539184,
          -0.4332204790696284,
          0.14739360172757096,
          1.4677047023120757,
          -0.8007121605359405,
          -1.0088261985927147,
          0.6693425680931431,
          -0.712104339963961,
          -0.7311480796035413,
          -1.1995719733977508,
          -1.584135616277456,
          -0.41456802969900436,
          1.7834874101543945,
          3.766423793295241,
          0.705473499249724,
          -1.9719231260892116,
          -0.4174439347644129,
          -1.2698365098302706,
          0.1627755228407422,
          2.071272087017863,
          -0.8765935016769854,
          2.641001544523783,
          1.0243542251075308,
          -1.8882897645292551,
          -0.44269779658311015,
          2.1061298211225394,
          -2.4472492725575594,
          -1.1026982514158068,
          -1.2893184264612978,
          -1.194324705346122,
          -0.9333495938173152,
          -2.6188599589057238,
          -1.7486358018184545,
          -1.9876142181958516,
          -0.5036800958723553,
          -1.0455063987349291,
          -1.2697570626655998,
          0.06206923974065554,
          4.6202883159763495,
          -0.4241020791004131,
          0.34235680951720004,
          0.7641209715948641,
          -0.6588902800340241,
          -0.08868195372145414,
          -0.4312694513843569,
          -0.9408773097554375,
          3.0669674566768266,
          3.8301021938030813,
          2.5768022163503512,
          0.13698663427849953,
          -0.8704232206779332,
          -0.41947132092527345,
          -1.31122357288249,
          -0.3561339331153419,
          -0.7961731433321818,
          0.2112747576174133,
          -0.10890304377871787,
          -0.6687579013010383,
          3.9715247456675393,
          -1.664339537380932,
          0.019433989908083923,
          0.10185655370409238,
          -0.7631952364199689,
          0.3194117654177379,
          7.271514100378331,
          3.393901697013345,
          -1.434083373181031,
          -1.9679428372933028,
          -2.1129962043855675,
          -0.9156902033731286,
          -2.355976409368776,
          -1.998096670733355,
          -1.4717265165324804,
          -1.9487326787320678,
          0.6330223392625166,
          1.3954194669964437,
          -0.6993315627149396,
          1.4627689551691312,
          -1.3432600016617529,
          -1.156195532359053,
          -2.6099040376979183,
          -1.795066807529742,
          0.8667306544197444,
          -1.3504068557678415,
          3.765264486083879,
          0.25645152693565026,
          -1.8153710823455667,
          -0.7959125090056173,
          -1.0871291101641443,
          1.019439139452436,
          -0.4854653908168962,
          0.3797685868916681,
          0.388189701490578,
          -0.22300054734861763,
          -0.33426091738211877,
          -2.099186649377165,
          -1.6525021609224775,
          -1.6335370558012903,
          0.31584577451071383,
          -0.5033793304752853,
          -1.82247214158593,
          -0.18202374023222015,
          0.5212485347559597,
          -0.7708274565186142,
          -0.9534178354667884,
          -0.9796615273921235,
          0.44563630816976724,
          -0.20921072083310918,
          -0.13518015269086509,
          -0.9856676342719001,
          1.3468650635705022,
          0.12696718320236064,
          2.6866857641581743,
          5.248985058622772,
          2.6251915801631296,
          -1.16221445115211,
          2.856410155291143,
          -0.8628922302706401,
          2.1204546829683983,
          -1.2031830269708876,
          -2.4267196424594815,
          -2.2815212963059714,
          0.44838940952852185,
          -1.8064278019256423,
          -2.6973804832213006,
          -1.5624761859185194,
          -1.828715457547574,
          0.05975501115032199,
          -0.2394287023961035,
          -1.6427499491076405,
          -0.24496961613345858,
          -1.1494869352374644,
          0.4511352313461736,
          -1.8581642529647544,
          -1.2585050602159134,
          -0.9411837377108792,
          -0.3140902699940562,
          -0.8061379737294172,
          -1.9193592484789368,
          -1.623263442268981,
          3.8585954488594814,
          1.6082441695427094,
          3.2988574747129347,
          0.8746638351485796,
          3.6346777532283085,
          2.659260296595296,
          5.319581600206972,
          -1.804677609468372,
          -2.2931783608674285,
          -0.08522816206978746,
          -0.758282092126803,
          -0.7457570055967462,
          -0.22964375807744228,
          -1.725772092589403,
          -0.22964375807744228,
          -1.2785283570086041,
          -1.1482419618479318,
          4.257924319032801,
          -1.3863072177574747,
          -1.9492949920039577,
          0.18766149497960238,
          -1.7094794734718002,
          -1.0595820896729777,
          -0.3021273333853997,
          -2.41588947879942,
          1.3109205833259032,
          2.352966213209306,
          0.037178422765103934,
          1.943236872693146,
          -1.827092879366721,
          -1.3345284399210862,
          1.7264387855107157,
          0.1452810201352991,
          -1.4832494671927492,
          0.8695841377683591,
          -0.3547401575212964,
          -0.24823259300613357,
          -1.9295157815020187,
          -0.4260512622201973,
          -0.3708438642467089,
          -1.057302498422819,
          2.876156081317581,
          -0.9852301431848032,
          -1.7282485300501516,
          5.104539270474691,
          2.320191170463401,
          0.9572379752491106,
          3.09409967015838,
          4.088307192829868,
          4.023207133891305,
          -1.7808771216824029,
          0.1698528898931238,
          1.028732894351462,
          -0.01957093988258451,
          0.6413090617843046,
          -0.14066409365509897,
          -0.6068521758055805,
          -0.000905774885329948,
          -1.2092924840967723,
          -1.0836657148338822,
          -0.5445230104513179,
          -0.40816968747716215,
          -0.7169123046525355,
          -0.9917183533831065,
          -1.6304827100959864,
          0.7010158541639443,
          0.27770872146720316,
          4.322970458346179,
          -1.746906935964074,
          -2.600974745322065,
          -0.7946304108213589,
          -0.2525747143817239,
          0.17454875134880696,
          -1.517882197770972,
          -1.3775022735399143,
          -2.5764622757256768,
          -0.6942297769777865,
          -1.284033700889143,
          0.4002454434101382,
          0.17454875134880696,
          -1.5523533385400403,
          0.3455227873954992,
          -0.9899668236750813,
          -1.9480949885857393,
          3.0991925327239267,
          3.2806539927782277,
          -0.8631103406584861,
          -1.1180628961180852,
          -1.1779614238909144,
          -1.34754341600293,
          -1.284033700889143,
          -0.9118259142604196,
          -1.0836657148338822,
          0.2711196301530208,
          -1.2815859008375317,
          0.4933531462305942,
          -0.328127340208756,
          1.326278611536907,
          1.832723429766396,
          -0.8456542234964074,
          -1.1159194455932149,
          -1.3091770027938896,
          1.4248462006068796,
          1.0309584059783117,
          -1.0219756783339644,
          -0.330448570781597,
          4.7285187108595705,
          2.9177457263075075,
          -0.8126688282017708,
          -1.4164724984090213,
          -0.6973420507098759,
          2.680432092804502,
          1.2709525414001746,
          -0.7716159463439048,
          -1.2132976355818619,
          0.3849463363300971,
          -1.5149314699529357,
          -1.1672499434037193,
          -0.8638628392984095,
          2.0378009115403493,
          1.693973527512152,
          -0.5569834873597759,
          1.1512680161083035,
          0.6674019313114132,
          3.0020183671206104,
          2.1459628125977046,
          0.06987538787125784,
          0.153711177554021,
          0.3970429602159826,
          0.5446880585365387,
          -1.5860522303523956,
          -1.8822758364598473,
          -3.0328765445243637,
          -1.5067167458706316,
          1.2469379105572536,
          0.4584145835679778,
          1.1224850205623313,
          -1.2501430992879436,
          1.5674696263637806,
          1.0075314695464404,
          -0.6493214842413079,
          -0.6256433569211768,
          -0.2689231406517094,
          -0.5075490934974494,
          -0.8410960390819922,
          -0.11129209647892567,
          -0.2300787235395125,
          -0.17132489486877486,
          -0.5853721226960074,
          -2.185290621860108,
          -1.7767080537085935,
          -1.4664595185955798,
          -1.6642371064520656,
          -1.9763156778319686,
          -1.5067554412772626,
          -1.8930270619580167,
          -0.29340858118034485,
          -0.8850650943844695,
          -1.6001160414055207,
          -2.518012777194726,
          -1.0619217794179583,
          -0.8266825927210335,
          -1.2312496344050095,
          0.7729949462537997,
          -0.24334856643881814,
          -1.1603142146726555,
          -0.7676980108394269,
          2.0161247252525443,
          4.869657911922431,
          -0.9288518067512794,
          -0.5970272935203068,
          -0.8512311927301803,
          2.2587468596106217,
          -0.4572079210990608,
          0.6769018628229819,
          1.2401149722191551,
          5.287137056436812,
          1.7730632242845645,
          0.7379385282550818,
          -1.707603436781297,
          -0.07492828391812,
          0.35044398026129137,
          0.8764041785183527,
          0.8389810720632527,
          0.472629992597578,
          0.6773977793719402,
          0.5047542040552597,
          -1.2512571524613654,
          -1.8982687824747329,
          -1.1156556811973508,
          -0.7068912804422252,
          -1.700723413741003,
          -1.9462900067583602,
          -1.0196570925864257,
          -1.8434431869357863,
          -2.570275154858228,
          -2.5535263834476423,
          -0.8756442717129704,
          -2.0284670463436942,
          -2.597821043899835,
          -2.0068507264230075,
          -0.9255943384461851,
          -2.3643959866669038,
          -2.8875583787035186,
          -1.97049130914832,
          -1.5643739651088207,
          -0.6243786692773917,
          -1.9105705095756467,
          0.15452810576069773,
          1.4191217049607032,
          -0.29025634692999447,
          -2.1633110073359223,
          -1.7330373636786536,
          -1.8053333426296867,
          -0.21584259737984368,
          0.5171728480618905,
          1.1404339205964997,
          -0.007862390724351978,
          1.3330658586765913,
          -1.5561601553753859,
          -0.7941668384455322,
          -1.147621340483917,
          -1.0595361379874384,
          -0.8348033622192935,
          1.7992990156148836,
          4.503659810545837,
          -2.2643255758793397,
          -0.8676417662358155,
          1.5379577214389333,
          1.6870055139178408,
          2.430627541584986,
          0.22655518020721163,
          0.9300899164308382,
          -1.6628291517082239,
          -0.15393341270454808,
          -1.5103555353336957,
          -0.6760212943239051,
          0.014335846610308699,
          5.9150165282948235,
          -0.14104205411837895,
          2.3170696827539494,
          -2.1081457208736203,
          -1.221474952887305,
          0.6029993823938554,
          0.11907556912488562,
          -1.3999195578126211,
          -1.9437649392072054,
          -2.4840081729783923,
          -3.5356954108150336,
          -0.7300947555217446,
          0.07949086627361583,
          -2.825337378646104,
          0.7020083014334699,
          -2.0068571543137987,
          -2.8639603287195943,
          -2.0031843603000548,
          -1.0973425795033382,
          -1.5508453058264102,
          -1.635226399848226,
          -1.197521755257259,
          -1.1720574642682977,
          -1.4624120332439163,
          -0.7630082187860376,
          -1.567469438509973,
          -2.1550224784185437,
          0.3156422800971163,
          0.3576136969298808,
          -1.6600333639504032,
          3.7077706241840143,
          4.386625980042835,
          5.406782640525119,
          -0.1771478108830569,
          -2.6592249532932737,
          1.680496185326937,
          -0.29242167607024167,
          -1.4582687031386519,
          -1.4268717148105614,
          -1.7674373183917031,
          5.117961045812274,
          -0.3045263853119976,
          -1.4372784099727638,
          -0.9302353217968334,
          -1.9544737356978068,
          -1.1601627626263795,
          0.8396507571556276,
          0.5446880585365387,
          3.15201467989958,
          -1.149697664158234,
          -1.720848030622044,
          -1.7319741466909058,
          0.2664438031864386,
          -1.196172103535831,
          -0.942568472036962,
          -0.7175314049283658,
          -0.7745498309036558,
          -1.622963171831614,
          -0.7268948937590657,
          -1.1160707296161654,
          -0.08890824202111343,
          -0.2607232114553134,
          -1.7044638960287692,
          1.9551941982160346,
          -1.3017724210654127,
          -2.243168945541239,
          0.5444864447211588,
          -2.8303711193823333,
          -2.3796295642017578,
          -1.5336185322736944,
          -1.0774631025252506,
          -0.2577583214098339,
          3.8668546790350127,
          -0.8953804174643809,
          -0.5829337389822119,
          4.294326743097184,
          1.432528619855361,
          1.157086011080996,
          -1.149697664158234,
          -1.149697664158234,
          0.27770872146720316,
          1.0289494476505416,
          -0.934297683811442,
          -0.45539283651493234,
          1.8128401662809104,
          0.95168814190858,
          3.6686506695519556,
          1.461280190355995,
          1.8551653158126153,
          -0.32155730387215486,
          2.417638609852843,
          1.7371464166687605,
          2.4931441813083115,
          2.7874822441568465,
          1.2554911723285462,
          1.981881678713578,
          -1.3973127188737207,
          2.030692235747537,
          0.4482996904711892,
          1.6156858128102929,
          0.9478937554275821,
          1.5371786438206536,
          4.426129598333274,
          1.5812525499131713,
          1.4653894050057183,
          3.260216735590387,
          -0.7769807908172165,
          -1.8672275773525573,
          -2.6229654171779835,
          -0.9938219201808466,
          -1.828178618515645,
          -1.4711526486387256,
          -1.8751101494317306,
          3.2986985437559744,
          -1.982336112746961,
          3.941477424913517,
          1.0677559381434916,
          -2.11516430757589,
          1.6226026093088446,
          -0.6753152134283246,
          -2.247876801434336,
          -1.59038813899113,
          1.2984028547093733,
          3.234762230563703,
          0.8651357723726615,
          -0.9178944549633604,
          -0.2795378218264267,
          2.581252825639383,
          -1.020965675839216,
          3.6734359813692206,
          -1.8341140051059799,
          -1.9209202126417868,
          -1.5880171541525387,
          0.2889021010988113,
          -2.4603336790071704,
          -1.6589942229214023,
          -1.6880699412637863,
          -1.5206420563240433,
          0.8725115899031015,
          -1.8396299498527873,
          -0.046634335423639,
          -1.6397154137650574,
          1.3330658586765913,
          0.12380278417194533,
          5.94604609203717,
          3.767782565120744,
          4.9614315869319565,
          1.8753174915286752,
          -0.9099009277745598,
          -1.011572707232314,
          0.5707043005916684,
          -0.026020291568164457,
          -1.2562298339819462,
          0.5139393782465255,
          1.8407192528910368,
          4.600015346425279,
          -0.1051358140475738,
          -0.2619221280153824,
          -1.9799619243984723,
          -1.8468106630055159,
          -2.524340258760689,
          -0.3712662191500096,
          -0.2199271603771546,
          -1.8156251223971602,
          -0.5260717392039859,
          0.5076306226667742,
          2.8781410299249037,
          0.5871453971711913,
          4.077673819671746,
          2.935182309102794,
          0.3032687956320697,
          0.7593522588582828,
          -1.497193846406933,
          -1.3750744553672007,
          -0.8691625733224059,
          -0.07499880853407462,
          -1.3771628640526603,
          -3.1243344781883113,
          -0.5353444929028424,
          -3.0396114302292285,
          -0.8102972936823697,
          1.7499059561089858,
          -1.0477837300790247
         ],
         "xaxis": "x",
         "y": [
          -0.006805607808911086,
          4.496442752247918,
          -1.2561204372000767,
          -0.9276280216581602,
          -0.9968638993238862,
          1.4372320748946992,
          -0.1443818391548072,
          -1.1091379958692023,
          -1.2130140309314121,
          -1.6813969108540072,
          0.6261216926699642,
          0.3446545024754705,
          0.6277593071985142,
          -0.7247112974041048,
          -1.7495918312026972,
          0.0967596214303814,
          -0.7531434482321091,
          0.0930738849339634,
          0.6290193510829237,
          0.9627395861972499,
          -0.831708378916198,
          -1.245983727247384,
          -1.036653196528594,
          -1.85798328479443,
          0.3514676496110566,
          -1.0929582348950813,
          -0.5088763623446194,
          0.19394074528960398,
          -0.396699635597069,
          -0.4024104162593892,
          -0.5370232579224977,
          -0.499746186068443,
          -1.5718550280760015,
          -0.34346475714350577,
          -0.11710237690705494,
          0.6388122117182519,
          -0.5853887106334098,
          -1.6135357518821394,
          0.9117177959723297,
          -0.0006248524621400034,
          0.9470335932478302,
          -0.44454670582788774,
          -1.049255984517259,
          -0.5844303156990228,
          0.1162583828119129,
          -0.18280728888849856,
          -2.221972336919494,
          0.3498450089761436,
          -0.12683119939706652,
          1.813897186618565,
          -1.571835409669145,
          0.3966524403681589,
          -0.16128955294923694,
          0.6287782313890501,
          0.7503615093751911,
          -1.0216495168187143,
          1.2402924240133213,
          0.7361642304170452,
          -0.3069046500313108,
          -0.3731870497086052,
          0.699485290056733,
          0.49804388551025713,
          -1.4641619296606512,
          1.41708310059827,
          3.177809101402068,
          -0.12518255621523058,
          0.7224078098943001,
          2.4415953348391115,
          -0.6779989101398731,
          0.8745673854998024,
          -0.46756758630961814,
          1.2897103389767313,
          0.6924956678185543,
          -0.028739449184302306,
          0.16467803156891367,
          0.05575341981586111,
          0.768738398667961,
          -1.8783559373302352,
          1.9498393246795696,
          -0.5295951725166441,
          -0.7110939630324423,
          0.6699934847259797,
          1.497109194602525,
          1.083174691819917,
          -0.21240428714344783,
          1.9001407274856876,
          -0.95415126560346,
          1.8046648310118754,
          -0.516685118429659,
          -3.0320985825384947,
          1.1718188342021827,
          0.8594298012758296,
          1.0773297843262122,
          0.8954114094108588,
          -0.11088517667240472,
          0.7684688192229066,
          1.211355156249826,
          -0.050077498951032744,
          -1.8696036749638436,
          -0.33831447554630095,
          -1.684372999029975,
          -0.09941875727185681,
          -0.13442740722986307,
          -0.51509515544151,
          0.3318739711541414,
          0.49406385707196704,
          -0.0459935984742305,
          0.4708035587596649,
          -0.38938264285707025,
          1.0098954659380255,
          -0.08003834512588699,
          -0.16755346562111711,
          0.6045444454737288,
          0.3453765741337794,
          -0.844209319630707,
          0.02971675208652667,
          -0.42433644873085014,
          0.9831780821849921,
          -0.9926733973405418,
          0.5674645391050446,
          1.138519390401898,
          1.4023433780008305,
          0.43541710044266785,
          0.10057092610047373,
          0.29081134095651573,
          -0.45384055972643716,
          0.2831512983783935,
          -0.2726159372697342,
          -0.7234330149483607,
          1.977005215195345,
          0.5530344235213426,
          -0.4879445141663625,
          -0.47115807508899477,
          0.18641127189199194,
          1.3087391978745195,
          -0.171009052896958,
          0.5611214896096499,
          3.177809101402068,
          -0.23721764025652936,
          3.3459382025222992,
          -1.1844299823938311,
          3.3459382025222992,
          0.8854548946707924,
          -1.67145093435437,
          0.8980284892038101,
          0.0471361414390464,
          0.16588098766387452,
          -0.38152621555354754,
          0.7665417397723545,
          0.30531340429722575,
          1.5801841787140583,
          -1.9022100274639564,
          -0.9423441238565236,
          0.233141831146889,
          2.094617547396094,
          -0.710450062824702,
          0.7123702851640661,
          1.0059565051445665,
          0.32511563206330857,
          -0.1622918844955712,
          1.0231911631126482,
          0.6577831955527448,
          0.3918614440334413,
          1.22468666564059,
          0.36612190094680647,
          2.468785277669297,
          1.2426666364913577,
          0.24661716773264986,
          -0.307714820111711,
          0.513781950525738,
          1.1484403644632046,
          -0.1702972388357398,
          0.27944998859956177,
          0.0917893421991125,
          -0.7449082179037695,
          2.21905943365005,
          0.08988237573609675,
          -1.0614332434761777,
          0.1745982070216493,
          0.6023285260754329,
          0.7801692646046874,
          0.9665953167822827,
          1.0166218863950733,
          -0.3616369615461392,
          -0.9651271391998885,
          -2.6286384370381377,
          3.1169312158847684,
          0.21684202366068686,
          0.014256448921026383,
          3.9220035420967188,
          -0.5711259840837846,
          -1.0001561186547643,
          -0.9402092750678437,
          -0.6779703413374005,
          -1.177801686637716,
          -1.2992376526502067,
          0.5995033518355072,
          0.08159574288680875,
          -1.8635199599213288,
          -0.339515314989333,
          -1.6190387316543524,
          -1.0836676526903337,
          -2.447106481282086,
          -1.1266448512257285,
          -1.842012205121588,
          0.6401627812473832,
          -0.469122189141479,
          1.0155808608788832,
          -0.26853383800385283,
          0.02243499465683697,
          0.7741725483896322,
          -1.1703910201503822,
          1.5825043739797433,
          -1.2753410571679342,
          -1.3441726202329,
          -1.2008553944443585,
          -2.347826041056425,
          -1.6305924267741598,
          -0.7896439065837328,
          -1.5842220386142958,
          -1.0330924807531758,
          0.2387832702758107,
          -0.9171112451762311,
          -1.6748263847626,
          -1.1204690894973708,
          -0.41445989030779956,
          0.18963612659218781,
          -0.774732359037792,
          -0.6636810363757092,
          0.015388093265942532,
          0.04009458032707218,
          0.5405895428548492,
          -0.5482174587132285,
          -2.573481242825511,
          0.06571217572068459,
          0.7386202311933786,
          0.8551718773970934,
          -1.0181550750775992,
          0.02398182174606104,
          1.0911126680095926,
          -0.969190406401545,
          -0.5893501762490477,
          -0.7189806942100684,
          -1.2481051046864806,
          0.5132222667909836,
          -0.4509262634252983,
          -0.7943763483978572,
          -1.5095113477657855,
          -0.020679626946627675,
          -2.6437459106955643,
          -1.857015002923949,
          0.03739311504034116,
          -0.4887781011566736,
          -0.4510013266635759,
          -0.6259113745406257,
          0.8550696501029796,
          3.2427235737843993,
          3.2427235737843993,
          0.02274796515028246,
          0.6687972079672339,
          0.8110947511925464,
          0.5948466049369153,
          -0.13122920551816464,
          0.7222536231487268,
          1.540376450996007,
          -1.6073516537315033,
          1.8535867951652982,
          0.029682581358513295,
          1.1998066712744477,
          -0.6075515612917634,
          1.0898152747351801,
          -0.20944224920812482,
          -1.176015531679356,
          -0.7789016391644041,
          -0.6248946467120657,
          0.5571040869231215,
          1.7093612251691177,
          -1.014399913484535,
          -1.1325994822757233,
          0.5592420711242232,
          -1.2208192804080358,
          0.9001696143374273,
          0.9722165188301741,
          -1.2723822704192025,
          1.6902447589275682,
          -0.704858746744628,
          -0.6464700885529733,
          1.7199430434031375,
          2.0823772440502095,
          3.777028368911212,
          -2.525285141270539,
          3.0411461925988044,
          0.7883152651342465,
          2.8675693831819764,
          3.777028368911212,
          2.0367226513225583,
          1.4139065311009922,
          -0.9233123548781696,
          -0.6279812671787275,
          -1.1193579072267121,
          -1.1957653023779666,
          1.967655483806388,
          2.0012964961560136,
          0.07571164205688469,
          0.5323747731706291,
          -1.479796020328059,
          -1.9793668087047251,
          -1.124999256537641,
          -0.7879081389916708,
          -1.4027647981294569,
          -0.8503345862113629,
          -1.5545443937554906,
          -1.2065803116956886,
          -1.6056842218054643,
          -0.518609306421663,
          0.18745235662041132,
          -0.7210903899310697,
          -0.02393905651849776,
          1.9830319075137646,
          0.42201951262585763,
          0.273281983695118,
          -0.6247232091560966,
          0.7131055624758065,
          -1.102591179508681,
          0.4788306011390405,
          -0.24477179442745378,
          0.18791687668170962,
          0.32460154343016095,
          -1.2723822704192025,
          1.1056936162533566,
          -0.44750386328225716,
          -0.8130291467519412,
          0.3316870432522611,
          -1.1393182088874587,
          -0.18477216330761034,
          0.3546644733378926,
          2.4154796214506753,
          0.011348058624975463,
          1.8996434141598637,
          -1.3669348676777855,
          -1.2527316909883925,
          -0.696361569516542,
          1.8996434141598637,
          -0.812130742237068,
          -2.9224638864673045,
          -0.9322201921207562,
          -0.9778969410844385,
          -0.29223174204551033,
          0.4859533718425363,
          -1.507587574175242,
          1.8996434141598637,
          1.120661108768899,
          -0.363483397570622,
          -1.2560771178320431,
          0.9166977586697908,
          0.15770231264234283,
          -1.0766042261499065,
          0.8790393204233191,
          2.0588798266637105,
          1.3519333953726118,
          -0.7807778252361046,
          0.7895294060862326,
          2.378568981277482,
          0.013910340329408,
          -2.6984429086912933,
          0.2997544055585515,
          0.39650507448487576,
          -1.7937833741548435,
          0.6744014688875283,
          -1.5628539090260845,
          2.4151572340203478,
          0.569754958831821,
          -0.6182320994697313,
          2.295907991213026,
          0.5287445209232772,
          0.4286499086669696,
          -0.6435186511011629,
          1.0467005765314414,
          -0.06343225313462084,
          0.7720608077047542,
          1.9954141936033396,
          1.6539302109330425,
          0.08879046735359798,
          -0.2091357147200129,
          1.3965616664897416,
          0.6695903348797101,
          -0.7538739682610875,
          -0.42665345126752824,
          -1.1809683155622792,
          -1.042362624008473,
          0.3298018887061355,
          1.1626133771392253,
          2.509483007194595,
          -0.35296381102202523,
          1.2748274752850783,
          0.11977305543338501,
          -0.043771779563476776,
          -0.9570965368060754,
          -1.0140328903200009,
          -0.16215918914504218,
          2.072103110995923,
          9.805376252907209,
          -1.9199848540810704,
          -1.586797007265573,
          -0.20482943272116275,
          0.3867926606900708,
          -1.6753694868664126,
          -0.5411157358481288,
          0.3922965031617639,
          -1.0966236604647726,
          0.25740662647862944,
          -2.3944726559036082,
          -0.4868998881489547,
          -0.1602785516990614,
          0.729360021785837,
          -1.6844775415666506,
          -0.20088238954420368,
          -0.665063137404244,
          0.4453337856321909,
          -0.4703493535501966,
          -2.6093624244182516,
          -0.5283583948012734,
          0.8008128528433853,
          0.10961638338100055,
          -0.8372188574729723,
          -0.07515450441878366,
          -0.5109417231587318,
          -0.5875573403765946,
          1.4849910971642948,
          0.22208261260649237,
          0.8798454731022383,
          -0.4827903677139398,
          1.2790130677357796,
          -0.6497428136562967,
          1.6947719059732418,
          -0.05244620115946085,
          -0.648878393131653,
          -0.6659738278225422,
          -0.12909792878951518,
          -0.6418330717290855,
          1.6478580968021808,
          1.999301099313475,
          0.11656394277211075,
          0.10946597527241883,
          0.9256174049901413,
          1.1535234058783395,
          4.151941961699984,
          0.4543827831216691,
          0.7409878121945954,
          0.7873298976142675,
          -2.011597101801166,
          -0.5383081040694654,
          1.2934716192552502,
          -0.4034309173686593,
          0.5183153648392816,
          -0.19627488672545954,
          -1.1293612840197542,
          1.1000506371694714,
          -0.8719814930868282,
          -0.2569887733671665,
          -0.3286879070732094,
          -1.4336783404660134,
          -0.8629343213154165,
          2.0430803653060527,
          -1.090650913764619,
          -2.6117576267853946,
          -0.30826635780046513,
          -0.928281697469395,
          -0.8506959985214624,
          -0.7324497374384068,
          -1.5787185261701824,
          -0.23692283849857063,
          0.1722278520570386,
          0.24496963749509335,
          0.9098140959792107,
          0.6091868791779668,
          0.2853617103256289,
          -0.6306303017345779,
          1.0645417073085426,
          1.5618797919507725,
          -0.7594510528735304,
          -0.06693866566968157,
          -2.153840722031261,
          2.1846859496678004,
          -1.3209518513836502,
          0.7284326911590682,
          0.7626836521699366,
          -0.06758322308290243,
          0.49394089388668494,
          0.2746751200707291,
          0.7352326215294234,
          0.5930835296760277,
          -0.9875061061933899,
          -0.16983567041964895,
          -0.6734522735065136,
          -1.2916848035399597,
          0.8814907095777637,
          -2.264520961619679,
          -0.6308542715267781,
          0.06449530362196539,
          0.7964999877601402,
          -2.529555148024871,
          -1.0893005072285342,
          -0.21076801449466395,
          1.1512471568196379,
          0.2805245307782363,
          0.4116225177472066,
          1.5803549065222438,
          0.7712614346956205,
          -0.6292526550871341,
          -1.114503919912041,
          0.673531285052258,
          -1.1951639174638518,
          -1.2499181036376965,
          -0.3173232741822122,
          -0.38861102957174665,
          -1.8741559698878172,
          -1.7880448704057623,
          -1.968528500921879,
          0.2684612899828766,
          -0.6033938631749821,
          0.25493360867858494,
          -1.1783160427812045,
          1.9081098409299977,
          -0.3433962285957135,
          -1.0624033922727485,
          1.7648783840118771,
          -2.4266497433365495,
          -0.7759324197432741,
          -1.1717170616356463,
          1.9386468521837443,
          0.5836684178568949,
          -0.46342966279008857,
          0.7023287645378234,
          0.28947305913111193,
          0.3832857172294603,
          1.8510075564169626,
          1.2631876048366932,
          -0.029157304275739388,
          0.09578153237765717,
          2.2271394332837753,
          0.31686480645828924,
          -1.1809055935066892,
          0.2840863818268456,
          0.7023287645378234,
          1.1362326132995844,
          1.3848418403164193,
          -0.5720001667608031,
          0.19571676941376992,
          -1.6107702440202925,
          1.0673099054901771,
          -0.9494121976050892,
          -0.012126191635766701,
          0.6737242425760486,
          0.37312560625214125,
          1.2262822784772205,
          -0.09458634486965552,
          -0.17387960756968363,
          0.4517647211493694,
          0.8721531094494857,
          1.5877328289824169,
          0.726109600202026,
          0.7026731596951181,
          0.9742308993953753,
          0.24501666930505323,
          0.5177025141288665,
          0.8361904745786475,
          -0.3718031388821316,
          0.7743635078893493,
          -0.6215771865506128,
          -0.2747400756225135,
          -0.859315300918674,
          -1.1046751675942512,
          0.18255970154957252,
          0.6764000469021896,
          0.9784338559253152,
          0.44030855494714966,
          -0.8146882735714049,
          -0.13477381717866152,
          -1.3895667341911884,
          -0.20886547723572546,
          -0.9939454586783527,
          -1.3225764420824828,
          -0.19895080663263517,
          -0.27406596321147875,
          -1.9673894632652518,
          -1.3709348369384124,
          -1.1941940592404283,
          -1.3047838047911737,
          1.7773924377263153,
          -1.1093649405526127,
          -2.7414476127463767,
          -0.8698107982555204,
          -0.5162641724769289,
          -1.1017387173862137,
          -1.2268418405662571,
          1.1578054664864728,
          1.9622585868233642,
          2.1676566755922058,
          -2.800191215779409,
          -0.44170023731171737,
          -1.3500376817434891,
          -0.6133753035760215,
          1.0544407365299209,
          -0.3839603566590169,
          -0.19618207465278462,
          -0.39548466098851187,
          -0.060455359235529714,
          -0.06482431837891643,
          0.032498730335884164,
          -1.278852546153726,
          -0.46032366398026436,
          -1.380369771917538,
          -1.501737968018341,
          0.10985533650165367,
          1.2992449463378237,
          -1.4762458044096969,
          -0.03524530575159963,
          -2.331996390856449,
          0.9447464403780035,
          -0.9857117418147671,
          -0.8348352522689619,
          0.24725302385745124,
          -0.8595312632425274,
          0.0716128861786218,
          -1.1919586260807415,
          -0.6235234409243625,
          -0.5745558087264171,
          -1.3421933718340056,
          0.2380629690266718,
          0.8315077160017937,
          -0.40996763380378426,
          -0.004998510665781645,
          0.4562102077325952,
          0.6677816885103376,
          0.28900049823527985,
          1.2680577334026517,
          -0.47310711568689223,
          0.6108808671700273,
          -0.48353167100882455,
          0.12372376596723432,
          0.7288850751729627,
          -0.5145192671188296,
          0.17396292121315798,
          0.7196843336793844,
          0.7484371986662762,
          0.5520495503439933,
          0.48039770462452785,
          -1.0116780907855554,
          0.3935218039897599,
          1.6217079695636551,
          -0.1851037998402849,
          -0.1320921879522742,
          -0.30084559047351733,
          -0.2653924888451372,
          -0.915985340247396,
          -2.031693609028162,
          1.4627534058919016,
          -2.0508946140336923,
          0.042692365668143085,
          -0.6818978445444067,
          -0.5249061179076498,
          -0.7416086656420776,
          -0.8746936765362501,
          -0.22215083382883266,
          -1.4047602889774198,
          -1.2971916358537217,
          -1.1284226931075676,
          -0.9744133938237176,
          0.6629272682318585,
          -0.9908092587434109,
          1.1047604100515904,
          1.130101927948758,
          0.075179345669668,
          1.9907186121113791,
          0.9881436057118694,
          0.6636439249352916,
          -0.9003868426836568,
          0.6924956678185543,
          0.7425399488305472,
          0.23095008635193548,
          0.1566724518365171,
          -0.729723705381349,
          0.44075643151188926,
          0.5945923837665645,
          -0.12157756323811668,
          -0.784678520421059,
          0.7361824143846444,
          -0.5179931372349924,
          -1.3735330933546326,
          -2.1728833503918117,
          2.3993533764077895,
          -1.2479807748070502,
          -1.7057084452751796,
          -1.1193539311156413,
          1.6101107926507836,
          -0.7211212802780099,
          2.6870043207315333,
          -0.3494291022547839,
          -1.7114804403337311,
          -2.5987160709919284,
          0.0001920434083711407,
          -1.6878236420966481,
          0.17217875531295931,
          -0.2553174055642568,
          0.07455770261139981,
          -0.5120567506797871,
          -3.665784564252389,
          -1.516828221860054,
          -0.35894057115893946,
          0.341306571560823,
          0.05600436885401727,
          -0.06593858256587112,
          -0.06593858256587112,
          1.655285859832451,
          -0.5646143226409417,
          1.1742334457376495,
          -0.5671276794224968,
          -1.6635237084477044,
          -1.4049056120241128,
          -1.4193793405112471,
          -1.1936679646175723,
          -1.4259330314569918,
          -1.1446069340430745,
          -1.4870586643298638,
          -1.5113124879683406,
          -1.454386253607528,
          0.1621316244389521,
          -1.199301721156982,
          -1.1575091237896702,
          -0.8845688206419614,
          -0.5647462204709189,
          -2.0548298480358467,
          -1.2574797646311633,
          -1.6475798809029685,
          -0.9725882288993692,
          -1.3022668222056621,
          2.019863201600941,
          0.7267260358722444,
          -1.4150181591581084,
          0.5610808783230815,
          0.5025560952760145,
          -1.414362867938662,
          1.621474621792657,
          -0.814802611782466,
          0.6857616724888352,
          0.10615531160347569,
          -0.09806643876139755,
          -0.061914387099657846,
          0.6733061946384616,
          -1.2115993685177369,
          2.1676566755922058,
          0.7242967972184289,
          1.073206465140546,
          1.1571214705141761,
          0.6526528133836809,
          -0.5884741632614008,
          0.22147121681560575,
          1.9792409202709034,
          0.07225138021316768,
          0.9048528637909375,
          2.859403948039967,
          0.14826603223781584,
          1.2703259520650534,
          2.859403948039967,
          -1.9470218070900063,
          0.05096859287054566,
          -2.101018413601657,
          -0.7417052184103566,
          0.38377170641019065,
          1.1450540464968832,
          0.10708742815710368,
          1.3159135645303681,
          0.683009502050623,
          0.9267637113740895,
          1.2326222218057996,
          1.1922865489165804,
          -0.26096358444453766,
          1.0443249346067436,
          1.6311648663570553,
          1.120423761788181,
          1.1699699344204546,
          0.34910067683036045,
          2.9503026180243976,
          2.372597578775488,
          1.593007277176973,
          -0.21153737065253922,
          2.2784485075926444,
          2.6168242931486945,
          1.5231781947210556,
          2.1508390018134076,
          0.35529938972154484,
          -1.5327511315842959,
          0.8397072169378873,
          1.453820985640641,
          -0.07622681538012115,
          -1.186839933424239,
          -3.1974061367005535,
          -0.8121496858291517,
          0.6432383668447569,
          -1.8254332025414075,
          -0.28393536645800127,
          -0.09417525669427684,
          2.160560236023693,
          -1.545270309313909,
          -0.19524522210153372,
          -0.7488238147199086,
          -0.7697272037713,
          -0.8773964788915086,
          2.5847059725773964,
          -0.9746972414255519,
          -0.018516435102688293,
          2.764435432333676,
          0.0068777439804389735,
          -0.1277223900464159,
          0.6817939538192315,
          -1.5075015671080494,
          3.0851394831152867,
          -1.4483252530099515,
          -0.5186434665064075,
          1.3275155164009866,
          0.5725970004517809,
          -2.203349465979961,
          -0.14551416737442746,
          -0.49387180247139945,
          -1.343407528424172,
          0.3237718785418926,
          0.8450517654845597,
          2.238019386933506,
          3.3138353981036093,
          0.025791366190380013,
          0.9889032871653282,
          -1.7472294306282474,
          -1.4049966830361735,
          0.11103288618983517,
          -1.1127892373106896,
          1.378292251783743,
          -0.16621983783088434,
          -2.2517614867954165,
          -0.6859984807761662,
          0.7932768622972634,
          -0.14790239797577884,
          2.0196631376184446,
          1.0898152747351801,
          0.2491016996791458,
          -0.1544458097016554,
          1.5282325231940466,
          -1.5390679326770347,
          -0.8274349832048874,
          0.16175150080789047,
          -0.05377527627912964,
          0.1761233258472394,
          1.282390713601909,
          -0.46767007241661673,
          1.1019158352554648,
          -0.4234538025539767,
          -0.8165620092072308,
          1.120517127357233,
          -0.6269334521114961,
          0.28568475923978814,
          1.4673929777044614,
          -0.4014088101330487,
          0.5658713208791012,
          -2.587252923321266,
          -0.1830707414486145,
          -0.8779594086267462,
          -2.2965191218743803,
          1.328401959387782,
          -0.2738524026859633,
          -0.5712172518983597,
          -0.7265377065874481,
          -0.700995103307301,
          0.06384962413942524,
          -1.0053056102782323,
          0.02074996004847603,
          -1.5525606186439256,
          1.2650910502871662,
          1.7250336900498147,
          -0.26445366349010985,
          -1.0689000016732675,
          -1.2978650948628006,
          -1.242989801140847,
          2.3127152995655074,
          1.1664457935470776,
          0.7034502158341079,
          -1.5168569649876897,
          1.2481099022832791,
          1.2697638111728466,
          2.223346513279302,
          0.8814502911225213,
          1.798313777432358,
          -0.24519034735732162,
          1.0484154302295912,
          1.7389141302205193,
          0.6439117412501082,
          2.7201174081154456,
          1.9277669058807025,
          -1.4780935310692978,
          2.635540956893245,
          -0.9778279082291197,
          1.5166907599306934,
          1.064560406847275,
          1.2282312110049276,
          1.4023433780008305,
          -0.39765837929810766,
          -1.008348355965595,
          -1.5618970712991778,
          3.177809101402068,
          -1.5397157157727805,
          0.7899685518607362,
          1.629879716525929,
          -3.4340774444815336,
          0.577722686296722,
          2.201510625403352,
          2.485379338819229,
          0.5995571143288994,
          -4.126560456234452,
          -1.3846496434943074,
          0.7419940047096097,
          -0.9230517297030745,
          3.037308926925177,
          2.2980284078020916,
          -0.396363665646863,
          1.1297375363291091,
          -1.2949050811685505,
          -0.9981265849199986,
          1.4677380179412851,
          -0.10852588627941126,
          -2.412550020970114,
          -1.963794591307426,
          0.16854805562386885,
          -0.4623818695040371,
          0.5970126448671217,
          -0.31902002120458606,
          -2.5179265338236565,
          -0.09345800325673506,
          -0.14849270079182225,
          0.6576614912527338,
          -1.1765799070112488,
          -0.5493214492767332,
          0.21990553459054774,
          -0.5586232808877991,
          0.21940540345187556,
          0.3947349960042477,
          0.9912513463639419,
          0.7382020126042254,
          -0.22008785232414632,
          -1.2182502285683268,
          0.831615984554893,
          -0.16340872473885254,
          -0.7609718344069519,
          -2.111018200584951,
          1.8534897062042937,
          0.5750988904294885,
          -0.6932504515051958,
          -0.3076992754080117,
          -0.8797675356865432,
          0.813355861535539,
          0.19472462163275361,
          -0.42828327189444476,
          -0.5982401017651858,
          1.4288542473355674,
          -0.1684935348138606,
          0.8189703304250409,
          -1.5060402289753743,
          2.587790314633378,
          0.5385467937527749,
          0.7639665772712618,
          0.6334687773919397,
          -0.12864173013840652,
          0.26891168293779355,
          0.4277888954912697,
          1.0758839276697472,
          1.4067949473074939,
          1.3957844549400118,
          -0.22908857356108359,
          1.5348937644514353,
          -0.6624858194071078,
          1.2994684377272456,
          -1.3516444137882289,
          0.10010109117512243,
          -1.3111323610658119,
          3.271841631906291,
          2.794313011915428,
          1.336770301111324,
          -0.188949433744128,
          -0.19254996057517348,
          0.6125886139256115,
          2.764435432333676,
          -1.8330324098063695,
          0.13462221405134958,
          1.240134402351004,
          0.34844826652235883,
          -0.10614488797284997,
          -0.10082750857477231,
          -1.8437730271192223,
          0.5577653828987018,
          0.33260812396067274,
          1.023573417571289,
          0.7581015689369581,
          0.09416361440298562,
          -0.10495440138701598,
          -0.0481551442975043,
          -0.8588703458882249,
          -0.7630683360877215,
          0.4400834721960239,
          1.112840795451021,
          0.6178645282202215,
          -1.2446803531835882,
          -0.6376807190609505,
          1.3069537270370861,
          0.2579895930043543,
          0.05096775696994521,
          1.498659989365131,
          1.7925285741092127,
          0.4704919302128444,
          0.5231017646596521,
          -0.09630767317181345,
          -1.6303736272734826,
          -0.15230763417633914,
          -1.0477808207027168,
          2.5652919865747057,
          0.33857227723683503,
          -1.0552560903466117,
          0.26647439997167177,
          1.4631290937337915,
          0.8600808073495947,
          0.016144080609322268,
          0.8243749264274133,
          1.131734558731428,
          0.25253769698431555,
          2.2620587920781134,
          1.303792268485012,
          0.8103461527663034,
          0.6560552100424236,
          1.7788727506807671,
          2.0530109168409103,
          -0.3576338832468888,
          -0.8548128837540414,
          -0.3484931866124465,
          -1.1040640495674072,
          -1.3237776525040108,
          0.8992720883795104,
          2.5517820867791166,
          -1.1760857486308487,
          2.7925322468317124,
          0.2686316344250177,
          0.3941229000053021,
          -1.1060611216400977,
          1.5988173105135526,
          -1.182075891666511,
          -2.078739792136203,
          -2.8061378286609924,
          -0.8818087306877435,
          -2.0526053623999756,
          -1.8019630540222467,
          -0.4335751756472228,
          -0.6064471497843736,
          2.2765190057182485,
          0.17040814499120857,
          -0.5869089670076191,
          -1.1942189555902234,
          -0.12690119888966997,
          -0.5796993370080975,
          -0.6308542715267781,
          -1.3488856194385697,
          -1.5654716561035225,
          -0.6407551182238868,
          -1.7659674271244197,
          -1.3933290479146347,
          -0.5195080717440119,
          0.3209711965768692,
          0.08487016271680395,
          -2.2329143916523173,
          -2.1716598049473026,
          0.9815465630649775,
          1.2850813672940151,
          -0.191793388232178,
          0.35705047835500275,
          -0.48588158127669445,
          0.420001850747243,
          0.07530018064594818,
          -0.02076152879493043,
          -0.5217475053837453,
          -1.1220001502092083,
          -0.02943729318119209,
          -1.7196281841527785,
          2.554415382590178,
          3.7759143297613833,
          -0.5347919969186742,
          2.0148700564299595,
          -0.32565283315435145,
          0.8979240427657263,
          -0.9267644997442939,
          2.554415382590178,
          -0.985711332069184,
          -0.3043525883030042,
          0.31679140679899565,
          -0.39489000677295066,
          -0.2795784036768141,
          1.2687504482652372,
          -1.1162109350945935,
          -0.5998019058477762,
          -0.023736623567146363,
          1.8702446115198985,
          -0.4359340003302088,
          -0.09035258878883073,
          1.2318541408551344,
          1.322014092809415,
          2.846541487775343,
          -1.6772954632453505,
          0.8571041477087032,
          -0.5994602043261912,
          -1.6643844646220654,
          -0.675543815829524,
          -0.16162452920729026,
          0.6899119726034169,
          1.007824866554235,
          -1.1712184228184621,
          -1.0077421861967386,
          -0.3035288339654858,
          0.28024180341307314,
          0.024372206525817782,
          0.737075310551579,
          0.866836871322863,
          0.22487685589881598,
          0.4016851361360741,
          -0.7796953726226558,
          1.6667020723057024,
          0.2164162871013016,
          -1.188052212984449,
          1.0744734345473197,
          -0.5920578945814163,
          2.789096168446741,
          0.7935062600998432,
          -1.0488154852760743,
          -1.157797557911251,
          -0.9293194302794248,
          1.4223103999093245,
          1.549446775254221,
          -0.8388725510245095,
          -0.21657154362353168,
          0.7534407899940759,
          0.7792751074103326,
          1.243902625595499,
          0.8129277408486856,
          0.7170696154646887,
          0.16956744120602787,
          0.8281021497118073,
          0.419343093291041,
          0.18748066030834176,
          -1.0676021686841022,
          0.5320806159479924,
          1.0707479278097467,
          -0.8844706392644764,
          -0.3978712864367877,
          0.08646683583495539,
          0.08122748628173174,
          -0.4174034813929558,
          1.2731202883900157,
          1.147937806375563,
          -0.07143454381360469,
          -0.44787603552656646,
          0.7240012510205592,
          -4.402267555424021,
          1.9632899805485708,
          0.6470576061484462,
          -0.06767916389553853,
          0.36610877484427035,
          -0.332773334906566,
          -0.07091391023248632,
          -0.7636622749791737,
          2.289097197917893,
          -0.17863587538473621,
          0.04898961926697123,
          0.9873408649531168,
          -0.10266316860014,
          0.07099324313060525,
          0.8654215914960285,
          0.7967372453119224,
          2.217150598564567,
          0.9331708936559368,
          -0.9468773129961033,
          -0.8982694927005699,
          -2.3228939050385113,
          -1.2523868691482054,
          1.540376450996007,
          -0.4689124202367284,
          0.8289769664270411,
          0.7343014526893021,
          0.3550387932430036,
          0.19242089588260144,
          1.4049562345486275,
          1.4181653864510873,
          1.468251425520092,
          -0.31222094884217594,
          -0.10834262386452966,
          2.801731709973607,
          0.6813824473683052,
          -1.6096791410829867,
          -1.5316461557716072,
          -5.383229251103581,
          -0.06716431390257041,
          -0.28561018942758976,
          -1.2565620524345316,
          -0.7795698529192727,
          1.5181054968357346,
          0.5691541411424711,
          2.0885180576492197,
          -0.18322286199683888,
          -0.6436677380920564,
          2.7892236239308876,
          2.017860235909726,
          1.0395125804767267,
          0.8958105469776795,
          1.3992587720548726,
          -0.15409915403226074,
          0.25279490750200123,
          0.8763376932116209,
          -1.5061198044083761,
          -0.31519086156686515,
          -1.3073071574006616,
          -0.5409226540645747,
          1.889719161954601,
          -0.5725335286314818,
          -1.4869783450164553,
          -2.184500594578985,
          -0.6878945501048989,
          -0.23859482884895278,
          2.39993668919875,
          0.939233747725375,
          1.5585441992844595,
          -0.9938441967387336,
          1.0161688648308491,
          0.9443732367282691,
          -1.0507329648749593,
          -1.2355358243053665,
          -1.0668686476569682,
          -0.5634091890231608,
          0.9784338559253152,
          1.0366397001183554,
          -2.8317212189353924,
          0.5029465389143052,
          -1.6925267693803736,
          -0.31487973245671813,
          -2.1325722125502993,
          -1.1196605308491279,
          -1.293235603979923,
          2.461414660343296,
          1.069620784001345,
          -3.1429224889539427,
          -1.6323543592260779,
          -0.4452970116020803,
          -1.9462583102334161,
          0.4789037103131746,
          -1.452891962397859,
          -0.12008028397798488,
          0.6034942916225812,
          -0.6021607041235786,
          0.5884312187195154,
          0.9121999659131528,
          0.9766814459108797,
          1.4073952339389555,
          -0.45218392371725524,
          0.894814041422794,
          0.9052042393490228,
          -0.6672496772067313,
          0.9505984975941538,
          -1.239782599622559,
          0.8658313365618562,
          0.8279116652335133,
          1.06499889072964,
          -0.929139036079516,
          -1.842455626669036,
          -1.3501379735424894,
          -1.6073516537315033,
          0.34561156603011783,
          -0.4896237774095008,
          -1.0664843914687006,
          2.043457387285622,
          -0.6771784771768837,
          -1.2354591472910565,
          -0.45783283024201493,
          1.91516939835872,
          0.040213445781482615,
          -0.21381219202742507,
          -0.6319169790792099,
          0.5124279070698287,
          -0.9478517241833865,
          -0.6206506934878948,
          0.064930280300694,
          -1.7819623847108244,
          -0.855118644567615,
          -0.6803202750676943,
          -0.2937596273520184,
          -0.6828433564932362,
          -1.2819391244602554,
          4.812713434656782,
          -0.32975009677067424,
          0.5340697489782457,
          -0.11316504263705118,
          0.41851633610044414,
          -0.42522210424754925,
          -0.2455830564950269,
          -3.7416876450863565,
          0.4032974598376613,
          -0.3533022288824284,
          0.05737927329261637,
          -0.8963390758739446,
          -0.8963390758739446,
          -2.082847253147466,
          -1.7065786030565626,
          0.26187777288037856,
          1.0897978371013013,
          1.2486360600661788,
          -0.48958588908417344,
          0.46383576245542696,
          -0.8545560535205172,
          -1.565435620421266,
          -0.5732095817749738,
          -0.8341275827448004,
          -2.7414476127463767,
          0.7927407746683711,
          0.49667170098300595,
          0.3730177498780862,
          -1.001836099455808,
          1.2143564353190068,
          -1.6772137880039153,
          -1.4728888781459455,
          -1.4728888781459455,
          1.2143564353190068,
          1.069193607692193,
          -0.4580705452247014,
          -1.2392676936486908,
          0.6523338096312743,
          1.7204688142227635,
          0.4759942600594924,
          0.13782444756345943,
          -0.27809183266910015,
          -0.36530915485793414,
          1.0348224643855335,
          1.713335489885922,
          1.3036198950562696,
          0.4761695725239757,
          1.8816623260212517,
          -0.5763124251016452,
          -2.0504540453065214,
          0.2560947485949565,
          -0.9854072141161713,
          -0.45426499229018247,
          -0.5508898039387662,
          0.9366161050151952,
          -0.24876357554761586,
          -1.0600433563462115,
          -0.23542516435483288,
          -0.7464957246966848,
          -0.08760036726484496,
          -0.06526905413615094,
          -2.86964348813105,
          0.6306376650017734,
          0.6650236730844641,
          0.28094422766042243,
          -0.08549970543531209,
          0.6812299741041463,
          0.3534998483926467,
          -1.308558533193118,
          -0.0673915547641572,
          0.22046743115946613,
          -0.12111791835540169,
          0.32682213379676583,
          -0.3060741721854449,
          0.6230906846217231,
          0.3156788712618586,
          -0.5020564572804584,
          0.5391211946170521,
          2.380961224939445,
          0.27932129222286456,
          3.2046387448511733,
          0.07298261163156002,
          -0.34382411174128846,
          0.605553297301831,
          -1.0934186327502247,
          0.1513091223552943,
          0.45125272200104416,
          -0.526578970630145,
          2.1676566755922058,
          0.4467861125821818,
          -0.2544660289406183,
          -0.8080448451659371,
          0.9319040945653392,
          -1.2293162568229912,
          -0.3254260242856991,
          1.059849882578563,
          1.174609463785807,
          0.7749871965694993,
          -0.68041155815024,
          -0.6401724779614878,
          -0.47292719763737184,
          -0.9252475380422834,
          3.0014527426497413,
          2.7160080315614055,
          0.5630160162025071,
          1.5967169093682667,
          -0.1956665726422001,
          2.4909679574457684,
          0.3049201745914205,
          1.0720458622403461,
          -2.20875403287221,
          -1.4519751385148265,
          -1.2763818632277786,
          -1.0425786326808095,
          -0.8228269768270012,
          -0.3095130614414432,
          2.0635605214944794,
          -1.854426323436591,
          -1.2016013184459693,
          -0.5021783828249663,
          0.33167503831077433,
          2.555008836237144,
          0.31368049880280263,
          -1.763373990435288,
          0.8131753519205228,
          -0.24028735603525309,
          -2.7414476127463767,
          -1.649051954742606,
          -0.506433481487087,
          -0.62118463995173,
          0.8364351072312571,
          -1.960569080805359,
          -1.0452018388666797,
          1.8745064137552783,
          -0.3481666541401586,
          -0.9277880230973705,
          -0.814754177794186,
          0.13040450780258572,
          -0.4285824303246457,
          -0.9166968485606202,
          -0.2708665892043662,
          -0.24446528284865177,
          -0.8367924168573667,
          0.915086259436073,
          -0.5969634607914264,
          0.4288573384924132,
          0.8315077160017937,
          -0.4534543889791376,
          2.1389502217036105,
          2.1389502217036105,
          -0.34801492913918597,
          0.44599444026716595,
          0.06818959929207064,
          -0.39777991261862994,
          2.1389502217036105,
          -0.8280380654189489,
          3.159024480918228,
          -0.5129230863567557,
          -0.04434701026296154,
          -0.5751285857189553,
          1.4211549934265388,
          1.0786673096520891,
          1.7747571380985432,
          0.10661900697769959,
          -0.6511951470286276,
          -0.6183902751135337,
          0.5599496579231683,
          1.5359678597813826,
          -0.7890530243668645,
          -0.6476463655302661,
          -0.17035894971568785,
          -0.3204021122359052,
          2.28534530040792,
          1.7225793990632292,
          0.05253175109490381,
          1.3378211018418418,
          -0.3189437432550538,
          1.5528681960042252,
          1.5124580089112765,
          0.8164868627436892,
          -0.4293789652282441,
          1.1344845874766887,
          1.0872274736036187,
          -0.01583991565729479,
          1.0343472671709817,
          0.7936613814725264,
          0.012487090855757535,
          -0.22891669431357237,
          -1.118623285254711,
          0.36128902065771445,
          0.7218554528597149,
          -1.1986389550071745,
          -0.4817970256641754,
          1.0501038581288147,
          0.732433809848128,
          0.5960866617626698,
          1.7462489529522423,
          1.59639149180926,
          1.2415372798963338,
          -0.06877494728993536,
          1.321100350347962,
          0.3317490640131516,
          -0.3329558596872735,
          0.3032491723232303,
          1.2590071884360339,
          1.9633944145132027,
          1.2415372798963338,
          -2.3768248966019248,
          0.812488758866955,
          0.32450772162841546,
          -0.1100706604566633,
          0.5267800285646294,
          1.675837695198432,
          1.747016003492252,
          0.2082299254539539,
          1.7280226343407006,
          1.4588979828614452,
          1.6243869835926277,
          2.1389836087439047,
          0.3158476653096549,
          1.1542499068051701,
          1.1255333111371189,
          -0.01583991565729479,
          -0.6809399449055321,
          0.6079449029226109,
          0.8034657701327594,
          -0.9663051137730356,
          1.1883742379045459,
          0.2071792327371628,
          -1.1306704267003036,
          -0.4236458521071218,
          -0.9559484680710049,
          -1.261911724543507,
          -1.6660216411035282,
          -0.9546671816548179,
          -2.201789842990686,
          -0.7615471575196444,
          -0.9261806085865399,
          -0.996649284921196,
          0.33266037102181495,
          -0.20053699471499425,
          -0.0888223780247738,
          -0.3295033210135832,
          0.3285338923682524,
          -0.16907881190062665,
          -0.21935935771261866,
          2.087549681440283,
          0.029643285083360726,
          -0.9433247455540396,
          -0.4825710113336769,
          -0.4784092577384342,
          -0.5263421488044518,
          -0.9173349154409627,
          -1.2874899401408466,
          0.7342165323598894,
          -0.5370622676593353,
          -0.21346808214927215,
          -1.5751450455672575,
          -0.6150366383991502,
          -1.1837534899838795,
          -2.1094028546803876,
          -0.7482119478049863,
          -1.0818014286936057,
          0.6166462748137158,
          -0.36680342382040876,
          -1.573920387445368,
          -0.1300632718334774,
          -0.022450524313453925,
          -1.7729814907944779,
          -0.10533663088930449,
          -1.713926009863322,
          -0.72290866721579,
          -2.010014917207676,
          3.7759143297613833,
          -0.6306391193403992,
          -0.17304940795727125,
          -0.027434411797242327,
          -0.1551552454463971,
          -0.20340935807804747,
          -2.313431657099693,
          -1.6178169367564055,
          -1.9254477387579554,
          -1.4125483102861454,
          0.09451019560151025,
          -3.2184241380828835,
          0.5205929545743971,
          1.813897186618565,
          -0.6180967225571432,
          1.3254283248224983,
          0.6771673146610158,
          -1.024585805795081,
          -0.4540168078255776,
          -0.8514056962216192,
          -1.9155982167053984,
          -0.6586262364731422,
          0.03656484302222843,
          -1.1321876488714873,
          0.39420794709805723,
          0.038367098275786764,
          -1.7054727795929316,
          -1.9388445309248892,
          -0.6792769227862523,
          1.6205892698147546,
          0.10704623468351555,
          -0.5920578945814163,
          -5.316799607028126,
          -1.8205354698952454,
          -0.03245726271108911,
          -0.8234294500662536,
          -1.3927690883469406,
          -0.4345540718251462,
          -1.1575632274188066,
          -0.6283158023874182,
          0.2836836545291326,
          -1.2674414871322073,
          1.7707217682761123,
          -0.47039973109196603,
          -0.4097732244339657,
          -0.642542478020584,
          0.38321616000993297,
          -0.18246862810982775,
          1.6889754032857411,
          -1.5645039297324175,
          0.19521308857016026,
          0.48518819777708594,
          -0.20585640520540932,
          -1.0875506201563927,
          -1.5042546047182925,
          1.414474643359514,
          0.878980671598442,
          0.21553321630461983,
          -0.5136211420718004,
          -0.7769294261847043,
          -0.07839691793756734,
          0.7255422088733454,
          0.12072645657584771,
          0.7083840099556653,
          -1.0042656138314103,
          -1.0018084817000605,
          -0.7582562419208398,
          -0.7824209472799112,
          -1.3096285062292468,
          1.0292800509648325,
          -0.3207615501374456,
          0.09076220706191582,
          -0.3014588017793581,
          -0.17858534166899415,
          -0.20658325207202968,
          -0.0718507519417133,
          -0.4920835232149172,
          1.054709828681085,
          0.42620176135898263,
          -1.0279048955544772,
          -0.6629992026694768,
          -0.6557366970151343,
          -0.39548466098851204,
          0.1745282962744638,
          0.5249126286205634,
          -0.43203972077521025,
          1.1698194072249128,
          0.2633561322105294,
          -0.423488698632285,
          -0.6468538084327351,
          0.44037180575394375,
          0.43371862791892335,
          -0.09518978087688174,
          1.7431211752133584,
          0.5253909713534787,
          0.19860855147697246,
          0.7983723243690687,
          -2.2301922913384566,
          -0.3091762796632388,
          0.41316770665103747,
          -1.1844225953954506,
          -1.1060611216400977,
          -1.1540859652313236,
          0.4605872300862603,
          0.7187441030275148,
          -0.48627811466951515,
          0.5953686509360507,
          0.13780420724294085,
          -0.5202496046996742,
          -1.4571058221509914,
          2.166701142452398,
          1.4068282444609577,
          2.316519395472781,
          -0.7272129315982561,
          0.5485406392937027,
          -1.553754487397202,
          -0.25087144417741636,
          0.4920373735731932,
          -1.6646199928917378,
          -0.7723681263731623,
          0.4480490155590565,
          -0.9504534657460502,
          -1.6772137880039153,
          -1.2024276125411846,
          0.03474233235130876,
          0.42747275293607445,
          -1.141607846437161,
          0.4855401560767728,
          1.0735343620721043,
          0.014476564385892846,
          0.5212412713040795,
          1.487777948004884,
          -1.280927035093134,
          -0.37305699508028306,
          1.9530248689112368,
          -0.15443037324785241,
          -0.6008903546989456,
          0.2811170703492194,
          -1.4725933053618012,
          -1.1143307767655426,
          0.3194954302981094,
          -0.4275321327780107,
          -0.5794003336632606,
          -1.4919022874930343,
          -0.4288809554791591,
          -1.0070778847046202,
          -0.21190010305528786,
          -1.0529375346952847,
          0.7725272217262408,
          0.33224269304903703,
          0.5282239525671478,
          1.8225430122704107,
          0.5171598067829966,
          -1.7023716140213236,
          0.49912942317079484,
          1.753989911660821,
          1.40142520815085,
          0.29014216702717016,
          0.13065432523274373,
          0.09029893091974829,
          0.6073956436718758,
          -0.35684555909951554,
          1.7401002302512178,
          1.7830044129149778,
          1.6208319079803568,
          1.6842861163511045,
          1.223815501833513,
          0.9164224299483871,
          1.7457202434361796,
          1.5710578237771498,
          2.7175013384186246,
          -0.49244641712218473,
          2.125714675813136,
          -1.1213681882782531,
          0.10504272721553895,
          -1.6531184837398638,
          -0.7856871867223357,
          0.6290193510829237,
          -0.9500308147841298,
          -3.1501672093316944,
          -1.2064616169997835,
          -0.836363639728426,
          -0.9095169175526332,
          0.24098390789750085,
          1.7922337430956206,
          1.9883312294678153,
          1.8996434141598637,
          1.3782341039831838,
          0.521338102838148,
          -0.6919151320014796,
          -1.6067202305762092,
          -0.9938072587163888,
          0.45956127915675093,
          -0.1615480401606744,
          0.9190829998892348,
          0.4364357759304198,
          -1.1771524533953814,
          -1.1163065917063633,
          -2.3963119877369614,
          -1.1355632485906957,
          -0.4955938607154393,
          -1.2449864060101834,
          0.6219903711849712,
          0.05309978193277525,
          0.8852569107824139,
          5.666372829852183,
          -0.15681266891566908,
          0.49406385707196704,
          0.39420794709805723,
          0.6013419159871368,
          0.7244921872016704,
          -1.1446928883310241,
          -0.3007576898733487,
          -0.7505954180977701,
          2.3162388477334224,
          0.25915888294281947,
          2.443535910140542,
          0.3424908894248874,
          0.5849981420088982,
          1.030184404240097,
          0.6296992300470085,
          0.09418243485080527,
          1.3210278657287626,
          1.7163155442083964,
          -0.5594631929383372,
          -0.8275017794708256,
          -0.3832318345353493,
          0.007870029319642,
          0.8198892656726271,
          0.9193540654663249,
          -0.14334434527905623,
          0.59249281225568,
          1.0189489588161105,
          0.14364003248186208,
          0.5300946974995486,
          -0.7531601265012305,
          0.16748074305815205,
          0.9394512702122068,
          -0.11951845593730354,
          -0.29283446782966044,
          0.29421604396099027,
          -0.6647154658287728,
          0.5776586039594995,
          0.5455203448156256,
          -0.45668453913418044,
          1.1967889115634536,
          0.7471619811926902,
          0.10173043215900826,
          -1.1553187639517946,
          0.5899654029236034,
          -0.9445189866571392,
          0.19746072040577964,
          0.2020535749712947,
          0.9072571446058155,
          1.5145171918685452,
          0.9008530043233701,
          2.9218246233260667,
          0.1781592467380061,
          -2.13559687907289,
          -1.085284994989573,
          -1.085284994989573,
          -0.18167042744954298,
          -0.8944575012862511,
          0.4244652397640534,
          0.5683124854016399,
          -1.090650913764619,
          -2.8317212189353924,
          -0.9461035122313016,
          -1.2302325414879955,
          -1.0140840834251723,
          -0.8583222005338526,
          -1.1933749496474386,
          -3.0200473948446147,
          -0.7212238824527807,
          -1.0801203364222127,
          -0.5458579845977126,
          -2.078739792136203,
          -1.8617518058922689,
          1.0850689646802572,
          -0.5732095817749738,
          -1.4450608595207874,
          0.1780932399347651,
          -1.3874810476484822,
          -0.5909807200654444,
          0.9011829839177294,
          -2.347826041056425,
          -1.2073440595901819,
          -1.4404020810646998,
          -2.274573543762773,
          -1.436247952047367,
          -1.393478532085659,
          -1.2334462386058402,
          -0.7000496705571806,
          -1.3481744198583776,
          -0.3324998805240046,
          -1.642494263663957,
          -1.2479126381995598,
          -0.6128316222348904,
          -1.3864861154635348,
          -1.598939923383128,
          -2.753705038843433,
          -2.09386010095502,
          -1.7856453971645931,
          0.2714483845782117,
          0.6738677134200555,
          -1.4918082724666155,
          0.7386370237173288,
          1.9099618189128023,
          -3.173597718906117,
          4.812713434656782,
          -0.08488024531491133,
          -2.0620342477096907,
          -2.9785801666073377,
          0.9185249681764699,
          0.8075623103328545,
          -0.5549251047026693,
          -0.30911087818874083,
          -1.132365660254762,
          0.48334346810387574,
          0.2508225882973858,
          -1.277053175979081,
          -0.5497531131700334,
          -1.1277792854604491,
          -0.6254829757418742,
          -1.862026534933351,
          -0.05655665669644934,
          -1.5787007405634672,
          1.47173992590557,
          -0.028169055446147652,
          1.910239009534111,
          -0.6903295284132343,
          0.12931740130437236,
          -0.7782422226363254,
          -0.483967242953695,
          0.41203653941266244,
          0.7932768622972634,
          -0.3255800524805893,
          1.1401915302764447,
          0.892186027362233,
          -0.9353247054400428,
          -0.41745147291087864,
          0.6659076229926554,
          2.2859570620133955,
          -0.48233680113574146,
          -0.7275054031600411,
          0.6232515020802709,
          0.14993834800706704,
          0.7725272217262408,
          0.4352307847295814,
          0.28457397373104487,
          -2.849078099166354,
          -2.849078099166354,
          0.6445914541781902,
          1.3948798018762036,
          1.0273074122748735,
          -0.24536184234594058,
          2.160560236023693,
          0.9772532655177186,
          0.5665332047806596,
          -0.12223051792914925,
          0.3954858008358092,
          -2.2607954507856833,
          -0.5185945007258415,
          0.4598501992683065,
          0.2370388720017367,
          0.43012087523268827,
          -0.4740437396853623,
          1.3515073749391562,
          0.5311347675673281,
          1.3710222399089829,
          -0.7435217548562142,
          -1.484256556786641,
          -1.481799837812589,
          -0.5020472816067764,
          -0.6522754555439592,
          -1.0353700518969273,
          -0.5162711319894695,
          0.6740615697113652,
          -0.12276787141468067,
          2.5024172856841114,
          0.04165166729180351,
          1.6770245178655705,
          -0.21442976950037512,
          -0.4073690772617423,
          1.851779564742508,
          -0.6876811574678995,
          3.400600636350894,
          1.6957880940896877,
          0.7732046691491417,
          -0.014719475241910971,
          -0.43008806200483224,
          0.8031594772143322,
          1.2969805424589127,
          0.7903741822102117,
          1.4520644301738472,
          -0.9614004088927961,
          -1.5905744251312892,
          0.4319117107036942,
          0.9792795302570488,
          1.6780788540080145,
          0.6746895575844457,
          -0.06419904956596086,
          -0.04860389951212024,
          1.5841862994514537,
          0.2486993929124727,
          1.4201098998089536,
          0.9391201816877411,
          1.790218528984358,
          -1.900773425069103,
          1.6509610943370052,
          -1.2783547828975628,
          -1.2319511532381968,
          1.5374857067196754,
          -0.9409409007447292,
          0.2671539779627766,
          1.0792167090438127,
          -0.4769142952577795,
          2.5314887514871085,
          0.5682994650058655,
          0.9077686410438942,
          -1.177995600739157,
          3.544167889227545,
          -0.6061055186090215,
          1.2096512576447167,
          -0.2054590158071762,
          3.777028368911212,
          1.4286237125032402,
          0.45293741538430626,
          0.1939950761228063,
          0.8891152326407518,
          3.4952031014430895,
          0.5131974743806419,
          2.5518660693986495,
          2.9489595372253374,
          2.9658861077634624,
          0.6680270956425187,
          1.2648309981525212,
          1.0833064779645787,
          -1.0283406533644515,
          -0.4816223172801957,
          -0.8990035531435548,
          -1.0412817416622357,
          -1.5898023719083993,
          2.42735640694318,
          -0.03318033002676754,
          1.327692907526446,
          0.049398661961858256,
          1.2062409013608406,
          1.460436566261811,
          -0.7905520048395286,
          1.5106757234980364,
          -2.111018200584951,
          -0.8161822388569596,
          -0.7313851759680065,
          -0.5290866962358044,
          -0.7351350292093943,
          -1.7548852170124023,
          -1.1165533601829034,
          -0.8133897696236847,
          -1.4343924168001094,
          1.9292108125204546,
          2.496027750767244,
          -1.1125175622348689,
          -0.3207021291839337,
          -0.7168082890014897,
          1.1145672421326114,
          -0.4510752604690635,
          0.22346815722217445,
          0.6975269662401605,
          0.12392795782074878,
          0.15559469744132112,
          0.6975269662401605,
          0.8712859838735072,
          -0.1837226102104126,
          -0.9485300399014785,
          -0.3460171593715942,
          1.2273928014738087,
          -0.465815549306925,
          0.684513217556066,
          -0.4158751535316789,
          0.03245553630523735,
          1.0197844168309504,
          -0.8749655840938205,
          0.9453630264003534,
          0.4295054874869029,
          -0.8886878143527948,
          -1.5417677346026515,
          -1.046777580042125,
          -0.5347919969186741,
          2.1064867734951247,
          0.052404088869944465,
          0.9457488064660017,
          -1.257304708984098,
          -1.3448078228580873,
          0.09104543687863223,
          1.1522579077686845,
          -0.6096406062291245,
          -0.2978459003184022,
          -0.04602845942425168,
          -0.31934809108632445,
          2.191808681170724,
          0.3839623516877637,
          -0.7128414549890092,
          0.29281546581280327,
          1.4033800742907578,
          0.668479364670341,
          0.6621965797448561,
          3.814019239238116,
          1.0401558406039244,
          1.889719161954601,
          0.9435951083450486,
          1.2725427296359175,
          -0.8706262307759318,
          -1.6202956807492928,
          -1.3005936253987485,
          -1.6968799627825264,
          1.969634537785411,
          0.5174810488661604,
          0.48633525904791297,
          0.1450676229450873,
          -1.4032360129724062,
          -0.034330712771952245,
          -1.110670916055091,
          -0.7839097369595985,
          -0.8292868839613154,
          -0.6764062591208376,
          1.4619331349676339,
          0.9817761700953019,
          0.9410624230618192,
          -0.5749776923891501,
          3.1169312158847684,
          -1.2529349300964472,
          -0.5950913801498703,
          0.45655664769986315,
          -1.1656729943414144,
          0.12292816366993427,
          -0.8307630744590276,
          0.49406385707196704,
          0.926044936726745,
          -0.8246881210056016,
          -0.4155077726043532,
          0.7333794644331714,
          0.6171717231750463,
          -0.638051425245657,
          -1.7628512571830917,
          -0.33574830731224736,
          -1.446647345071533,
          0.331980347048629,
          -0.4453713172727809,
          -1.1331211102327408,
          -0.48003305376317357,
          1.2713339659937624,
          -0.20869114131932856,
          -0.6203121604207533,
          -0.6984186206243339,
          0.7627553471610172,
          -0.8596125692371033,
          -0.6906965145503557,
          -0.4849975897772648,
          -0.6531458082640942,
          -2.31011322424448,
          -1.404947091119433,
          0.537552450728076,
          -0.5495817473586514,
          0.27768937520185083,
          0.1527854581606054,
          -1.7335460731409162,
          -1.5537320776169272,
          0.7692343140161979,
          1.1882138338028747,
          1.4093024980803686,
          -2.3506072852841062,
          -0.07901345490363425,
          0.8467890012293581,
          -0.6439661415767297,
          -1.717658764943772,
          0.003490278308315381,
          -0.6431076517675887,
          -0.6857940809284495,
          -0.25222478277978294,
          0.9053062344467839,
          0.8256153784928487,
          -3.950123700109329,
          -0.1017664936463407,
          -2.257912161070275,
          -0.07789861401233529,
          0.3722703636187404,
          2.6896393332776873,
          0.5066997454425943,
          1.0004576839766317,
          -1.2422770848153535,
          1.5669490604475922,
          -1.052012762793417,
          -2.257912161070275,
          -0.9711145691852839,
          -1.7249073068701903,
          0.20295855030317922,
          -1.4120999414373208,
          0.23788595667607912,
          -0.24405840057216188,
          -0.07132336707496614,
          -0.06084476701911543,
          0.7283948185764555,
          0.21799715876093634,
          0.7791745845014388,
          -0.6636050082021704,
          0.6640042434606557,
          -0.8771406918775128,
          0.09253968181829841,
          0.41923998510705474,
          -0.2065189820957963,
          -0.23101682832205972,
          -0.838058387994915,
          0.7564000984383064,
          -0.25684525765650446,
          -0.2603545227578882,
          -0.42593916114073,
          -0.8871560938252019,
          0.33541350727686353,
          0.6842814919675354,
          -0.5052635323774033,
          -0.071217147859123,
          0.11410940236939353,
          0.4550355348530232,
          -0.6526125598065194,
          -1.4004238064172987,
          0.27882404544613054,
          1.2531215945793666,
          -0.2372583539940176,
          -1.2850289653271156,
          0.1452553481694874,
          -0.5854160857591615,
          3.1293347744182176,
          0.23990765070446468,
          -0.5982277893604387,
          -0.6964531452744953,
          -1.1308929703751749,
          2.1833904751545785,
          1.1701055093682005,
          1.253483803157674,
          2.3754800650129293,
          0.2562772049530053,
          1.102531506099361,
          0.2982638195051065,
          -0.22060792699840456,
          1.8882724593206575,
          0.027634969273716,
          1.3733493913821402,
          0.016671117831388308,
          1.931171679231718,
          0.19217984566290225,
          2.328897919665772,
          0.8457960553018328,
          0.7162215885126351,
          -0.713942980332045,
          -2.198275720128542,
          0.7958885537831439,
          -0.5498763367629871,
          -0.6084459604421993,
          3.6176202519892766,
          1.027793589454668,
          2.5869196975262905,
          1.0234570330656194,
          1.1013989080805455,
          2.2589034591071675,
          1.5629816790860491,
          1.3540392550827673,
          4.192018964899315,
          2.0907730561161575,
          1.02870523169067,
          2.3583766635233427,
          1.2436004836388597,
          0.7541595649828924,
          2.1693411814629413,
          -1.7732963532677177,
          1.03014052220085,
          0.03625884942657669,
          -0.9494121976050892,
          -0.5191821224589628,
          3.498538921451727,
          1.116538113934662,
          2.5248997284643004,
          -0.28595963848462563,
          -0.524025088165403,
          -0.27084658246781074,
          -0.30141585748538996,
          2.559640267900611,
          -0.042703092250977626,
          -0.20906403911943675,
          2.407610925473613,
          1.0341121722942022,
          0.6572222512158434,
          0.03615196925040115,
          -2.1263523689830506,
          0.009392995745776981,
          0.11888812131198284,
          -2.3579524652407784,
          -0.9359397181066504,
          -0.977754973610816,
          0.6983438396984282,
          1.1447837918961823,
          0.5654533418638055,
          0.2687799572325924,
          1.4067949473074939,
          -1.2073440595901819,
          -0.46042465045179004,
          0.017446262401839913,
          -0.11035719628476474,
          0.9083393327437022,
          2.9695244251159036,
          0.23253153626767745,
          -1.0783054539350472,
          -0.46286818854086414,
          -0.29563345565696125,
          -0.5818325605767208,
          -1.649051954742606,
          -0.3820760962331389,
          -1.0440454410902953,
          -1.3359038854516867,
          0.7918563661294269,
          -1.6327960960974712,
          1.6740818388852825,
          -0.9809737254106711,
          -0.6703365150518701,
          -2.0562670066538207,
          -0.977817306296815,
          -0.6326273855936754,
          0.37878235419273043,
          -0.8851470235875784,
          -0.3891376392321357,
          -0.8927934331388903,
          1.0163163445955445,
          -1.5545443937554906,
          -0.3365489409360031,
          0.7335503766670094,
          -1.7134840776488645,
          -0.10467893287865568,
          1.1488915111041953,
          1.1134513159380617,
          -3.3783260541421254,
          1.998267773793623,
          0.32846172379324945,
          -1.9455828432118192,
          -1.6515558310856882,
          0.36291190900526343,
          -0.1173661296710352,
          -1.3844045890091383,
          -0.8183917891567996,
          -0.6718909694162981,
          -0.83821800408124,
          -0.5422857280271912,
          -0.6003450608190035,
          1.5762503315502427,
          -0.479464554166198,
          -1.3177378481750406,
          -1.1503792964773345,
          -0.8678937085097272,
          -0.8971657876160565,
          -1.1579388237963952,
          1.76072571463102,
          -0.08617800175566181,
          0.006652764710655191,
          -0.2375872373502185,
          -1.4621597545914637,
          -1.5608674711576953,
          0.416563251676151,
          0.783099918310299,
          -0.7191883066981375,
          0.5488370896416787,
          -1.1208192456424126,
          0.5697034789664839,
          -1.4610365700436636,
          -0.6672496772067313,
          -0.4662478564748737,
          -0.48430727219236097,
          0.33172293447640455,
          1.0366397001183554,
          1.4861702696063095,
          0.5182217386560666,
          -0.014441112448429048,
          0.6842814919675354,
          1.2989668349637347,
          -1.7261472935851239,
          0.704031584687368,
          -0.005810876811149408,
          -0.024356204136846745,
          -2.365086096705321,
          1.1488638981482557,
          -1.9618554048291592,
          0.5563708555735338,
          -1.1839297538244122,
          -1.207155445252177,
          -1.4532314307608476,
          -2.263782906257685,
          0.1833728244283347,
          0.1115683386518344,
          0.7333794644331714,
          -0.08957196156384753,
          -0.8188054884540916,
          -0.48517749452045533,
          -0.1557647645171208,
          -1.3888908620604812,
          -0.2498047840357662,
          0.5003062333076741,
          -0.4743511112243684,
          -0.31667466076999223,
          -0.43628545223435394,
          0.46237792730669297,
          1.3362847722736575,
          2.119858950207839,
          -1.25767806379949,
          0.6437389774770523,
          0.7080503947117872,
          2.340317948417197,
          1.3566456483549565,
          -0.5925236941368307,
          -0.8208471325336951,
          -2.4083796747567643,
          0.9173158105534898,
          0.9173158105534898,
          0.2248676306048783,
          1.2500480157947647,
          -0.5323737351962623,
          0.8490432680386015,
          -0.7628651344437829,
          -0.2278354876236565,
          0.5476195113342806,
          1.3708548330580304,
          2.4688767163964616,
          -1.5069922172625414,
          -1.0666480454473368,
          -2.0387880810363965,
          -0.9459418899965124,
          0.8827525279313742,
          -0.5158008946518443,
          -0.8439016492253156,
          -1.1485659121450287,
          -1.0230923352699188,
          -0.6744369581915085,
          -1.687530154717865,
          -1.351067334967137,
          -0.9952801990280428,
          -1.0784791063746688,
          -0.6378121920684374,
          -1.2993449268130717,
          -1.531437415980169,
          -1.8793117963491666,
          -0.6387245337454495,
          -1.1105126197556976,
          -1.0915120022953884,
          -0.5701747598742949,
          1.3570811660775024,
          -0.6724079970191652,
          -0.2059587453470158,
          -1.713333990655488,
          0.5936355702647088,
          -0.9464182176268866,
          0.3490400516455772,
          -0.6742090848426714,
          0.007807426109369131,
          -0.3399284495561583,
          1.2137562900659264,
          -0.04430105618318367,
          0.45939646022889874,
          0.16494463402470866,
          -0.46042465045179004,
          0.8405768025606519,
          -1.866725964398452,
          0.4004149143189294,
          0.037130155516279593,
          0.340596206416952,
          -0.41019830280793523,
          -0.7617785379258935,
          -0.5479661953032865,
          1.4211856870167887,
          -0.9793543338573559,
          0.5182676370060636,
          -1.1028986842647797,
          -0.8639316116269878,
          -0.7664344594892103,
          -0.13702753941452697,
          -0.9123982248384074,
          -0.963004162320653,
          -1.7627838716464446,
          -1.1182002027811497,
          -0.7144247183949973,
          -0.608237421950908,
          0.06060737757822004,
          -1.4996711061699148,
          0.6666437332072082,
          1.1325111975925632,
          -2.05499224540736,
          1.0806283228343123,
          -0.31241822188811513,
          0.4270684192350362,
          -0.40414140496033474,
          0.292801147886972,
          1.6315159759289468,
          -0.6637947060109057,
          1.8743483274895043,
          2.4088441358642325,
          -1.1082916142289383,
          0.3067215074073402,
          0.041495458848878834,
          1.1210191399906022,
          -0.4313159595642889,
          2.08540379755763,
          -0.7551364987566418,
          -0.7727083825135453,
          -0.38066863871054013,
          0.2684612899828766,
          0.06595524067404213,
          0.34896119951336724,
          0.2335619184531121,
          -1.3528010344154286,
          0.7945248855041266,
          -0.8984742911206379,
          -0.7294135265467172,
          1.3111965073945517,
          -0.6074468623394559,
          0.5357425553994334,
          1.8079402573267662,
          2.25894466821492,
          1.5396347347950268,
          1.6954124233586838,
          0.7018299435676356,
          1.899439649525131,
          0.2786202333920781,
          -1.0497653052821472,
          3.6176202519892766,
          -0.5310765873863003,
          0.7892806646485921,
          2.053308195992198,
          0.18218504602269286,
          -0.08795453776868886,
          -0.014271872587504482,
          -0.7893197568418165,
          -1.218912947974898,
          0.7562236897352521,
          -0.3028668504603352,
          -2.3433738223453795,
          -0.3537873566724633,
          0.13545083410229924,
          -1.1600824649268695,
          -2.3614841275136413,
          -1.6300806444662237,
          -0.49529002031658265,
          -2.7414476127463767,
          -1.2528622240453064,
          -0.8542504042689856,
          -1.0102630925166947,
          -0.23140094224512125,
          -0.42302703562222693,
          -0.959806452721987,
          2.4782807846822106,
          0.7398185856392533,
          2.115015400061761,
          0.12606572920561812,
          1.0170104387043395,
          -0.3687166675779947,
          -1.7802015383595222,
          -1.2003899055122327,
          -0.22987626723484517,
          -0.6330768404318142,
          -0.9700590530068977,
          -0.5788286697730439,
          -0.4761572651501347,
          1.0116469334192726,
          -0.31589655746790357,
          0.14154307316613826,
          2.518132784128673,
          0.9223977647493106,
          0.8547656296673616,
          -0.9343442434635625,
          -0.182814418838234,
          -0.5817660099718165,
          1.5125282945519838,
          0.18331765747063652,
          -1.0435530228869911,
          -0.7315857973671834,
          -1.0336275151400187,
          0.8550696501029795,
          2.4227332037082294,
          -1.048072265418314,
          0.9592146847073759,
          1.735210428477816,
          -1.346433133024737,
          -0.5788937054846575,
          1.3417119929863217,
          1.2493797783070926,
          -0.6172823320084958,
          -0.4652101606533707,
          -0.6296272298507208,
          1.4193229384928994,
          0.9666375668111133,
          0.11319535348087427,
          0.9666375668111133,
          -0.13767750125109926,
          -0.4278472579214001,
          -0.8814232305209146,
          0.15235860519914274,
          0.2791706488972059,
          1.179678211421038,
          0.1202390667769494,
          2.3082198352900134,
          -1.2293162568229912,
          -0.33790650937367733,
          0.3013890852086082,
          -0.9434082645138046,
          -0.040733049073727726,
          -0.230871294437764,
          -0.2867424218923228,
          0.3422504110747141,
          -0.547878092493481,
          -1.6799671795774929,
          0.35478806944218283,
          -0.690715508147284,
          0.10482235228011813,
          -2.001653802926955,
          0.26939459458883236,
          1.9918771118344536,
          1.845593068520211,
          1.0504754666742901,
          0.2180657707251907,
          -0.13899119798155757,
          0.9937236187860962,
          1.0608892406561634,
          -0.9426702640748252,
          -1.3223384929979718,
          0.2301487426965413,
          1.0954065028600792,
          0.8397920849803875,
          -0.11338912497289506,
          1.8379791690157181,
          1.0793386132263154,
          -0.8792883182603126,
          -0.5763124251016452,
          -0.8003173690893647,
          0.6193353831069465,
          -0.026822529945206387,
          1.5858473789693728,
          1.3456459395911546,
          -1.6288982765454083,
          -1.3082995165892943,
          -0.6740315762020965,
          1.185367699573512,
          0.591986150609511,
          0.37678715142556535,
          3.037960811475496,
          1.4376799730710672,
          0.3404016982960879,
          -1.4219813890332431,
          1.6840108104346867,
          2.794313011915428,
          -0.044125500469182746,
          0.4671232622480291,
          1.4181641134439587,
          0.5956921231291233,
          1.046961636128838,
          0.6023925120753457,
          0.0920183316586302,
          -0.044125500469182746,
          0.88877113935506,
          -0.18294428326575574,
          0.605155025926955,
          0.6557425748723391,
          0.11397939006130325,
          -2.573741400819063,
          0.2419380545016476,
          2.2614955549743234,
          2.527720489522686,
          -0.06803339857032419,
          0.6023925120753457,
          1.98071656616265,
          1.3456459395911546,
          2.9235857469444984,
          -0.6382892394032668,
          0.2533055492472185,
          -0.29138236870626955,
          0.3640913445498609,
          1.5651519579032205,
          0.4523010536570231,
          0.7742708240121713,
          0.08546212914830514,
          -1.3087420647526327,
          -1.3395418548722695,
          0.3015601268364739,
          3.324238381772959,
          -0.5405712833438358,
          0.5543884775792385,
          2.6359700280669816,
          0.03231747906674011,
          0.6864769664750702,
          0.1485998080946461,
          -0.4437541656666661,
          2.935572216653892,
          1.9582989545333502,
          0.6840053927331341,
          -0.6359524264859946,
          -0.16133231586400343,
          0.9300643813768307,
          -0.43544635609857363,
          -1.6213202382843608,
          -1.717658764943772,
          0.8288760410227133,
          -0.5913688721651784,
          1.003771608034692,
          -0.49029098041822733,
          -0.19514138280259433,
          -0.17529665694445398,
          -0.09158270725751719,
          -3.59316005195338,
          0.013666710576748923,
          0.42620176135898263,
          -1.3410186183814117,
          -1.1620846639991922,
          -1.5118065320580338,
          -1.5879191072063101,
          -2.341056161327533,
          0.5112682046006468,
          -2.0020245820560336,
          -1.551526972954478,
          0.4060484628221667,
          0.37792984290743736,
          2.4585993611945116,
          -0.21133185687789177,
          3.0117363095387004,
          2.433902648839101,
          2.893065398391613,
          0.9532972937742364,
          -0.007779998514962536,
          -1.4353745967866307,
          -0.23019486920228371,
          -1.0474653865633954,
          -0.1719526586670382,
          -0.7280220690226712,
          2.1912943939448564,
          -1.0806087336874577,
          -0.5772207435916058,
          0.061172310780878286,
          -1.0413146747176567,
          0.13201241641583614,
          -0.058320960692549,
          -1.5524039501943139,
          -0.20101184159034605,
          -0.2751055280718924,
          -1.7471064673369057,
          -1.043399505479851,
          0.5630160162025071,
          0.03643268596543438,
          -0.023844644423806616,
          1.054278367638684,
          2.075836661412047,
          -2.221602156119404,
          -1.2942083685146888,
          -0.9160055040946825,
          1.6604593953867564,
          -2.2474535424256388,
          2.217533827317182,
          -1.4808067836918002,
          0.0649167141035911,
          -0.43653039830256607,
          -1.617861952427249,
          -0.8527351468334479,
          -1.7298906455867675,
          -0.40258981048853326,
          -1.9066400813553481,
          -1.0195907150813153,
          0.5576955897902357,
          -1.9276731101304971,
          -1.382627489679571,
          -0.46851308119084184,
          1.5431398103354497,
          0.629982911167299,
          1.372472278528092,
          -0.510535431569541,
          -0.48537544320706244,
          0.011470288717295775,
          0.7983574758893318,
          0.3991241556529012,
          -0.41060720704315073,
          -1.5796255127628929,
          -0.9355761474841551,
          -0.3964488842111784,
          0.1673313593289377,
          -0.9977810008798565,
          1.250436247114311,
          0.5662947689552696,
          1.119320322537599,
          0.1861203832449721,
          -3.059937310419258,
          -2.7812155237578646,
          0.43048511040904225,
          -0.5413110092447643,
          -0.8190143295143859,
          0.3862226346868268,
          -1.0327613022608222,
          -0.5936865434404542,
          -0.9663751883214071,
          -2.0206086560516043,
          -0.08488024531491133,
          -0.1978935274630863,
          -0.09546034014802537,
          -2.0518851439949004,
          -1.1919586260807415,
          -0.6353312494464657,
          -0.5460946541391534,
          0.5201862949981159,
          0.7880752521670259,
          0.7386370237173288,
          -0.8518368100866436,
          -0.3742935359384661,
          -0.536554309623904,
          -0.5183899369952488,
          -0.8168978234374421,
          1.1128570546814491,
          -0.2060610538005084,
          -1.1469310905312264,
          0.23453137019090378,
          -1.187990126138882,
          1.4087964407985785,
          -0.5920578945814163,
          -0.7216020477063652,
          -0.7321530433027966,
          0.052884351995956494,
          -0.21465501274842477,
          -0.00519464808716942,
          0.027159750291550166,
          0.34598531697165597,
          -1.115247573836907,
          1.8050784644106093,
          1.8736827553223587,
          1.9313292359924061,
          -1.7071778904360937,
          0.8630354320326763,
          0.17316626332834434,
          -0.7104009563545286,
          -0.2868043723771164,
          0.20625406811859306,
          1.764957013724367,
          -0.39921101726620034,
          0.027816149436323667,
          0.3057589577357556,
          0.9788034409797136,
          0.4416737143789833,
          -1.3498692130313443,
          0.5951960340087398,
          2.910796300947779,
          1.0133281696359515,
          0.8481468409485673,
          2.5628077573717474,
          -0.3920564571922896,
          0.32664561944401427,
          1.2152938959956152,
          -0.9277285480526215,
          -0.4188661604261574,
          -1.5080903468442444,
          -0.41031420318096695,
          0.10543195829278167,
          -1.1249339550953938,
          0.9817761700953019,
          1.6747029343787452,
          0.9338589652119633,
          -0.46656410442539886,
          -0.7608049124897595,
          1.8523768961268143,
          0.3163842649897751,
          -3.59316005195338,
          -2.763270025084213,
          -1.0866093138905555,
          -0.8919812482587278,
          -0.7233037620014612,
          0.08464363337939011,
          3.4050511235963796,
          0.593469644746075,
          0.19246143997039575,
          0.03979176447519193,
          -0.7720756326162113,
          0.4658857641720872,
          0.5294107495893016,
          -0.068056408244318,
          -2.6359140099814766,
          -1.4007124946383347,
          -1.7925251095229684,
          0.8607622009562828,
          1.2177791695826874,
          -1.7203013460863001,
          -0.4619777750288401,
          -0.8201718858593675,
          -0.9066978575049354,
          -0.7626047708490158,
          -0.7409865087690707,
          -0.5898468205668055,
          1.259119250722622,
          -0.9676816580959529,
          0.20514629523464806,
          0.9898986973969528,
          1.1450852212373885,
          -1.0866093138905555,
          -1.0866093138905555,
          3.037960811475496,
          1.5841862994514535,
          1.6584705340440318,
          -2.4025542663255304,
          -2.4521367009654145,
          -0.5439640850568551,
          -1.3166000939753353,
          -2.0205135487293204,
          -2.456762649110152,
          0.4945896338765612,
          -1.39336969747852,
          -1.542962270706116,
          -1.7229631656131275,
          -0.1573452689701456,
          -1.9900546986024055,
          -2.2077005957115876,
          -0.908888068913753,
          -2.2077939216827667,
          -1.7487873517148436,
          -1.3641131178593613,
          -2.5296275274976723,
          -1.9367447406871205,
          0.47293471396237957,
          -0.7328912094544238,
          -1.4176234192717128,
          0.32338930262069243,
          0.03316650634607588,
          -0.9588898822596723,
          0.42009427600095234,
          -0.2066961900677354,
          -0.5098665419657424,
          1.872943483075228,
          1.2493975120451488,
          -1.7984092624626091,
          1.6167264224033244,
          0.5446717762701344,
          -1.463675145294956,
          -0.07479259833865769,
          -0.9381735689504889,
          0.9669011022966296,
          1.0696432191272691,
          -1.361118127721709,
          -2.6337220786419375,
          1.10806313737821,
          -1.1980227293784218,
          -0.04786680155770351,
          -1.3345275442511404,
          3.368506686544024,
          -0.9362404945350273,
          -0.8348196487545181,
          0.8200179672527299,
          1.1359579825634947,
          0.8577636667838153,
          -0.054783955117147606,
          -0.4514644009713217,
          -1.0633942692248188,
          -0.9750203961444175,
          -1.135128023230621,
          -0.5971671801924326,
          0.4136042289044136,
          -0.29250917708029467,
          0.1788544688367905,
          -0.08488024531491133,
          -2.1409141233726388,
          0.850739816758268,
          0.12574862269833836,
          -0.22084197714136877,
          1.112982675978818,
          0.5178812398976359,
          2.5155035035221998,
          -0.34818165771505954,
          0.2684981535826326,
          0.26854593465480553,
          -0.3317012740573308,
          0.8173488846815293,
          1.6344369439897495,
          1.2411506503992131,
          0.8074233606648153,
          0.5764097310923907,
          -0.7462123787674081,
          0.770907329628214,
          -0.22294387533341076,
          -1.1588604027616696,
          1.0850415772638422,
          -0.7688198943043374,
          -0.5810944917335789,
          -0.6143810740934147,
          -1.4775940741644205,
          1.742383637238341,
          -0.6061055186090215,
          -1.653760986302983,
          0.7461514218013507,
          -0.7036973673822708,
          -0.030499816865526008,
          -2.35283484128356,
          1.8441304748294551,
          0.41485577299076765,
          -0.5180890894681418,
          -0.009162053229175652,
          -1.3052490003407373,
          -1.0938281214942185,
          -3.690533740888827,
          -1.3879099884797803
         ],
         "yaxis": "y"
        }
       ],
       "layout": {
        "coloraxis": {
         "colorbar": {
          "title": {
           "text": "cluster_pca"
          }
         },
         "colorscale": [
          [
           0,
           "#0d0887"
          ],
          [
           0.1111111111111111,
           "#46039f"
          ],
          [
           0.2222222222222222,
           "#7201a8"
          ],
          [
           0.3333333333333333,
           "#9c179e"
          ],
          [
           0.4444444444444444,
           "#bd3786"
          ],
          [
           0.5555555555555556,
           "#d8576b"
          ],
          [
           0.6666666666666666,
           "#ed7953"
          ],
          [
           0.7777777777777778,
           "#fb9f3a"
          ],
          [
           0.8888888888888888,
           "#fdca26"
          ],
          [
           1,
           "#f0f921"
          ]
         ]
        },
        "height": 800,
        "hovermode": "closest",
        "legend": {
         "tracegroupgap": 0
        },
        "margin": {
         "b": 0,
         "l": 0,
         "r": 0,
         "t": 40
        },
        "showlegend": true,
        "template": {
         "data": {
          "bar": [
           {
            "error_x": {
             "color": "#2a3f5f"
            },
            "error_y": {
             "color": "#2a3f5f"
            },
            "marker": {
             "line": {
              "color": "#E5ECF6",
              "width": 0.5
             },
             "pattern": {
              "fillmode": "overlay",
              "size": 10,
              "solidity": 0.2
             }
            },
            "type": "bar"
           }
          ],
          "barpolar": [
           {
            "marker": {
             "line": {
              "color": "#E5ECF6",
              "width": 0.5
             },
             "pattern": {
              "fillmode": "overlay",
              "size": 10,
              "solidity": 0.2
             }
            },
            "type": "barpolar"
           }
          ],
          "carpet": [
           {
            "aaxis": {
             "endlinecolor": "#2a3f5f",
             "gridcolor": "white",
             "linecolor": "white",
             "minorgridcolor": "white",
             "startlinecolor": "#2a3f5f"
            },
            "baxis": {
             "endlinecolor": "#2a3f5f",
             "gridcolor": "white",
             "linecolor": "white",
             "minorgridcolor": "white",
             "startlinecolor": "#2a3f5f"
            },
            "type": "carpet"
           }
          ],
          "choropleth": [
           {
            "colorbar": {
             "outlinewidth": 0,
             "ticks": ""
            },
            "type": "choropleth"
           }
          ],
          "contour": [
           {
            "colorbar": {
             "outlinewidth": 0,
             "ticks": ""
            },
            "colorscale": [
             [
              0,
              "#0d0887"
             ],
             [
              0.1111111111111111,
              "#46039f"
             ],
             [
              0.2222222222222222,
              "#7201a8"
             ],
             [
              0.3333333333333333,
              "#9c179e"
             ],
             [
              0.4444444444444444,
              "#bd3786"
             ],
             [
              0.5555555555555556,
              "#d8576b"
             ],
             [
              0.6666666666666666,
              "#ed7953"
             ],
             [
              0.7777777777777778,
              "#fb9f3a"
             ],
             [
              0.8888888888888888,
              "#fdca26"
             ],
             [
              1,
              "#f0f921"
             ]
            ],
            "type": "contour"
           }
          ],
          "contourcarpet": [
           {
            "colorbar": {
             "outlinewidth": 0,
             "ticks": ""
            },
            "type": "contourcarpet"
           }
          ],
          "heatmap": [
           {
            "colorbar": {
             "outlinewidth": 0,
             "ticks": ""
            },
            "colorscale": [
             [
              0,
              "#0d0887"
             ],
             [
              0.1111111111111111,
              "#46039f"
             ],
             [
              0.2222222222222222,
              "#7201a8"
             ],
             [
              0.3333333333333333,
              "#9c179e"
             ],
             [
              0.4444444444444444,
              "#bd3786"
             ],
             [
              0.5555555555555556,
              "#d8576b"
             ],
             [
              0.6666666666666666,
              "#ed7953"
             ],
             [
              0.7777777777777778,
              "#fb9f3a"
             ],
             [
              0.8888888888888888,
              "#fdca26"
             ],
             [
              1,
              "#f0f921"
             ]
            ],
            "type": "heatmap"
           }
          ],
          "heatmapgl": [
           {
            "colorbar": {
             "outlinewidth": 0,
             "ticks": ""
            },
            "colorscale": [
             [
              0,
              "#0d0887"
             ],
             [
              0.1111111111111111,
              "#46039f"
             ],
             [
              0.2222222222222222,
              "#7201a8"
             ],
             [
              0.3333333333333333,
              "#9c179e"
             ],
             [
              0.4444444444444444,
              "#bd3786"
             ],
             [
              0.5555555555555556,
              "#d8576b"
             ],
             [
              0.6666666666666666,
              "#ed7953"
             ],
             [
              0.7777777777777778,
              "#fb9f3a"
             ],
             [
              0.8888888888888888,
              "#fdca26"
             ],
             [
              1,
              "#f0f921"
             ]
            ],
            "type": "heatmapgl"
           }
          ],
          "histogram": [
           {
            "marker": {
             "pattern": {
              "fillmode": "overlay",
              "size": 10,
              "solidity": 0.2
             }
            },
            "type": "histogram"
           }
          ],
          "histogram2d": [
           {
            "colorbar": {
             "outlinewidth": 0,
             "ticks": ""
            },
            "colorscale": [
             [
              0,
              "#0d0887"
             ],
             [
              0.1111111111111111,
              "#46039f"
             ],
             [
              0.2222222222222222,
              "#7201a8"
             ],
             [
              0.3333333333333333,
              "#9c179e"
             ],
             [
              0.4444444444444444,
              "#bd3786"
             ],
             [
              0.5555555555555556,
              "#d8576b"
             ],
             [
              0.6666666666666666,
              "#ed7953"
             ],
             [
              0.7777777777777778,
              "#fb9f3a"
             ],
             [
              0.8888888888888888,
              "#fdca26"
             ],
             [
              1,
              "#f0f921"
             ]
            ],
            "type": "histogram2d"
           }
          ],
          "histogram2dcontour": [
           {
            "colorbar": {
             "outlinewidth": 0,
             "ticks": ""
            },
            "colorscale": [
             [
              0,
              "#0d0887"
             ],
             [
              0.1111111111111111,
              "#46039f"
             ],
             [
              0.2222222222222222,
              "#7201a8"
             ],
             [
              0.3333333333333333,
              "#9c179e"
             ],
             [
              0.4444444444444444,
              "#bd3786"
             ],
             [
              0.5555555555555556,
              "#d8576b"
             ],
             [
              0.6666666666666666,
              "#ed7953"
             ],
             [
              0.7777777777777778,
              "#fb9f3a"
             ],
             [
              0.8888888888888888,
              "#fdca26"
             ],
             [
              1,
              "#f0f921"
             ]
            ],
            "type": "histogram2dcontour"
           }
          ],
          "mesh3d": [
           {
            "colorbar": {
             "outlinewidth": 0,
             "ticks": ""
            },
            "type": "mesh3d"
           }
          ],
          "parcoords": [
           {
            "line": {
             "colorbar": {
              "outlinewidth": 0,
              "ticks": ""
             }
            },
            "type": "parcoords"
           }
          ],
          "pie": [
           {
            "automargin": true,
            "type": "pie"
           }
          ],
          "scatter": [
           {
            "fillpattern": {
             "fillmode": "overlay",
             "size": 10,
             "solidity": 0.2
            },
            "type": "scatter"
           }
          ],
          "scatter3d": [
           {
            "line": {
             "colorbar": {
              "outlinewidth": 0,
              "ticks": ""
             }
            },
            "marker": {
             "colorbar": {
              "outlinewidth": 0,
              "ticks": ""
             }
            },
            "type": "scatter3d"
           }
          ],
          "scattercarpet": [
           {
            "marker": {
             "colorbar": {
              "outlinewidth": 0,
              "ticks": ""
             }
            },
            "type": "scattercarpet"
           }
          ],
          "scattergeo": [
           {
            "marker": {
             "colorbar": {
              "outlinewidth": 0,
              "ticks": ""
             }
            },
            "type": "scattergeo"
           }
          ],
          "scattergl": [
           {
            "marker": {
             "colorbar": {
              "outlinewidth": 0,
              "ticks": ""
             }
            },
            "type": "scattergl"
           }
          ],
          "scattermapbox": [
           {
            "marker": {
             "colorbar": {
              "outlinewidth": 0,
              "ticks": ""
             }
            },
            "type": "scattermapbox"
           }
          ],
          "scatterpolar": [
           {
            "marker": {
             "colorbar": {
              "outlinewidth": 0,
              "ticks": ""
             }
            },
            "type": "scatterpolar"
           }
          ],
          "scatterpolargl": [
           {
            "marker": {
             "colorbar": {
              "outlinewidth": 0,
              "ticks": ""
             }
            },
            "type": "scatterpolargl"
           }
          ],
          "scatterternary": [
           {
            "marker": {
             "colorbar": {
              "outlinewidth": 0,
              "ticks": ""
             }
            },
            "type": "scatterternary"
           }
          ],
          "surface": [
           {
            "colorbar": {
             "outlinewidth": 0,
             "ticks": ""
            },
            "colorscale": [
             [
              0,
              "#0d0887"
             ],
             [
              0.1111111111111111,
              "#46039f"
             ],
             [
              0.2222222222222222,
              "#7201a8"
             ],
             [
              0.3333333333333333,
              "#9c179e"
             ],
             [
              0.4444444444444444,
              "#bd3786"
             ],
             [
              0.5555555555555556,
              "#d8576b"
             ],
             [
              0.6666666666666666,
              "#ed7953"
             ],
             [
              0.7777777777777778,
              "#fb9f3a"
             ],
             [
              0.8888888888888888,
              "#fdca26"
             ],
             [
              1,
              "#f0f921"
             ]
            ],
            "type": "surface"
           }
          ],
          "table": [
           {
            "cells": {
             "fill": {
              "color": "#EBF0F8"
             },
             "line": {
              "color": "white"
             }
            },
            "header": {
             "fill": {
              "color": "#C8D4E3"
             },
             "line": {
              "color": "white"
             }
            },
            "type": "table"
           }
          ]
         },
         "layout": {
          "annotationdefaults": {
           "arrowcolor": "#2a3f5f",
           "arrowhead": 0,
           "arrowwidth": 1
          },
          "autotypenumbers": "strict",
          "coloraxis": {
           "colorbar": {
            "outlinewidth": 0,
            "ticks": ""
           }
          },
          "colorscale": {
           "diverging": [
            [
             0,
             "#8e0152"
            ],
            [
             0.1,
             "#c51b7d"
            ],
            [
             0.2,
             "#de77ae"
            ],
            [
             0.3,
             "#f1b6da"
            ],
            [
             0.4,
             "#fde0ef"
            ],
            [
             0.5,
             "#f7f7f7"
            ],
            [
             0.6,
             "#e6f5d0"
            ],
            [
             0.7,
             "#b8e186"
            ],
            [
             0.8,
             "#7fbc41"
            ],
            [
             0.9,
             "#4d9221"
            ],
            [
             1,
             "#276419"
            ]
           ],
           "sequential": [
            [
             0,
             "#0d0887"
            ],
            [
             0.1111111111111111,
             "#46039f"
            ],
            [
             0.2222222222222222,
             "#7201a8"
            ],
            [
             0.3333333333333333,
             "#9c179e"
            ],
            [
             0.4444444444444444,
             "#bd3786"
            ],
            [
             0.5555555555555556,
             "#d8576b"
            ],
            [
             0.6666666666666666,
             "#ed7953"
            ],
            [
             0.7777777777777778,
             "#fb9f3a"
            ],
            [
             0.8888888888888888,
             "#fdca26"
            ],
            [
             1,
             "#f0f921"
            ]
           ],
           "sequentialminus": [
            [
             0,
             "#0d0887"
            ],
            [
             0.1111111111111111,
             "#46039f"
            ],
            [
             0.2222222222222222,
             "#7201a8"
            ],
            [
             0.3333333333333333,
             "#9c179e"
            ],
            [
             0.4444444444444444,
             "#bd3786"
            ],
            [
             0.5555555555555556,
             "#d8576b"
            ],
            [
             0.6666666666666666,
             "#ed7953"
            ],
            [
             0.7777777777777778,
             "#fb9f3a"
            ],
            [
             0.8888888888888888,
             "#fdca26"
            ],
            [
             1,
             "#f0f921"
            ]
           ]
          },
          "colorway": [
           "#636efa",
           "#EF553B",
           "#00cc96",
           "#ab63fa",
           "#FFA15A",
           "#19d3f3",
           "#FF6692",
           "#B6E880",
           "#FF97FF",
           "#FECB52"
          ],
          "font": {
           "color": "#2a3f5f"
          },
          "geo": {
           "bgcolor": "white",
           "lakecolor": "white",
           "landcolor": "#E5ECF6",
           "showlakes": true,
           "showland": true,
           "subunitcolor": "white"
          },
          "hoverlabel": {
           "align": "left"
          },
          "hovermode": "closest",
          "mapbox": {
           "style": "light"
          },
          "paper_bgcolor": "white",
          "plot_bgcolor": "#E5ECF6",
          "polar": {
           "angularaxis": {
            "gridcolor": "white",
            "linecolor": "white",
            "ticks": ""
           },
           "bgcolor": "#E5ECF6",
           "radialaxis": {
            "gridcolor": "white",
            "linecolor": "white",
            "ticks": ""
           }
          },
          "scene": {
           "xaxis": {
            "backgroundcolor": "#E5ECF6",
            "gridcolor": "white",
            "gridwidth": 2,
            "linecolor": "white",
            "showbackground": true,
            "ticks": "",
            "zerolinecolor": "white"
           },
           "yaxis": {
            "backgroundcolor": "#E5ECF6",
            "gridcolor": "white",
            "gridwidth": 2,
            "linecolor": "white",
            "showbackground": true,
            "ticks": "",
            "zerolinecolor": "white"
           },
           "zaxis": {
            "backgroundcolor": "#E5ECF6",
            "gridcolor": "white",
            "gridwidth": 2,
            "linecolor": "white",
            "showbackground": true,
            "ticks": "",
            "zerolinecolor": "white"
           }
          },
          "shapedefaults": {
           "line": {
            "color": "#2a3f5f"
           }
          },
          "ternary": {
           "aaxis": {
            "gridcolor": "white",
            "linecolor": "white",
            "ticks": ""
           },
           "baxis": {
            "gridcolor": "white",
            "linecolor": "white",
            "ticks": ""
           },
           "bgcolor": "#E5ECF6",
           "caxis": {
            "gridcolor": "white",
            "linecolor": "white",
            "ticks": ""
           }
          },
          "title": {
           "x": 0.05
          },
          "xaxis": {
           "automargin": true,
           "gridcolor": "white",
           "linecolor": "white",
           "ticks": "",
           "title": {
            "standoff": 15
           },
           "zerolinecolor": "white",
           "zerolinewidth": 2
          },
          "yaxis": {
           "automargin": true,
           "gridcolor": "white",
           "linecolor": "white",
           "ticks": "",
           "title": {
            "standoff": 15
           },
           "zerolinecolor": "white",
           "zerolinewidth": 2
          }
         }
        },
        "title": {
         "text": "Genre Clusters Visualization"
        },
        "xaxis": {
         "anchor": "y",
         "domain": [
          0,
          1
         ],
         "title": {
          "text": "PCA Component 1"
         }
        },
        "yaxis": {
         "anchor": "x",
         "domain": [
          0,
          1
         ],
         "title": {
          "text": "PCA Component 2"
         }
        }
       }
      }
     },
     "metadata": {},
     "output_type": "display_data"
    }
   ],
   "source": [
    "# Interactive plot for Genre Clusters\n",
    "import plotly.express as px\n",
    "import plotly.graph_objects as go\n",
    "fig = px.scatter(\n",
    "    projection, x='x', y='y', color='cluster_pca',hover_data='generos',\n",
    "    title='Genre Clusters Visualization', labels={'x': 'PCA Component 1', 'y': 'PCA Component 2'}\n",
    ")\n",
    "\n",
    "# Adding hover information\n",
    "fig.update_traces(marker=dict(size=5), selector=dict(mode='markers+text'))\n",
    "\n",
    "fig.update_layout(\n",
    "    hovermode='closest',\n",
    "    margin=dict(l=0, r=0, t=40, b=0),\n",
    "    height=800,\n",
    "    showlegend=True\n",
    "\n",
    ")"
   ]
  },
  {
   "cell_type": "code",
   "execution_count": 42,
   "metadata": {},
   "outputs": [],
   "source": [
    "def Recomendador_Musica(nome_musica):\n",
    "    from sklearn.metrics.pairwise import euclidean_distances\n",
    "\n",
    "    #Buscando elemetos de menor distância do nosso parametro\n",
    "    cluster = list(projection_m[projection_m['song']== nome_musica]['cluster_pca'])[0]\n",
    "    \n",
    "    musicas_recomendadas = projection_m[projection_m['cluster_pca']== cluster][[0, 1, 'song']]\n",
    "    x_musica = list(projection_m[projection_m['song']== nome_musica][0])[0]\n",
    "    y_musica = list(projection_m[projection_m['song']== nome_musica][1])[0]\n",
    "\n",
    "    #distâncias euclidianas\n",
    "    distancias = euclidean_distances(musicas_recomendadas[[0, 1]], [[x_musica, y_musica]])\n",
    "    musicas_recomendadas['id'] = dados['id']\n",
    "    musicas_recomendadas['distancias']= distancias\n",
    "    recomendada = musicas_recomendadas.sort_values('distancias').head(10)\n",
    "    muscias_validas = recomendada['song'].to_string(index=False)\n",
    "    \n",
    "    return muscias_validas\n"
   ]
  },
  {
   "cell_type": "code",
   "execution_count": 43,
   "metadata": {},
   "outputs": [
    {
     "name": "stdout",
     "output_type": "stream",
     "text": [
      "Aqui estão algumas que você deve ouvir em seguida: \n",
      "Disturbed - Down with the Sickness\n",
      "        Disturbed - Open Your Eyes\n",
      "              Disturbed - Liberate\n",
      "                Disturbed - Voices\n",
      "              Disturbed - Criminal\n",
      "      Disturbed - The Vengeful One\n",
      "         Disturbed - Are You Ready\n",
      "          Disturbed - Immortalized\n",
      "             Disturbed - The Light\n",
      "              Disturbed - The Game\n"
     ]
    }
   ],
   "source": [
    "nome_musica = str(input(\"Qual música você acabou de ouvir: \"))\n",
    "\n",
    "\n",
    "print(\"Aqui estão algumas que você deve ouvir em seguida: \\n{}\".format(Recomendador_Musica(nome_musica)))\n",
    "\n",
    "     "
   ]
  }
 ],
 "metadata": {
  "kernelspec": {
   "display_name": "Python 3",
   "language": "python",
   "name": "python3"
  },
  "language_info": {
   "codemirror_mode": {
    "name": "ipython",
    "version": 3
   },
   "file_extension": ".py",
   "mimetype": "text/x-python",
   "name": "python",
   "nbconvert_exporter": "python",
   "pygments_lexer": "ipython3",
   "version": "3.10.12"
  }
 },
 "nbformat": 4,
 "nbformat_minor": 2
}
